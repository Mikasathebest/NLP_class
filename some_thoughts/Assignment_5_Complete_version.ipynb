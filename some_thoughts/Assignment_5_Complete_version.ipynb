{
 "cells": [
  {
   "cell_type": "code",
   "execution_count": 8,
   "metadata": {},
   "outputs": [],
   "source": [
    "import pandas as pd"
   ]
  },
  {
   "cell_type": "code",
   "execution_count": 9,
   "metadata": {},
   "outputs": [],
   "source": [
    "content = pd.read_csv('../data/sqlResult_1558435.csv',encoding='gb18030')"
   ]
  },
  {
   "cell_type": "code",
   "execution_count": 10,
   "metadata": {},
   "outputs": [
    {
     "name": "stdout",
     "output_type": "stream",
     "text": [
      "89611\n"
     ]
    }
   ],
   "source": [
    "print(len(content))"
   ]
  },
  {
   "cell_type": "code",
   "execution_count": 11,
   "metadata": {},
   "outputs": [
    {
     "data": {
      "text/html": [
       "<div>\n",
       "<style scoped>\n",
       "    .dataframe tbody tr th:only-of-type {\n",
       "        vertical-align: middle;\n",
       "    }\n",
       "\n",
       "    .dataframe tbody tr th {\n",
       "        vertical-align: top;\n",
       "    }\n",
       "\n",
       "    .dataframe thead th {\n",
       "        text-align: right;\n",
       "    }\n",
       "</style>\n",
       "<table border=\"1\" class=\"dataframe\">\n",
       "  <thead>\n",
       "    <tr style=\"text-align: right;\">\n",
       "      <th></th>\n",
       "      <th>id</th>\n",
       "      <th>author</th>\n",
       "      <th>source</th>\n",
       "      <th>content</th>\n",
       "      <th>feature</th>\n",
       "      <th>title</th>\n",
       "      <th>url</th>\n",
       "    </tr>\n",
       "  </thead>\n",
       "  <tbody>\n",
       "    <tr>\n",
       "      <th>0</th>\n",
       "      <td>89617</td>\n",
       "      <td></td>\n",
       "      <td>快科技@http://www.kkj.cn/</td>\n",
       "      <td>此外，自本周（6月12日）起，除小米手机6等15款机型外，其余机型已暂停更新发布（含开发版/...</td>\n",
       "      <td>{\"type\":\"科技\",\"site\":\"cnbeta\",\"commentNum\":\"37\"...</td>\n",
       "      <td>小米MIUI 9首批机型曝光：共计15款</td>\n",
       "      <td>http://www.cnbeta.com/articles/tech/623597.htm</td>\n",
       "    </tr>\n",
       "    <tr>\n",
       "      <th>1</th>\n",
       "      <td>89616</td>\n",
       "      <td></td>\n",
       "      <td>快科技@http://www.kkj.cn/</td>\n",
       "      <td>骁龙835作为唯一通过Windows 10桌面平台认证的ARM处理器，高通强调，不会因为只考...</td>\n",
       "      <td>{\"type\":\"科技\",\"site\":\"cnbeta\",\"commentNum\":\"15\"...</td>\n",
       "      <td>骁龙835在Windows 10上的性能表现有望改善</td>\n",
       "      <td>http://www.cnbeta.com/articles/tech/623599.htm</td>\n",
       "    </tr>\n",
       "    <tr>\n",
       "      <th>2</th>\n",
       "      <td>89615</td>\n",
       "      <td></td>\n",
       "      <td>快科技@http://www.kkj.cn/</td>\n",
       "      <td>此前的一加3T搭载的是3400mAh电池，DashCharge快充规格为5V/4A。\\r\\n...</td>\n",
       "      <td>{\"type\":\"科技\",\"site\":\"cnbeta\",\"commentNum\":\"18\"...</td>\n",
       "      <td>一加手机5细节曝光：3300mAh、充半小时用1天</td>\n",
       "      <td>http://www.cnbeta.com/articles/tech/623601.htm</td>\n",
       "    </tr>\n",
       "  </tbody>\n",
       "</table>\n",
       "</div>"
      ],
      "text/plain": [
       "      id author                  source  \\\n",
       "0  89617         快科技@http://www.kkj.cn/   \n",
       "1  89616         快科技@http://www.kkj.cn/   \n",
       "2  89615         快科技@http://www.kkj.cn/   \n",
       "\n",
       "                                             content  \\\n",
       "0  此外，自本周（6月12日）起，除小米手机6等15款机型外，其余机型已暂停更新发布（含开发版/...   \n",
       "1  骁龙835作为唯一通过Windows 10桌面平台认证的ARM处理器，高通强调，不会因为只考...   \n",
       "2  此前的一加3T搭载的是3400mAh电池，DashCharge快充规格为5V/4A。\\r\\n...   \n",
       "\n",
       "                                             feature  \\\n",
       "0  {\"type\":\"科技\",\"site\":\"cnbeta\",\"commentNum\":\"37\"...   \n",
       "1  {\"type\":\"科技\",\"site\":\"cnbeta\",\"commentNum\":\"15\"...   \n",
       "2  {\"type\":\"科技\",\"site\":\"cnbeta\",\"commentNum\":\"18\"...   \n",
       "\n",
       "                        title                                             url  \n",
       "0        小米MIUI 9首批机型曝光：共计15款  http://www.cnbeta.com/articles/tech/623597.htm  \n",
       "1  骁龙835在Windows 10上的性能表现有望改善  http://www.cnbeta.com/articles/tech/623599.htm  \n",
       "2   一加手机5细节曝光：3300mAh、充半小时用1天  http://www.cnbeta.com/articles/tech/623601.htm  "
      ]
     },
     "execution_count": 11,
     "metadata": {},
     "output_type": "execute_result"
    }
   ],
   "source": [
    "content.fillna('',inplace=True)\n",
    "content.head()[:3]"
   ]
  },
  {
   "cell_type": "code",
   "execution_count": 12,
   "metadata": {},
   "outputs": [
    {
     "data": {
      "text/plain": [
       "'此外，自本周（6月12日）起，除小米手机6等15款机型外，其余机型已暂停更新发布（含开发版/体验版内测，稳定版暂不受影响），以确保工程师可以集中全部精力进行系统优化工作。有人猜测这也是将精力主要用到MIUI 9的研发之中。\\r\\nMIUI 8去年5月发布，距今已有一年有余，也是时候更新换代了。\\r\\n当然，关于MIUI 9的确切信息，我们还是等待官方消息。\\r\\n'"
      ]
     },
     "execution_count": 12,
     "metadata": {},
     "output_type": "execute_result"
    }
   ],
   "source": [
    "new_content = content.content.to_list()\n",
    "new_content[0]"
   ]
  },
  {
   "cell_type": "code",
   "execution_count": 13,
   "metadata": {},
   "outputs": [],
   "source": [
    "import jieba\n",
    "def cut(string): return ' '.join(jieba.cut(string))"
   ]
  },
  {
   "cell_type": "code",
   "execution_count": 14,
   "metadata": {},
   "outputs": [
    {
     "name": "stderr",
     "output_type": "stream",
     "text": [
      "Building prefix dict from the default dictionary ...\n",
      "Loading model from cache C:\\Users\\60230\\AppData\\Local\\Temp\\jieba.cache\n",
      "Loading model cost 0.831 seconds.\n",
      "Prefix dict has been built succesfully.\n"
     ]
    },
    {
     "data": {
      "text/plain": [
       "'这是 一个 测试'"
      ]
     },
     "execution_count": 14,
     "metadata": {},
     "output_type": "execute_result"
    }
   ],
   "source": [
    "cut('这是一个测试')"
   ]
  },
  {
   "cell_type": "code",
   "execution_count": 15,
   "metadata": {},
   "outputs": [],
   "source": [
    "import re\n",
    "def token(string): return re.findall(r'[\\d|\\w]+',string)"
   ]
  },
  {
   "cell_type": "code",
   "execution_count": 16,
   "metadata": {},
   "outputs": [
    {
     "data": {
      "text/plain": [
       "['这是一个测试']"
      ]
     },
     "execution_count": 16,
     "metadata": {},
     "output_type": "execute_result"
    }
   ],
   "source": [
    "token('这是一个测试\\n\\r')"
   ]
  },
  {
   "cell_type": "code",
   "execution_count": 17,
   "metadata": {},
   "outputs": [],
   "source": [
    "new_content = [token(l) for l in new_content]"
   ]
  },
  {
   "cell_type": "code",
   "execution_count": 18,
   "metadata": {},
   "outputs": [
    {
     "data": {
      "text/plain": [
       "['此外',\n",
       " '自本周',\n",
       " '6月12日',\n",
       " '起',\n",
       " '除小米手机6等15款机型外',\n",
       " '其余机型已暂停更新发布',\n",
       " '含开发版',\n",
       " '体验版内测',\n",
       " '稳定版暂不受影响',\n",
       " '以确保工程师可以集中全部精力进行系统优化工作',\n",
       " '有人猜测这也是将精力主要用到MIUI',\n",
       " '9的研发之中',\n",
       " 'MIUI',\n",
       " '8去年5月发布',\n",
       " '距今已有一年有余',\n",
       " '也是时候更新换代了',\n",
       " '当然',\n",
       " '关于MIUI',\n",
       " '9的确切信息',\n",
       " '我们还是等待官方消息']"
      ]
     },
     "execution_count": 18,
     "metadata": {},
     "output_type": "execute_result"
    }
   ],
   "source": [
    "new_content[0]"
   ]
  },
  {
   "cell_type": "code",
   "execution_count": 19,
   "metadata": {},
   "outputs": [],
   "source": [
    "new_content = [''.join(l) for l in new_content]"
   ]
  },
  {
   "cell_type": "code",
   "execution_count": 20,
   "metadata": {},
   "outputs": [
    {
     "data": {
      "text/plain": [
       "'此外自本周6月12日起除小米手机6等15款机型外其余机型已暂停更新发布含开发版体验版内测稳定版暂不受影响以确保工程师可以集中全部精力进行系统优化工作有人猜测这也是将精力主要用到MIUI9的研发之中MIUI8去年5月发布距今已有一年有余也是时候更新换代了当然关于MIUI9的确切信息我们还是等待官方消息'"
      ]
     },
     "execution_count": 20,
     "metadata": {},
     "output_type": "execute_result"
    }
   ],
   "source": [
    "new_content[0]"
   ]
  },
  {
   "cell_type": "code",
   "execution_count": 21,
   "metadata": {},
   "outputs": [],
   "source": [
    "new_content = [cut(l) for l in new_content]"
   ]
  },
  {
   "cell_type": "code",
   "execution_count": 22,
   "metadata": {},
   "outputs": [
    {
     "data": {
      "text/plain": [
       "'此外 自 本周 6 月 12 日起 除 小米 手机 6 等 15 款 机型 外 其余 机型 已 暂停 更新 发布 含 开发 版 体验版 内测 稳定版 暂不受 影响 以 确保 工程师 可以 集中 全部 精力 进行 系统优化 工作 有人 猜测 这 也 是 将 精力 主要 用到 MIUI9 的 研发 之中 MIUI8 去年 5 月 发布 距今已有 一年 有余 也 是 时候 更新换代 了 当然 关于 MIUI9 的 确切 信息 我们 还是 等待 官方消息'"
      ]
     },
     "execution_count": 22,
     "metadata": {},
     "output_type": "execute_result"
    }
   ],
   "source": [
    "new_content[0]"
   ]
  },
  {
   "cell_type": "code",
   "execution_count": 23,
   "metadata": {},
   "outputs": [
    {
     "name": "stdout",
     "output_type": "stream",
     "text": [
      "0\n",
      "20000\n",
      "40000\n",
      "60000\n",
      "80000\n",
      "Done\n"
     ]
    }
   ],
   "source": [
    "with open('../data/cut_content.txt','w',encoding='utf-8') as fout:\n",
    "    for i,line in enumerate(new_content):\n",
    "        if i%20000 == 0: print(i)\n",
    "        fout.write(line + '\\n')\n",
    "    print('Done')"
   ]
  },
  {
   "cell_type": "markdown",
   "metadata": {},
   "source": [
    "## 这里切词完成了，接下来进行word2vec词向量转换"
   ]
  },
  {
   "cell_type": "code",
   "execution_count": 17,
   "metadata": {},
   "outputs": [],
   "source": [
    "from gensim.models.word2vec import Word2Vec, LineSentence"
   ]
  },
  {
   "cell_type": "markdown",
   "metadata": {},
   "source": [
    "**这里切词太慢，我放在AI studio上切好了**"
   ]
  },
  {
   "cell_type": "code",
   "execution_count": null,
   "metadata": {},
   "outputs": [],
   "source": [
    "#切词\n",
    "news_w2v = Word2Vec(LineSentence('../data/cut_content.txt'),size=100,workers = 8)"
   ]
  },
  {
   "cell_type": "code",
   "execution_count": 18,
   "metadata": {},
   "outputs": [],
   "source": [
    "from gensim import models\n",
    "news_w2v = models.Word2Vec.load(\"../data/news_content_wv\")"
   ]
  },
  {
   "cell_type": "code",
   "execution_count": 19,
   "metadata": {},
   "outputs": [
    {
     "data": {
      "text/plain": [
       "[('OPPO', 0.772564172744751),\n",
       " ('华为', 0.7322054505348206),\n",
       " ('苹果', 0.7308238744735718),\n",
       " ('格力', 0.7097365856170654),\n",
       " ('亚马逊', 0.7049881219863892),\n",
       " ('家电', 0.6772398352622986),\n",
       " ('京东', 0.673907995223999),\n",
       " ('三星', 0.6700971126556396),\n",
       " ('诺基亚', 0.6689715385437012),\n",
       " ('富士康', 0.6643304824829102)]"
      ]
     },
     "execution_count": 19,
     "metadata": {},
     "output_type": "execute_result"
    }
   ],
   "source": [
    "news_w2v.wv.most_similar('小米')"
   ]
  },
  {
   "cell_type": "code",
   "execution_count": 20,
   "metadata": {},
   "outputs": [
    {
     "data": {
      "text/plain": [
       "[('表示', 0.8313614130020142),\n",
       " ('认为', 0.7713284492492676),\n",
       " ('指出', 0.7618865966796875),\n",
       " ('告诉', 0.7600811719894409),\n",
       " ('坦言', 0.7169937491416931),\n",
       " ('看来', 0.6933884620666504),\n",
       " ('称', 0.6499497890472412),\n",
       " ('明说', 0.6462492942810059),\n",
       " ('介绍', 0.6341145038604736),\n",
       " ('中说', 0.6337442994117737),\n",
       " ('透露', 0.6268436908721924),\n",
       " ('所说', 0.6112016439437866),\n",
       " ('文说', 0.6095285415649414),\n",
       " ('强调', 0.5894920825958252),\n",
       " ('时说', 0.5286293029785156),\n",
       " ('地说', 0.5276984572410583),\n",
       " ('写道', 0.5167466402053833),\n",
       " ('的话', 0.5067312717437744),\n",
       " ('说道', 0.49823087453842163),\n",
       " ('提到', 0.4981098771095276)]"
      ]
     },
     "execution_count": 20,
     "metadata": {},
     "output_type": "execute_result"
    }
   ],
   "source": [
    "news_w2v.wv.most_similar('说',topn=20)"
   ]
  },
  {
   "cell_type": "markdown",
   "metadata": {},
   "source": [
    "## 上面是用word2vec的方法找近义词，接下来用图搜索的方法找近义词，进行对比"
   ]
  },
  {
   "cell_type": "code",
   "execution_count": 21,
   "metadata": {},
   "outputs": [],
   "source": [
    "from collections import defaultdict\n",
    "def get_related_words(init_words, model):\n",
    "    \n",
    "    unseen = init_words\n",
    "    seen = defaultdict(int)\n",
    "    max_size = 500\n",
    "    \n",
    "    while unseen and len(seen) < max_size:\n",
    "        if len(seen) % 50 == 0:\n",
    "            print('seen length : {0}'.format(len(seen)))\n",
    "        \n",
    "        node = unseen.pop(0)\n",
    "        new_expanding = [w for w, _ in model.wv.most_similar(node, topn=20)]\n",
    "        unseen += new_expanding\n",
    "        seen[node] += 1\n",
    "        #这里可以优化，利用 A* search or heuristic search\n",
    "        #加上Dynamic Programming\n",
    "        \n",
    "    return seen"
   ]
  },
  {
   "cell_type": "code",
   "execution_count": 22,
   "metadata": {},
   "outputs": [
    {
     "data": {
      "text/plain": [
       "97927"
      ]
     },
     "execution_count": 22,
     "metadata": {},
     "output_type": "execute_result"
    }
   ],
   "source": [
    "len(news_w2v.wv.vocab)"
   ]
  },
  {
   "cell_type": "code",
   "execution_count": 23,
   "metadata": {},
   "outputs": [
    {
     "data": {
      "text/plain": [
       "(97927, 100)"
      ]
     },
     "execution_count": 23,
     "metadata": {},
     "output_type": "execute_result"
    }
   ],
   "source": [
    "news_w2v.wv.vectors.shape"
   ]
  },
  {
   "cell_type": "code",
   "execution_count": 24,
   "metadata": {},
   "outputs": [
    {
     "name": "stdout",
     "output_type": "stream",
     "text": [
      "seen length : 0\n",
      "seen length : 50\n",
      "seen length : 50\n",
      "seen length : 50\n",
      "seen length : 50\n",
      "seen length : 100\n",
      "seen length : 150\n",
      "seen length : 200\n",
      "seen length : 200\n",
      "seen length : 200\n",
      "seen length : 200\n",
      "seen length : 250\n",
      "seen length : 300\n",
      "seen length : 350\n",
      "seen length : 400\n",
      "seen length : 400\n",
      "seen length : 450\n"
     ]
    }
   ],
   "source": [
    "related_word = get_related_words(['说','表示'], news_w2v)"
   ]
  },
  {
   "cell_type": "code",
   "execution_count": 25,
   "metadata": {},
   "outputs": [
    {
     "data": {
      "text/plain": [
       "[('表示', 98),\n",
       " ('指出', 90),\n",
       " ('坦言', 89),\n",
       " ('说', 85),\n",
       " ('认为', 79),\n",
       " ('告诉', 69),\n",
       " ('看来', 57),\n",
       " ('透露', 54),\n",
       " ('所说', 52),\n",
       " ('介绍', 47),\n",
       " ('称', 44),\n",
       " ('中说', 44),\n",
       " ('明说', 43),\n",
       " ('强调', 41),\n",
       " ('直言', 41),\n",
       " ('提到', 40),\n",
       " ('说道', 35),\n",
       " ('文说', 34),\n",
       " ('提及', 32),\n",
       " ('写道', 31)]"
      ]
     },
     "execution_count": 25,
     "metadata": {},
     "output_type": "execute_result"
    }
   ],
   "source": [
    "sorted(related_word.items(), key=lambda x:x[1],reverse=True)[:20]"
   ]
  },
  {
   "cell_type": "markdown",
   "metadata": {},
   "source": [
    "## TF-IDF 得到文本关键字(接下来还要做TFIDF的文本向量化"
   ]
  },
  {
   "cell_type": "code",
   "execution_count": 58,
   "metadata": {},
   "outputs": [
    {
     "data": {
      "text/plain": [
       "'此外 自 本周 6 月 12 日起 除 小米 手机 6 等 15 款 机型 外 其余 机型 已 暂停 更新 发布 含 开发 版 体验版 内测 稳定版 暂不受 影响 以 确保 工程师 可以 集中 全部 精力 进行 系统优化 工作 有人 猜测 这 也 是 将 精力 主要 用到 MIUI9 的 研发 之中 MIUI8 去年 5 月 发布 距今已有 一年 有余 也 是 时候 更新换代 了 当然 关于 MIUI9 的 确切 信息 我们 还是 等待 官方消息'"
      ]
     },
     "execution_count": 58,
     "metadata": {},
     "output_type": "execute_result"
    }
   ],
   "source": [
    "new_content[0]"
   ]
  },
  {
   "cell_type": "code",
   "execution_count": 26,
   "metadata": {},
   "outputs": [],
   "source": [
    "def document_frequency(word):\n",
    "    return sum(1 for n in new_content if word in n)"
   ]
  },
  {
   "cell_type": "code",
   "execution_count": 27,
   "metadata": {},
   "outputs": [
    {
     "data": {
      "text/plain": [
       "100"
      ]
     },
     "execution_count": 27,
     "metadata": {},
     "output_type": "execute_result"
    }
   ],
   "source": [
    "document_frequency('小米')"
   ]
  },
  {
   "cell_type": "code",
   "execution_count": 28,
   "metadata": {},
   "outputs": [
    {
     "data": {
      "text/plain": [
       "70342"
      ]
     },
     "execution_count": 28,
     "metadata": {},
     "output_type": "execute_result"
    }
   ],
   "source": [
    "document_frequency('的')"
   ]
  },
  {
   "cell_type": "code",
   "execution_count": 29,
   "metadata": {},
   "outputs": [],
   "source": [
    "import math"
   ]
  },
  {
   "cell_type": "code",
   "execution_count": 35,
   "metadata": {},
   "outputs": [],
   "source": [
    "#Inverse Document Frequency 逆文本频率 log（总文件数/单词出现的文件数）\n",
    "def idf(word):\n",
    "    eps = 1e-5\n",
    "    return math.log10(len(new_content)) / (document_frequency(word)+eps)"
   ]
  },
  {
   "cell_type": "code",
   "execution_count": 38,
   "metadata": {},
   "outputs": [],
   "source": [
    "#Term Frequency 词频 表示在一篇文章中出现的次数\n",
    "def tf(word, document):\n",
    "    words = document.split()\n",
    "    return words.count(word)/len(words)"
   ]
  },
  {
   "cell_type": "code",
   "execution_count": 39,
   "metadata": {},
   "outputs": [
    {
     "data": {
      "text/plain": [
       "0.02631578947368421"
      ]
     },
     "execution_count": 39,
     "metadata": {},
     "output_type": "execute_result"
    }
   ],
   "source": [
    "tf('的',new_content[0])"
   ]
  },
  {
   "cell_type": "code",
   "execution_count": 40,
   "metadata": {},
   "outputs": [
    {
     "data": {
      "text/plain": [
       "0.013157894736842105"
      ]
     },
     "execution_count": 40,
     "metadata": {},
     "output_type": "execute_result"
    }
   ],
   "source": [
    "tf('小米',new_content[0])"
   ]
  },
  {
   "cell_type": "code",
   "execution_count": 41,
   "metadata": {},
   "outputs": [],
   "source": [
    "def tf_idf(word, content):\n",
    "    w_tf = tf(word, content)\n",
    "    w_idf = idf(word)\n",
    "    return w_tf*w_idf"
   ]
  },
  {
   "cell_type": "code",
   "execution_count": 44,
   "metadata": {},
   "outputs": [
    {
     "data": {
      "text/plain": [
       "False"
      ]
     },
     "execution_count": 44,
     "metadata": {},
     "output_type": "execute_result"
    }
   ],
   "source": [
    "tf_idf('的',new_content[0])>tf_idf('小米',new_content[0])"
   ]
  },
  {
   "cell_type": "code",
   "execution_count": 48,
   "metadata": {},
   "outputs": [],
   "source": [
    "def get_keyword_of_document(document):\n",
    "    words = set(document.split())\n",
    "    importance = {\n",
    "        w:tf_idf(w,document) for w in words\n",
    "    }\n",
    "    return sorted(importance.items(),key=lambda x:x[1],reverse=True)"
   ]
  },
  {
   "cell_type": "code",
   "execution_count": 50,
   "metadata": {},
   "outputs": [
    {
     "data": {
      "text/plain": [
       "[('MIUI9', 0.13032399475459122),\n",
       " ('暂不受', 0.06516199737729561),\n",
       " ('系统优化', 0.06516199737729561),\n",
       " ('稳定版', 0.06516199737729561),\n",
       " ('体验版', 0.06516199737729561),\n",
       " ('MIUI8', 0.06516199737729561),\n",
       " ('内测', 0.010860423398839233),\n",
       " ('官方消息', 0.006516258383468555),\n",
       " ('距今已有', 0.0031029818079738717),\n",
       " ('更新换代', 0.00197462512881873)]"
      ]
     },
     "execution_count": 50,
     "metadata": {},
     "output_type": "execute_result"
    }
   ],
   "source": [
    "get_keyword_of_document(new_content[0])[:10]"
   ]
  },
  {
   "cell_type": "markdown",
   "metadata": {},
   "source": [
    "## wordcloud 词云"
   ]
  },
  {
   "cell_type": "code",
   "execution_count": 59,
   "metadata": {},
   "outputs": [],
   "source": [
    "import wordcloud"
   ]
  },
  {
   "cell_type": "code",
   "execution_count": 166,
   "metadata": {},
   "outputs": [],
   "source": [
    "wc = wordcloud.WordCloud('../data/SourceHanSerifSC-Regular.otf')"
   ]
  },
  {
   "cell_type": "code",
   "execution_count": 167,
   "metadata": {},
   "outputs": [
    {
     "data": {
      "text/plain": [
       "'原 标题 44 岁 女子 跑 深圳 约会 网友 被 拒 暴雨 中 裸身 奔走 深圳 交警 微博称 昨日 清晨 交警 发现 有 一 女子 赤裸 上身 行走 在 南坪 快速 上 期间 还 起 了 轻生 年头 一辅警 发现 后 赶紧 为 其 披上 黄衣 并 一路 劝说 她 那么 事发 时 到底 都 发生 了 些 什么 呢 南 都 记者 带 您 一起 还原 现场 南 都 记者 在 龙岗 大队 坂田 中队 见到 了 辅警 刘青 发现 女生 的 辅警 一位 外表 高大 帅气 说话 略带 些 腼腆 的 90 后 青年 刘青 介绍 6 月 16 日 早上 7 时 36 分 他 正在 环城 南路 附近 值勤 接到 中队 关于 一位 女子 裸身 进入 机动车 可能 有 危险 的 警情 随后 骑着 小 铁骑 开始 沿路 寻找 大概 花 了 十多分钟 在 南坪 大道 坂田 出口 往 龙岗 方向 的 逆行 辅道 上 发现 该 女子 女子 身上 一丝不挂 地逆 车流 而 行时 走时 停时 坐时 躺 险象环生 刘青停 好 小 铁骑 和 另外 一名 巡防 员 追 了 上去 发现 女子 的 情绪 很 低落 话 不 多 刘青 尝试 和 女子 交流 劝说 女子 离开 可 女子 并 不 愿意 接受 继续 缓慢 地往 南坪 快速路 的 主干道 上 走 去 此时 路边 上 已经 聚集 了 很 市民 围观 为了 不 刺激 女子 的 情绪 刘青 和 巡防 员 一边 盯 着 女子 一边 驱赶 着 围观 的 群众 现场 还原 从 警方 提供 的 一份 视频 了解 到 16 日 早上 7 时 25 分 女子 出现 在 坂雪岗 大道 与 环城 南路 的 监控 视频 中 此时 女子 还 穿着 白色 的 内裤 正 沿着 坂雪岗 大道 往 南坪 快速 的 方向 缓慢 地 走 着 当时 正值 上班 高峰期 十字路口 的 车流 已经 排起 了 长队 当 女子 出现 时 路上 的 市民 纷纷 驻足 观望 不少 车辆 也 放慢 了 速度 但 女子 并 不 为 市民 观望 停下 脚步 依然 缓慢 走 着 当 女子 行进 到 十字路口 中间 时 一辆 大 货车 挡住 了 镜头 但是 当 女子 再次出现 镜头 时 可以 发现 女子 已经 没 穿 内裤 了 全身 裸露 继续 朝着 南坪 快速 方向 走 去 记者 发现 视频 中 女子 周围 并 没有 人 尾随 或者 上前 劝止 的 市民 一 大清早 路上 看到 这样 的 情况 恐怕 大家 都 没 办法 淡定 面对 这一 情况 刘青 表示 一 开始 根本 不敢 看 她 心里 挺 别扭 感觉 很 尴尬 但 当 刘青 跟随 女子 上 了 南坪 快速路 主干道 时 女子 作出 了 让 人 意想不到 的 举动 她 突然 靠近 护栏 要 从 上面 跳下去 刘青 赶忙 冲上去 拉住 了 女子 的 手 将 其 控制 住 并 远离 护栏 碍于 女子 没有 穿衣服 刘青递 上 衣服 女子 没 接受 还 把 衣服 扔 到 排水沟 里 继续 往前走 没 办法 刘青 只能 紧紧 拉 着 她 的 一只 手 跟 在 后面 刘青 一路上 耐心 地 开导 安慰 她 但 只 听到 她 不断 地 重复 着 一句 话 要是 你 也 遭遇 我 的 事 你 也 会 这样 的 期间 她 还 不时 试图 挣脱 刘青 的 手要 冲向 护栏 往下跳 就 这样 我 被 牵 着 走 了 大概 十多分钟 天 突然 下起 了 大暴雨 雨大 的 连 眼睛 都 睁不开 刘青 继续 说 着 瞬间 他们 就 被 雨 透 了 但 女子 依然 不 愿意 接受 刘青 的 帮助 就 继续 冒 着 大雨 往前走 大概 走 了 有 四十分钟 吧 女子 突然 停下 来说 我 想 回家 了 然后 女子 也 接受 了 刘青 递过来 的 小 黄衣 就 出现 了 深圳 微博上 的 照片 女子 披着 小 黄衣 刘青 小心翼翼 地 在 旁边 走 着 的 场景 从 南平 快速 下来 后 刘青 和 巡防 员 将 女子 带到 了 附近 的 坂田 派出所 那 姑娘 到底 是 遭遇 了 什么样 的 事情 才 会 说 要是 你 也 遭遇 我 的 事 你 也 会 这样 据 警方 透露 该 女子 姓 陈系 湖北 人 今年 44 岁 据 家属 反映 其有 精神病 史 三天 前 陈某 从 老家 来 深圳 约会 网友 但 约会 受挫 导致 情绪 异常 女子 遂 产生 轻生 念头 目前 陈某 已经 被 送往 深圳 某 精神病 医院 进行 治疗 大大 君 只 希望 姑娘 能 早点 康复 其实 真爱 的 到来 并 不 存在 年龄 的 限制 你们 说 呢 因 善良 的 原因 一众 网友 纷纷 为 交警 暖 男点 ZAN 弓常 yan 桦 就 想 问 这个 小 哥哥 有 女票 吗 原谅 我 这 一辈子 浪荡 不羁 爱 萨摩耶 有 什么 过不去 的 要 轻生 嘛 想想 自己 的 家人 同时 也 感谢 交警 蜀黍 火心 聆听 心灵 点赞 交警 中華云盾 警察 警察 就是 群众 最 需时 申出 援手 Tomchlee 蜀黍 帅 SJ 李赫海 i 这个 交警 很 暖 有 木有 男子 迷奸 网友 拍 418 个 视频 女方 从 20 岁 到 50 岁 不 等 去年 6 月 7 号 上午 淮安市 涟水县 公安局 刑警大队 突然 接到 了 一个 奇怪 的 报警 电话 一名 女子 言语 不清 声称 自己 遭到 了 侵害 女子 被 侵害 言语 不清 几个 关键词 令 接到 电话 的 民警 瞬间 紧张 起来'"
      ]
     },
     "execution_count": 167,
     "metadata": {},
     "output_type": "execute_result"
    }
   ],
   "source": [
    "new_content[4]"
   ]
  },
  {
   "cell_type": "code",
   "execution_count": 168,
   "metadata": {},
   "outputs": [],
   "source": [
    "import matplotlib.pyplot as plt\n",
    "%matplotlib inline"
   ]
  },
  {
   "cell_type": "code",
   "execution_count": 174,
   "metadata": {},
   "outputs": [],
   "source": [
    "machine_new_keywords = get_keyword_of_document(new_content[101])\n",
    "machine_new_keywords_dict = {w: score for w, score in machine_new_keywords}"
   ]
  },
  {
   "cell_type": "code",
   "execution_count": 175,
   "metadata": {},
   "outputs": [
    {
     "data": {
      "text/plain": [
       "<matplotlib.image.AxesImage at 0x1db010d6c88>"
      ]
     },
     "execution_count": 175,
     "metadata": {},
     "output_type": "execute_result"
    },
    {
     "data": {
      "image/png": "[encoded data removed]",
      "text/plain": [
       "<Figure size 432x288 with 1 Axes>"
      ]
     },
     "metadata": {
      "needs_background": "light"
     },
     "output_type": "display_data"
    }
   ],
   "source": [
    "plt.imshow(wc.generate_from_frequencies(machine_new_keywords_dict))"
   ]
  },
  {
   "cell_type": "code",
   "execution_count": 178,
   "metadata": {},
   "outputs": [],
   "source": [
    "from PIL import Image, ImageDraw\n",
    "import numpy as np"
   ]
  },
  {
   "cell_type": "code",
   "execution_count": 179,
   "metadata": {},
   "outputs": [
    {
     "data": {
      "image/png": "[encoded data removed]",
      "text/plain": [
       "<PIL.PngImagePlugin.PngImageFile image mode=RGBA size=518x518 at 0x1DB011B2EF0>"
      ]
     },
     "execution_count": 179,
     "metadata": {},
     "output_type": "execute_result"
    }
   ],
   "source": [
    "img = Image.open('../data/spiderman.png')\n",
    "img"
   ]
  },
  {
   "cell_type": "code",
   "execution_count": 182,
   "metadata": {},
   "outputs": [
    {
     "data": {
      "text/plain": [
       "(518, 518, 4)"
      ]
     },
     "execution_count": 182,
     "metadata": {},
     "output_type": "execute_result"
    }
   ],
   "source": [
    "mask = np.array(img)\n",
    "mask.shape#(0,0,0,...)"
   ]
  },
  {
   "cell_type": "code",
   "execution_count": 184,
   "metadata": {},
   "outputs": [
    {
     "data": {
      "text/plain": [
       "(518, 518, 4)"
      ]
     },
     "execution_count": 184,
     "metadata": {},
     "output_type": "execute_result"
    }
   ],
   "source": [
    "# https://www.datacamp.com/community/tutorials/wordcloud-python\n",
    "mask = np.where(mask==0, 255, mask) # 将边界之外的区域转换成白色\n",
    "mask.shape#(255,255...)"
   ]
  },
  {
   "cell_type": "code",
   "execution_count": 187,
   "metadata": {},
   "outputs": [],
   "source": [
    "wc = wordcloud.WordCloud('../data/SourceHanSerifSC-Regular.otf', mask=mask, background_color='white', contour_color='firebrick', contour_width=5)"
   ]
  },
  {
   "cell_type": "code",
   "execution_count": 188,
   "metadata": {},
   "outputs": [
    {
     "data": {
      "text/plain": [
       "(-0.5, 517.5, 517.5, -0.5)"
      ]
     },
     "execution_count": 188,
     "metadata": {},
     "output_type": "execute_result"
    },
    {
     "data": {
      "image/png": "[encoded data removed]",
      "text/plain": [
       "<Figure size 432x288 with 1 Axes>"
      ]
     },
     "metadata": {
      "needs_background": "light"
     },
     "output_type": "display_data"
    }
   ],
   "source": [
    "plt.imshow(wc.generate_from_frequencies(machine_new_keywords_dict))\n",
    "plt.axis('off')"
   ]
  },
  {
   "cell_type": "markdown",
   "metadata": {},
   "source": [
    "## TFIDF Vectorized"
   ]
  },
  {
   "cell_type": "code",
   "execution_count": 24,
   "metadata": {},
   "outputs": [],
   "source": [
    "from sklearn.feature_extraction.text import TfidfVectorizer\n",
    "import numpy as np"
   ]
  },
  {
   "cell_type": "code",
   "execution_count": 25,
   "metadata": {},
   "outputs": [],
   "source": [
    "vectorized = TfidfVectorizer(max_features=10000) #单词数量"
   ]
  },
  {
   "cell_type": "code",
   "execution_count": 26,
   "metadata": {},
   "outputs": [
    {
     "data": {
      "text/plain": [
       "'证券时报 网 wwwstcncom06 月 23 日讯据 上证 报道 6 月初 以来 创业板 指数 明显 强于 上证综指 一时间 关于 蓝筹 行情 将 向 成长 股行情 切换 的 预期 再起 但 多位 私募 人士 表示 蓝筹股 与 成长 股 这 两年 并非 绝对 的 此消彼长 本轮 蓝筹股 上涨 行情 的 主要 推动力 就是 业绩 成长 而 业绩 与 估值 匹配 才 是 王道 上述 私募 人士 依然 看好 成长性 突出 的 蓝筹股'"
      ]
     },
     "execution_count": 26,
     "metadata": {},
     "output_type": "execute_result"
    }
   ],
   "source": [
    "new_content[10]"
   ]
  },
  {
   "cell_type": "code",
   "execution_count": 27,
   "metadata": {},
   "outputs": [],
   "source": [
    "sample_num = 50000 #文本数量\n",
    "sub_samples = new_content[:sample_num]"
   ]
  },
  {
   "cell_type": "code",
   "execution_count": 28,
   "metadata": {},
   "outputs": [],
   "source": [
    "X = vectorized.fit_transform(sub_samples)"
   ]
  },
  {
   "cell_type": "code",
   "execution_count": 29,
   "metadata": {},
   "outputs": [
    {
     "data": {
      "text/plain": [
       "(50000, 10000)"
      ]
     },
     "execution_count": 29,
     "metadata": {},
     "output_type": "execute_result"
    }
   ],
   "source": [
    "X.shape"
   ]
  },
  {
   "cell_type": "code",
   "execution_count": 30,
   "metadata": {},
   "outputs": [
    {
     "data": {
      "text/plain": [
       "10000"
      ]
     },
     "execution_count": 30,
     "metadata": {},
     "output_type": "execute_result"
    }
   ],
   "source": [
    "len(vectorized.vocabulary_)"
   ]
  },
  {
   "cell_type": "code",
   "execution_count": 37,
   "metadata": {},
   "outputs": [
    {
     "data": {
      "text/plain": [
       "{'此外': 6208,\n",
       " '本周': 5905,\n",
       " '12': 33,\n",
       " '日起': 5626,\n",
       " '小米': 3990,\n",
       " '手机': 4891,\n",
       " '15': 46,\n",
       " '其余': 1866,\n",
       " '暂停': 5752,\n",
       " '更新': 5774,\n",
       " '发布': 2657,\n",
       " '开发': 4422,\n",
       " '影响': 4541,\n",
       " '确保': 7345,\n",
       " '工程师': 4149,\n",
       " '可以': 2760,\n",
       " '集中': 9630,\n",
       " '全部': 1765,\n",
       " '精力': 7670,\n",
       " '进行': 9144,\n",
       " '工作': 4129,\n",
       " '有人': 5822,\n",
       " '猜测': 6886,\n",
       " '主要': 941,\n",
       " '研发': 7326,\n",
       " '之中': 962,\n",
       " '去年': 2577,\n",
       " '一年': 330,\n",
       " '时候': 5642,\n",
       " '当然': 4521,\n",
       " '关于': 1841,\n",
       " '信息': 1567,\n",
       " '我们': 4817,\n",
       " '还是': 9087,\n",
       " '等待': 7615,\n",
       " '作为': 1462,\n",
       " '唯一': 2989,\n",
       " '通过': 9252,\n",
       " '平台': 4272,\n",
       " '认证': 8558,\n",
       " '处理器': 3353,\n",
       " '强调': 4497,\n",
       " '不会': 578,\n",
       " '因为': 3067,\n",
       " '考虑': 7986,\n",
       " '性能': 4658,\n",
       " '核心': 6081,\n",
       " '相反': 7217,\n",
       " '他们': 1269,\n",
       " '联手': 8026,\n",
       " '微软': 4595,\n",
       " '找到': 4961,\n",
       " '一种': 372,\n",
       " '适合': 9196,\n",
       " '兼顾': 1886,\n",
       " '完美': 3800,\n",
       " '方案': 5550,\n",
       " '报道': 5037,\n",
       " '已经': 4173,\n",
       " '拿到': 5104,\n",
       " '一些': 281,\n",
       " '以便': 1285,\n",
       " '更好': 5771,\n",
       " '理解': 6971,\n",
       " '架构': 6035,\n",
       " '资料': 8799,\n",
       " '显示': 5717,\n",
       " '一款': 360,\n",
       " '集成': 9637,\n",
       " '传统': 1380,\n",
       " '节省': 8207,\n",
       " '至少': 8137,\n",
       " '30': 100,\n",
       " '空间': 7506,\n",
       " '按计划': 5136,\n",
       " '今年': 1244,\n",
       " '联想': 8025,\n",
       " '首发': 9824,\n",
       " '电脑': 7072,\n",
       " '预计': 9744,\n",
       " '形态': 4529,\n",
       " '产品': 1162,\n",
       " '只是': 2754,\n",
       " '开始': 4429,\n",
       " '未来': 5899,\n",
       " '也许': 1008,\n",
       " '见到': 8479,\n",
       " '三星': 472,\n",
       " '华为': 2435,\n",
       " '澎湃': 6710,\n",
       " '进入': 9127,\n",
       " '此前': 6206,\n",
       " '搭载': 5264,\n",
       " '电池': 7068,\n",
       " '规格': 8499,\n",
       " '至于': 8134,\n",
       " '可能': 2767,\n",
       " '所说': 4883,\n",
       " '设定': 8589,\n",
       " '有关': 5824,\n",
       " '按照': 5134,\n",
       " '目前': 7193,\n",
       " '掌握': 5172,\n",
       " '拥有': 5095,\n",
       " '55': 137,\n",
       " '摄像头': 5268,\n",
       " '惊喜': 4733,\n",
       " '根据': 6090,\n",
       " '京东': 1171,\n",
       " '泄露': 6417,\n",
       " '售价': 2987,\n",
       " '应该': 4361,\n",
       " '某个': 6038,\n",
       " '这是': 9109,\n",
       " '18': 53,\n",
       " '葡萄牙': 8327,\n",
       " '中部': 887,\n",
       " '地区': 3190,\n",
       " '拍摄': 5076,\n",
       " '森林': 6131,\n",
       " '大火': 3505,\n",
       " '汽车': 6367,\n",
       " '新华社': 5502,\n",
       " '记者': 8573,\n",
       " '标题': 6067,\n",
       " '44': 123,\n",
       " '女子': 3645,\n",
       " '深圳': 6586,\n",
       " '网友': 7895,\n",
       " '暴雨': 5762,\n",
       " '交警': 1147,\n",
       " '昨日': 5708,\n",
       " '清晨': 6614,\n",
       " '发现': 2672,\n",
       " '行走': 8396,\n",
       " '快速': 4638,\n",
       " '期间': 5895,\n",
       " '赶紧': 8859,\n",
       " '一路': 393,\n",
       " '那么': 9302,\n",
       " '事发': 1050,\n",
       " '到底': 2175,\n",
       " '发生': 2674,\n",
       " '什么': 1235,\n",
       " '一起': 392,\n",
       " '还原': 9086,\n",
       " '现场': 6933,\n",
       " '大队': 3538,\n",
       " '中队': 892,\n",
       " '女生': 3651,\n",
       " '一位': 287,\n",
       " '高大': 9919,\n",
       " '说话': 8675,\n",
       " '90': 179,\n",
       " '青年': 9671,\n",
       " '介绍': 1251,\n",
       " '16': 49,\n",
       " '早上': 5631,\n",
       " '36': 111,\n",
       " '正在': 6193,\n",
       " '附近': 9550,\n",
       " '接到': 5189,\n",
       " '机动车': 5941,\n",
       " '危险': 2531,\n",
       " '随后': 9601,\n",
       " '寻找': 3949,\n",
       " '大概': 3496,\n",
       " '大道': 3531,\n",
       " '出口': 2019,\n",
       " '方向': 5548,\n",
       " '身上': 8936,\n",
       " '另外': 2748,\n",
       " '一名': 304,\n",
       " '情绪': 4730,\n",
       " '尝试': 4012,\n",
       " '交流': 1142,\n",
       " '离开': 7410,\n",
       " '愿意': 4780,\n",
       " '接受': 5191,\n",
       " '继续': 7839,\n",
       " '缓慢': 7869,\n",
       " '此时': 6210,\n",
       " '路边': 8925,\n",
       " '聚集': 8040,\n",
       " '市民': 4209,\n",
       " '围观': 3087,\n",
       " '为了': 903,\n",
       " '刺激': 2200,\n",
       " '一边': 399,\n",
       " '群众': 7957,\n",
       " '警方': 8542,\n",
       " '提供': 5227,\n",
       " '一份': 285,\n",
       " '视频': 8513,\n",
       " '了解': 1033,\n",
       " '25': 92,\n",
       " '出现': 2042,\n",
       " '监控': 7170,\n",
       " '穿着': 7510,\n",
       " '白色': 7144,\n",
       " '沿着': 6414,\n",
       " '当时': 4518,\n",
       " '正值': 6192,\n",
       " '上班': 524,\n",
       " '高峰期': 9927,\n",
       " '路上': 8918,\n",
       " '纷纷': 7745,\n",
       " '驻足': 9885,\n",
       " '观望': 8489,\n",
       " '不少': 604,\n",
       " '车辆': 8961,\n",
       " '速度': 9256,\n",
       " '脚步': 8082,\n",
       " '依然': 1505,\n",
       " '行进': 8397,\n",
       " '中间': 890,\n",
       " '一辆': 397,\n",
       " '货车': 8763,\n",
       " '镜头': 9456,\n",
       " '但是': 1404,\n",
       " '全身': 1762,\n",
       " '朝着': 5879,\n",
       " '周围': 2930,\n",
       " '没有': 6384,\n",
       " '或者': 4826,\n",
       " '上前': 490,\n",
       " '看到': 7251,\n",
       " '这样': 9111,\n",
       " '情况': 4724,\n",
       " '恐怕': 4694,\n",
       " '大家': 3479,\n",
       " '办法': 2252,\n",
       " '面对': 9692,\n",
       " '这一': 9090,\n",
       " '表示': 8425,\n",
       " '根本': 6091,\n",
       " '不敢': 615,\n",
       " '心里': 4619,\n",
       " '感觉': 4776,\n",
       " '尴尬': 4030,\n",
       " '跟随': 8912,\n",
       " '作出': 1463,\n",
       " '举动': 948,\n",
       " '突然': 7519,\n",
       " '靠近': 9686,\n",
       " '上面': 539,\n",
       " '控制': 5202,\n",
       " '远离': 9149,\n",
       " '衣服': 8408,\n",
       " '只能': 2756,\n",
       " '紧紧': 7699,\n",
       " '一只': 300,\n",
       " '后面': 2890,\n",
       " '一路上': 394,\n",
       " '耐心': 7996,\n",
       " '安慰': 3784,\n",
       " '听到': 2902,\n",
       " '不断': 616,\n",
       " '重复': 9367,\n",
       " '一句': 299,\n",
       " '要是': 8472,\n",
       " '遭遇': 9291,\n",
       " '不时': 620,\n",
       " '试图': 8630,\n",
       " '大暴雨': 3492,\n",
       " '眼睛': 7277,\n",
       " '瞬间': 7295,\n",
       " '帮助': 4241,\n",
       " '大雨': 3540,\n",
       " '来说': 6008,\n",
       " '回家': 3051,\n",
       " '然后': 6783,\n",
       " '照片': 6790,\n",
       " '旁边': 5559,\n",
       " '场景': 3217,\n",
       " '下来': 554,\n",
       " '带到': 4229,\n",
       " '派出所': 6480,\n",
       " '姑娘': 3689,\n",
       " '什么样': 1236,\n",
       " '事情': 1055,\n",
       " '透露': 9222,\n",
       " '湖北': 6656,\n",
       " '家属': 3900,\n",
       " '反映': 2636,\n",
       " '三天': 466,\n",
       " '陈某': 9557,\n",
       " '老家': 7969,\n",
       " '导致': 3956,\n",
       " '异常': 4459,\n",
       " '产生': 1166,\n",
       " '送往': 9194,\n",
       " '医院': 2400,\n",
       " '治疗': 6411,\n",
       " '大大': 3472,\n",
       " '希望': 4223,\n",
       " '康复': 4380,\n",
       " '其实': 1868,\n",
       " '到来': 2177,\n",
       " '存在': 3726,\n",
       " '年龄': 4313,\n",
       " '限制': 9577,\n",
       " '你们': 1473,\n",
       " '原因': 2562,\n",
       " '这个': 9091,\n",
       " '哥哥': 2976,\n",
       " '一辈子': 398,\n",
       " '自己': 8104,\n",
       " '家人': 3895,\n",
       " '同时': 2855,\n",
       " '感谢': 4777,\n",
       " '聆听': 8002,\n",
       " '心灵': 4614,\n",
       " '点赞': 6755,\n",
       " '警察': 8538,\n",
       " '就是': 4021,\n",
       " '男子': 7085,\n",
       " '20': 60,\n",
       " '50': 130,\n",
       " '上午': 492,\n",
       " '公安局': 1793,\n",
       " '一个': 275,\n",
       " '报警': 5036,\n",
       " '电话': 7077,\n",
       " '声称': 3343,\n",
       " '遭到': 9289,\n",
       " '侵害': 1514,\n",
       " '几个': 1996,\n",
       " '关键词': 1856,\n",
       " '民警': 6298,\n",
       " '紧张': 7696,\n",
       " '起来': 8862,\n",
       " '受到': 2702,\n",
       " 'a股': 194,\n",
       " '纳入': 7738,\n",
       " 'msci': 210,\n",
       " '指数': 5127,\n",
       " '利好': 2157,\n",
       " '消息': 6554,\n",
       " '市场': 4195,\n",
       " '周三': 2924,\n",
       " '再度': 1906,\n",
       " '上演': 523,\n",
       " '行情': 8387,\n",
       " '周四': 2929,\n",
       " '金融股': 9412,\n",
       " '白马股': 7147,\n",
       " '表现': 8424,\n",
       " '尾盘': 4046,\n",
       " '跳水': 8929,\n",
       " '之后': 969,\n",
       " '金融': 9403,\n",
       " '板块': 6014,\n",
       " '状态': 6871,\n",
       " '分析': 2081,\n",
       " '人士': 1199,\n",
       " '认为': 8552,\n",
       " '受益': 2710,\n",
       " '估值': 1399,\n",
       " '资金': 8811,\n",
       " '青睐': 9678,\n",
       " '存量': 3730,\n",
       " '博弈': 2495,\n",
       " '格局': 6094,\n",
       " '风格': 9782,\n",
       " '震荡': 9661,\n",
       " '延续': 4390,\n",
       " '流动性': 6487,\n",
       " '改善': 5346,\n",
       " '经济': 7786,\n",
       " '预期': 9737,\n",
       " '有助于': 5828,\n",
       " '支撑': 5314,\n",
       " '大盘': 3510,\n",
       " '逐步': 9225,\n",
       " '再现': 1909,\n",
       " '未能': 5902,\n",
       " '上行': 530,\n",
       " '态势': 4645,\n",
       " '两市': 738,\n",
       " '成交': 4792,\n",
       " '小幅': 3980,\n",
       " '放量': 5380,\n",
       " '29': 99,\n",
       " '中信': 784,\n",
       " '一级': 380,\n",
       " '行业': 8379,\n",
       " '收盘': 5333,\n",
       " '银行': 9436,\n",
       " '两个': 716,\n",
       " '分别': 2066,\n",
       " '上涨': 519,\n",
       " '180': 54,\n",
       " '二级': 1074,\n",
       " '来看': 6004,\n",
       " '股份制': 8052,\n",
       " '涨幅': 6573,\n",
       " '最高': 5811,\n",
       " '达到': 9026,\n",
       " '222': 89,\n",
       " '信托': 1573,\n",
       " '及其': 2607,\n",
       " '保险': 1557,\n",
       " '证券': 8602,\n",
       " '成分股': 4798,\n",
       " '中共': 785,\n",
       " '21': 87,\n",
       " '其中': 1863,\n",
       " '最大': 5799,\n",
       " '贵阳': 8791,\n",
       " '超过': 8880,\n",
       " '150': 47,\n",
       " '17': 51,\n",
       " '个股': 776,\n",
       " '中国': 799,\n",
       " '居前': 4058,\n",
       " '两名': 724,\n",
       " '新华': 5501,\n",
       " '券商': 2199,\n",
       " '下跌': 564,\n",
       " '近期': 9078,\n",
       " '宣布': 3885,\n",
       " '2018': 81,\n",
       " '新兴': 5496,\n",
       " '群体': 7958,\n",
       " '团队': 3077,\n",
       " '指出': 5116,\n",
       " '最新': 5804,\n",
       " '包含': 2341,\n",
       " '中等': 869,\n",
       " '市值': 4192,\n",
       " '互联互通': 1091,\n",
       " '交易': 1132,\n",
       " '股票': 8057,\n",
       " '以及': 1290,\n",
       " '停牌': 1631,\n",
       " '标的': 6063,\n",
       " '由于': 7038,\n",
       " '很多': 4562,\n",
       " '权重': 5960,\n",
       " '05': 5,\n",
       " '上升': 491,\n",
       " '消费': 6557,\n",
       " '涵盖': 6574,\n",
       " '大部分': 3533,\n",
       " '动态': 2297,\n",
       " '加入': 2262,\n",
       " '增加': 3316,\n",
       " '其他': 1864,\n",
       " '尽管': 4044,\n",
       " '事件': 1044,\n",
       " '短期': 7307,\n",
       " '有所': 5834,\n",
       " '中长期': 889,\n",
       " '海外': 6525,\n",
       " '增量': 3330,\n",
       " '升温': 2420,\n",
       " '短期内': 7308,\n",
       " '不能': 633,\n",
       " '有效': 5835,\n",
       " '放大': 5369,\n",
       " '情景': 4729,\n",
       " '难以': 9616,\n",
       " '持续': 5109,\n",
       " '改变': 5345,\n",
       " '并未': 4319,\n",
       " '引起': 4466,\n",
       " '热情': 6764,\n",
       " '成交量': 4793,\n",
       " '较为': 8998,\n",
       " '较大': 8999,\n",
       " '变化': 2718,\n",
       " '成长': 4815,\n",
       " '全天': 1744,\n",
       " '低迷': 1416,\n",
       " '表明': 8421,\n",
       " '很少': 4565,\n",
       " '不同': 594,\n",
       " '之间': 982,\n",
       " '使得': 1479,\n",
       " '突破': 7520,\n",
       " '中期': 859,\n",
       " '依旧': 1501,\n",
       " '维持': 7847,\n",
       " '虽然': 8358,\n",
       " '至今': 8135,\n",
       " '夏普': 3373,\n",
       " '智能手机': 5751,\n",
       " '无法': 5581,\n",
       " '完全': 3793,\n",
       " '并于': 4316,\n",
       " '2013': 75,\n",
       " '退出': 9189,\n",
       " '月份': 5814,\n",
       " '官方': 3808,\n",
       " '回归': 3053,\n",
       " '预示': 9740,\n",
       " '很快': 4567,\n",
       " '登场': 7132,\n",
       " '登陆': 7137,\n",
       " '怎么样': 4649,\n",
       " '近日': 9077,\n",
       " '型号': 3242,\n",
       " '神秘': 7385,\n",
       " '悄然': 4711,\n",
       " '相关': 7216,\n",
       " '这款': 9113,\n",
       " '并非': 4322,\n",
       " '定位': 3815,\n",
       " '配备': 9336,\n",
       " '最受': 5796,\n",
       " '芯片': 8218,\n",
       " '之一': 959,\n",
       " '采用': 9346,\n",
       " '14': 43,\n",
       " '工艺': 4152,\n",
       " '设计': 8595,\n",
       " '当前': 4508,\n",
       " '只有': 2755,\n",
       " '上市': 503,\n",
       " '销售': 9442,\n",
       " '改进': 5353,\n",
       " '明显': 5679,\n",
       " '所以': 4872,\n",
       " '放在': 5368,\n",
       " '变成': 2722,\n",
       " '高端': 9945,\n",
       " '不过': 642,\n",
       " '签署': 7629,\n",
       " '协议': 2453,\n",
       " '时间': 5663,\n",
       " '既然': 5595,\n",
       " '测试': 6500,\n",
       " '说明': 8673,\n",
       " '只要': 2757,\n",
       " '时期': 5650,\n",
       " '新品': 5506,\n",
       " '之前': 967,\n",
       " '曝光': 5764,\n",
       " '竞争': 7536,\n",
       " '优势': 1341,\n",
       " '全面': 1768,\n",
       " '推出': 5209,\n",
       " '全球': 1754,\n",
       " '多达': 3442,\n",
       " '28': 98,\n",
       " '媒体': 3713,\n",
       " '沟通': 6380,\n",
       " '会上': 1355,\n",
       " '各位': 2801,\n",
       " '时代': 5640,\n",
       " '成为': 4791,\n",
       " '沙漠': 6376,\n",
       " '有利': 5825,\n",
       " '消化': 6552,\n",
       " '开盘': 4445,\n",
       " '上证': 531,\n",
       " '蓝筹': 8343,\n",
       " '带动': 4230,\n",
       " '一度': 332,\n",
       " '站上': 7534,\n",
       " '60': 143,\n",
       " '120': 34,\n",
       " '均线': 3222,\n",
       " '万达': 449,\n",
       " '电影': 7064,\n",
       " '暴跌': 5761,\n",
       " '拖累': 5082,\n",
       " '绝大多数': 7827,\n",
       " '大幅': 3487,\n",
       " '各大': 2805,\n",
       " '全线': 1759,\n",
       " '不见': 638,\n",
       " '不可': 591,\n",
       " '短线': 7311,\n",
       " '策略': 7620,\n",
       " '题材': 9770,\n",
       " '为主': 902,\n",
       " '区域': 2383,\n",
       " '概念股': 6142,\n",
       " '调整': 8693,\n",
       " '压力': 2551,\n",
       " '仍然': 1252,\n",
       " '突出': 7514,\n",
       " '再次': 1908,\n",
       " '大跌': 3527,\n",
       " '处于': 3345,\n",
       " '底部': 4365,\n",
       " '低位': 1411,\n",
       " '反复': 2627,\n",
       " '夯实': 3585,\n",
       " '蓝筹股': 8344,\n",
       " '承压': 4965,\n",
       " '后期': 2885,\n",
       " '需要': 9657,\n",
       " '接力': 5190,\n",
       " '走向': 8843,\n",
       " '今日': 1248,\n",
       " '要闻': 8475,\n",
       " '央行': 3583,\n",
       " '上海': 515,\n",
       " '总部': 4687,\n",
       " '债券': 1603,\n",
       " '北向': 2363,\n",
       " '境外': 3309,\n",
       " '投资者': 5005,\n",
       " '准入': 1979,\n",
       " '备案': 3361,\n",
       " '业务': 688,\n",
       " '指引': 5122,\n",
       " '我国': 4819,\n",
       " '信用': 1574,\n",
       " '法规': 6439,\n",
       " '标准': 6055,\n",
       " '研究': 7327,\n",
       " '加快': 2271,\n",
       " '推进': 5219,\n",
       " '房地产': 4864,\n",
       " '研究院': 7333,\n",
       " '房贷利率': 4869,\n",
       " '楼市': 6138,\n",
       " '报告': 5029,\n",
       " '许多': 8582,\n",
       " '城市': 3253,\n",
       " '个人': 767,\n",
       " '住房贷款': 1420,\n",
       " '利率': 2164,\n",
       " '程度': 7476,\n",
       " '水污染': 6327,\n",
       " '修正案': 1583,\n",
       " '草案': 8266,\n",
       " '二审': 1064,\n",
       " '更大': 5770,\n",
       " '力度': 2242,\n",
       " '保护': 1545,\n",
       " '环境': 6915,\n",
       " '结算': 7820,\n",
       " '开展': 4432,\n",
       " '一人': 282,\n",
       " '多户': 3426,\n",
       " '通知': 9241,\n",
       " '启动': 2906,\n",
       " '同一': 2845,\n",
       " '以上': 1282,\n",
       " '账户': 8757,\n",
       " '文件': 5455,\n",
       " '要求': 8473,\n",
       " '23': 90,\n",
       " '日后': 5602,\n",
       " '交易日': 1138,\n",
       " '26': 95,\n",
       " '确认': 7350,\n",
       " '十三': 2401,\n",
       " '金融市场': 9407,\n",
       " '交易额': 1140,\n",
       " '2000': 62,\n",
       " '万亿': 422,\n",
       " '宏观': 3802,\n",
       " '稳定': 7487,\n",
       " '双重': 2625,\n",
       " '因素': 3071,\n",
       " '鼓舞': 9994,\n",
       " '国际': 3139,\n",
       " '基金': 3288,\n",
       " '经理': 7796,\n",
       " '2017': 80,\n",
       " '下半年': 545,\n",
       " '股市': 8053,\n",
       " '有望': 5838,\n",
       " '十年': 2410,\n",
       " '增长': 3331,\n",
       " '创新': 2136,\n",
       " '驱动': 9879,\n",
       " '回顾': 3065,\n",
       " '早盘': 5639,\n",
       " '冲高': 1966,\n",
       " '回落': 3061,\n",
       " '走势': 8842,\n",
       " '盘面': 7182,\n",
       " '300': 101,\n",
       " '盘中': 7180,\n",
       " '新高': 5544,\n",
       " '分化': 2068,\n",
       " '相当': 7223,\n",
       " '跌幅': 8900,\n",
       " '创业板': 2126,\n",
       " '400': 118,\n",
       " '品种': 2962,\n",
       " '计算': 8549,\n",
       " 'st': 267,\n",
       " '涨停': 6572,\n",
       " '不足': 641,\n",
       " '亿元': 1229,\n",
       " '800': 168,\n",
       " '数据': 5437,\n",
       " '共有': 1836,\n",
       " '主力': 917,\n",
       " '流出': 6485,\n",
       " '一日': 345,\n",
       " '61': 146,\n",
       " '57': 139,\n",
       " '抛售': 5013,\n",
       " '13': 39,\n",
       " '介入': 1250,\n",
       " '医药': 2399,\n",
       " '制造': 2194,\n",
       " '雄安': 9624,\n",
       " '新区': 5500,\n",
       " '更是': 5775,\n",
       " '高达': 9954,\n",
       " '技术': 4974,\n",
       " '临近': 899,\n",
       " '半个': 2427,\n",
       " '小时': 3985,\n",
       " '高位': 9910,\n",
       " '留下': 7099,\n",
       " '以来': 1294,\n",
       " '每次': 6254,\n",
       " '回调': 3062,\n",
       " '相对': 7221,\n",
       " '位置': 1408,\n",
       " '即使': 2532,\n",
       " '乏力': 989,\n",
       " '总体': 4663,\n",
       " '打破': 4919,\n",
       " '攻克': 5358,\n",
       " '当日': 4517,\n",
       " '上方': 508,\n",
       " '触及': 8530,\n",
       " '无疑': 5583,\n",
       " '心理': 4615,\n",
       " '负面影响': 8737,\n",
       " '分钟': 2098,\n",
       " '级别': 7726,\n",
       " '形成': 4530,\n",
       " '一旦': 346,\n",
       " '跌破': 8901,\n",
       " '意味着': 4753,\n",
       " '如此': 3680,\n",
       " '引发': 4461,\n",
       " '综合': 7852,\n",
       " '处在': 3348,\n",
       " '区间': 2385,\n",
       " '脆弱': 8081,\n",
       " '心态': 4611,\n",
       " '碎片': 7352,\n",
       " '主线': 937,\n",
       " '模糊': 6155,\n",
       " '热点': 6769,\n",
       " '赚钱': 8818,\n",
       " '效应': 5403,\n",
       " '以下': 1283,\n",
       " '首先': 9823,\n",
       " '长期': 9470,\n",
       " '人气': 1220,\n",
       " '最近': 5809,\n",
       " '一段时间': 363,\n",
       " '整体': 5446,\n",
       " '走高': 8854,\n",
       " '基础': 3282,\n",
       " '弹性': 4482,\n",
       " '制约': 2190,\n",
       " '绝对': 7829,\n",
       " '大面积': 3542,\n",
       " '与此同时': 648,\n",
       " '现在': 6932,\n",
       " '非常': 9682,\n",
       " '频繁': 9766,\n",
       " '今天': 1243,\n",
       " '明天': 5675,\n",
       " '就要': 4025,\n",
       " '打击': 4909,\n",
       " '积极性': 7460,\n",
       " '其次': 1869,\n",
       " '反弹': 2633,\n",
       " '重要': 9381,\n",
       " '拉升': 5059,\n",
       " '这种': 9116,\n",
       " '大涨': 3502,\n",
       " '似乎': 1403,\n",
       " '一直': 371,\n",
       " '吸引': 2911,\n",
       " '加码': 2283,\n",
       " '中小': 836,\n",
       " '面临': 9687,\n",
       " '强大': 4491,\n",
       " '午后': 2425,\n",
       " '复星': 3366,\n",
       " '收复': 5328,\n",
       " '投资': 5003,\n",
       " '建议': 4410,\n",
       " '始终': 3686,\n",
       " '缺乏': 7887,\n",
       " '支持': 5310,\n",
       " '背景': 8066,\n",
       " '后续': 2888,\n",
       " '跟上': 8908,\n",
       " '活跃': 6477,\n",
       " '降低': 9564,\n",
       " '配置': 9338,\n",
       " '加大': 2265,\n",
       " '纠缠': 7709,\n",
       " '促使': 1527,\n",
       " '能否': 8076,\n",
       " '真正': 7269,\n",
       " '观察': 8486,\n",
       " '基于': 3266,\n",
       " '组合': 7758,\n",
       " '因此': 3069,\n",
       " '股指': 8054,\n",
       " '下方': 552,\n",
       " '获得': 8288,\n",
       " '操作': 5301,\n",
       " '粤港澳': 7667,\n",
       " '大湾': 3503,\n",
       " '论坛': 8584,\n",
       " '腾讯': 8093,\n",
       " '人工智能': 1205,\n",
       " '百度': 7154,\n",
       " '举办': 947,\n",
       " 'ai': 191,\n",
       " '开发者': 4425,\n",
       " '大会': 3451,\n",
       " '亚马逊': 1119,\n",
       " '代表': 1277,\n",
       " '互联网': 1092,\n",
       " '巨头': 4161,\n",
       " '一致': 386,\n",
       " '看好': 7252,\n",
       " '发展': 2651,\n",
       " '产业': 1153,\n",
       " '叠加': 2730,\n",
       " '政策': 5392,\n",
       " '扶持': 4954,\n",
       " '景气': 5740,\n",
       " '一个月': 277,\n",
       " '三次': 477,\n",
       " '加之': 2258,\n",
       " '下周': 549,\n",
       " '月末': 5818,\n",
       " '值得': 1609,\n",
       " '做好': 1623,\n",
       " '应对': 4356,\n",
       " '月初': 5815,\n",
       " '为首': 910,\n",
       " '模式': 6152,\n",
       " '保持': 1548,\n",
       " '随着': 9605,\n",
       " '带来': 4235,\n",
       " '刷新': 2198,\n",
       " '高点': 9942,\n",
       " '降温': 9568,\n",
       " '加剧': 2264,\n",
       " '现象': 6942,\n",
       " '必须': 4623,\n",
       " '重视': 9384,\n",
       " '红利': 7710,\n",
       " '军工': 1918,\n",
       " '上周': 496,\n",
       " '王者': 6904,\n",
       " '荣耀': 8269,\n",
       " '类似': 7663,\n",
       " '来自': 6005,\n",
       " '比较': 6271,\n",
       " '敏感': 5409,\n",
       " '半年': 2432,\n",
       " '容易': 3911,\n",
       " '实际上': 3852,\n",
       " '美联储': 7951,\n",
       " '加息': 2272,\n",
       " '缩表': 7882,\n",
       " '行为': 8381,\n",
       " '货币政策': 8759,\n",
       " '开启': 4426,\n",
       " '流行': 6492,\n",
       " '很难': 4569,\n",
       " '中性': 849,\n",
       " '偏紧': 1620,\n",
       " '常态': 4254,\n",
       " '基本面': 3279,\n",
       " '阶段': 9522,\n",
       " '一段': 362,\n",
       " '高速': 9956,\n",
       " '增速': 3329,\n",
       " '下滑': 558,\n",
       " '而是': 7993,\n",
       " '周期': 2933,\n",
       " '适度': 9199,\n",
       " '供给': 1497,\n",
       " '结构性': 7816,\n",
       " '改革': 5355,\n",
       " '决定': 1968,\n",
       " '运行': 9067,\n",
       " '之下': 961,\n",
       " '前期': 2214,\n",
       " '单纯': 2467,\n",
       " '依托': 1499,\n",
       " '能够': 8077,\n",
       " '担忧': 5054,\n",
       " '尤其': 4014,\n",
       " '越来越': 8883,\n",
       " '甚至': 6991,\n",
       " '排除': 5180,\n",
       " '选择': 9213,\n",
       " '伴随': 1402,\n",
       " '谨慎': 8717,\n",
       " '气氛': 6307,\n",
       " '对于': 3927,\n",
       " '梳理': 6115,\n",
       " '警惕': 8540,\n",
       " '兑现': 1703,\n",
       " '利润': 2161,\n",
       " '重新': 9375,\n",
       " '机会': 5937,\n",
       " '阻力': 9524,\n",
       " '密集': 3922,\n",
       " '及时': 2608,\n",
       " '减仓': 1985,\n",
       " '毕竟': 6277,\n",
       " '通道': 9253,\n",
       " '扭转': 4950,\n",
       " '暂时': 5754,\n",
       " '持有': 5107,\n",
       " '主板': 932,\n",
       " '终于': 7776,\n",
       " '遗憾': 9286,\n",
       " '之际': 983,\n",
       " '周五': 2926,\n",
       " '怎样': 4650,\n",
       " '登记': 7136,\n",
       " '托管': 4927,\n",
       " '实施细则': 3842,\n",
       " '实施': 3840,\n",
       " '发改委': 2665,\n",
       " '抓紧': 4987,\n",
       " '制定': 2183,\n",
       " '出台': 2020,\n",
       " '价格': 1305,\n",
       " '监管': 7176,\n",
       " '规则': 8496,\n",
       " '社部': 7376,\n",
       " '月底': 5816,\n",
       " '基本': 3276,\n",
       " '实现': 3845,\n",
       " '跨省': 8916,\n",
       " '异地': 4458,\n",
       " '就医': 4020,\n",
       " '直接': 7205,\n",
       " '成品油': 4803,\n",
       " '年内': 4294,\n",
       " '下调': 563,\n",
       " '降幅': 9566,\n",
       " '元吨': 1655,\n",
       " '国防': 3136,\n",
       " '科工': 7428,\n",
       " '混改': 6604,\n",
       " '资产': 8797,\n",
       " '证券化': 8603,\n",
       " '进程': 9142,\n",
       " '广电总局': 4344,\n",
       " '新浪': 5524,\n",
       " '微博': 4592,\n",
       " '网站': 7901,\n",
       " '关停': 1842,\n",
       " '视听': 8507,\n",
       " '节目': 8206,\n",
       " '欧美': 6185,\n",
       " '稳健': 7486,\n",
       " '国内': 3097,\n",
       " '形式': 4528,\n",
       " '整理': 5450,\n",
       " '1800': 55,\n",
       " '相比': 7227,\n",
       " '显得': 5713,\n",
       " '弱势': 4481,\n",
       " '转换': 8977,\n",
       " '随时': 9603,\n",
       " '第一': 7556,\n",
       " '第二': 7584,\n",
       " '实质性': 3849,\n",
       " '低开': 1412,\n",
       " '可能性': 2768,\n",
       " '防止': 9512,\n",
       " '极为': 6015,\n",
       " '过程': 9045,\n",
       " '确定': 7346,\n",
       " '将会': 3963,\n",
       " '愈发': 4750,\n",
       " '寻求': 3950,\n",
       " '不大': 597,\n",
       " '加上': 2257,\n",
       " '业绩': 691,\n",
       " '最好': 5800,\n",
       " '执行': 4939,\n",
       " '坚持': 3233,\n",
       " '一次': 358,\n",
       " '证明': 8608,\n",
       " '关注': 1848,\n",
       " '观点': 8491,\n",
       " '正确': 6201,\n",
       " ...}"
      ]
     },
     "execution_count": 37,
     "metadata": {},
     "output_type": "execute_result"
    }
   ],
   "source": [
    "vectorized.vocabulary_"
   ]
  },
  {
   "cell_type": "code",
   "execution_count": 31,
   "metadata": {},
   "outputs": [
    {
     "data": {
      "text/plain": [
       "(array([0, 0, 0, 0, 0, 0, 0, 0, 0, 0, 0, 0, 0, 0, 0, 0, 0, 0, 0, 0, 0, 0,\n",
       "        0, 0, 0, 0, 0, 0, 0, 0, 0, 0, 0, 0, 0], dtype=int64),\n",
       " array([  33,   46,  330,  941,  962, 1567, 1765, 1841, 1866, 2577, 2657,\n",
       "        2760, 3990, 4129, 4149, 4422, 4521, 4541, 4817, 4891, 5626, 5642,\n",
       "        5752, 5774, 5822, 5905, 6208, 6886, 7326, 7345, 7615, 7670, 9087,\n",
       "        9144, 9630], dtype=int64))"
      ]
     },
     "execution_count": 31,
     "metadata": {},
     "output_type": "execute_result"
    }
   ],
   "source": [
    "np.where(X[0].toarray()) # get the positions which values are not zero"
   ]
  },
  {
   "cell_type": "code",
   "execution_count": 41,
   "metadata": {},
   "outputs": [
    {
     "data": {
      "text/plain": [
       "0.1040068249021445"
      ]
     },
     "execution_count": 41,
     "metadata": {},
     "output_type": "execute_result"
    }
   ],
   "source": [
    "X[0].toarray()[0][2760]"
   ]
  },
  {
   "cell_type": "code",
   "execution_count": 42,
   "metadata": {},
   "outputs": [
    {
     "data": {
      "text/plain": [
       "'此外 自 本周 6 月 12 日起 除 小米 手机 6 等 15 款 机型 外 其余 机型 已 暂停 更新 发布 含 开发 版 体验版 内测 稳定版 暂不受 影响 以 确保 工程师 可以 集中 全部 精力 进行 系统优化 工作 有人 猜测 这 也 是 将 精力 主要 用到 MIUI9 的 研发 之中 MIUI8 去年 5 月 发布 距今已有 一年 有余 也 是 时候 更新换代 了 当然 关于 MIUI9 的 确切 信息 我们 还是 等待 官方消息'"
      ]
     },
     "execution_count": 42,
     "metadata": {},
     "output_type": "execute_result"
    }
   ],
   "source": [
    "new_content[0]"
   ]
  },
  {
   "cell_type": "code",
   "execution_count": 43,
   "metadata": {},
   "outputs": [],
   "source": [
    "import random"
   ]
  },
  {
   "cell_type": "code",
   "execution_count": 44,
   "metadata": {},
   "outputs": [],
   "source": [
    "document_id_1, document_id_2 = random.randint(0, 1000), random.randint(0, 1000)"
   ]
  },
  {
   "cell_type": "code",
   "execution_count": 45,
   "metadata": {},
   "outputs": [
    {
     "data": {
      "text/plain": [
       "(566, 298)"
      ]
     },
     "execution_count": 45,
     "metadata": {},
     "output_type": "execute_result"
    }
   ],
   "source": [
    "document_id_1, document_id_2"
   ]
  },
  {
   "cell_type": "code",
   "execution_count": 46,
   "metadata": {},
   "outputs": [],
   "source": [
    "vector_of_d_1 = X[document_id_1].toarray()[0]\n",
    "vector_of_d_2 = X[document_id_2].toarray()[0]"
   ]
  },
  {
   "cell_type": "code",
   "execution_count": 47,
   "metadata": {},
   "outputs": [],
   "source": [
    "from scipy.spatial.distance import cosine"
   ]
  },
  {
   "cell_type": "code",
   "execution_count": 48,
   "metadata": {},
   "outputs": [],
   "source": [
    "def distance(v1, v2): return cosine(v1, v2)"
   ]
  },
  {
   "cell_type": "code",
   "execution_count": 49,
   "metadata": {},
   "outputs": [
    {
     "data": {
      "text/plain": [
       "0.0"
      ]
     },
     "execution_count": 49,
     "metadata": {},
     "output_type": "execute_result"
    }
   ],
   "source": [
    "distance([1, 1], [2, 2])"
   ]
  },
  {
   "cell_type": "code",
   "execution_count": 50,
   "metadata": {},
   "outputs": [
    {
     "data": {
      "text/plain": [
       "504"
      ]
     },
     "execution_count": 50,
     "metadata": {},
     "output_type": "execute_result"
    }
   ],
   "source": [
    "random_choose = random.randint(0, 1000)\n",
    "random_choose"
   ]
  },
  {
   "cell_type": "code",
   "execution_count": 51,
   "metadata": {},
   "outputs": [
    {
     "data": {
      "text/plain": [
       "'原 标题 四 女生 桥下 游泳 不幸 溺水 好心 市民 齐心 施救 脱险 现场 红网 双峰县 分站 6 月 20 日讯 6 月 19 日 四位 12 岁 左右 的 女生 在 双峰县 湄 水河 万福 桥下 游泳 打闹 戏水 时 不幸 溺水 幸 被 众多 好心 市民 抢救 过来 与 死神 擦肩而过 当天 下午 四位 12 岁 左右 的 女生 来到 万福 桥下 游泳 嬉水 吵闹 中几人 推推搡搡 慢慢 的 有 三个 被 冲到 了 深水 处在 水中 沉浮 另外 一个 慌 了 神 在 水边 连滚带爬 这时 双峰县 曾国藩 学校 的 谭若冰 老师 看到 后 赶紧 呼救 听到 呼救 后 万福 桥旁 的 华仔 夜宵 店老板 李卫华 和 白燕 市场 送货员 李 奇峰 第一 时间 跑 到 桥下 把 溺水 的 三位 女孩 拉 上岸 下班 回家 的 双峰县 中医院 妇产科 医师 朱卫怀 正好 经过 现场 也 立马 飞奔 而 下 在 跑 的 同时 朱 医师 还 冷静 地 打通 了 110 和 120 到 了 现场 朱 医师 发现 一位 女孩 心跳 和 呼吸 已经 全无 作为 医师 朱卫怀 没有 放弃 立即 为 这位 溺水 女孩 清理 口鼻作 胸外 心脏 按摩 不到 两分钟 这位 女孩 呛咳 了 一下 成功 抢救 过来 夏天 已经 到来 家长 们 一定 要 加强 孩子 们 的 安全 教育 不能 独自 下水 游泳 以防 溺水'"
      ]
     },
     "execution_count": 51,
     "metadata": {},
     "output_type": "execute_result"
    }
   ],
   "source": [
    "new_content[566]  #article d1"
   ]
  },
  {
   "cell_type": "code",
   "execution_count": 52,
   "metadata": {},
   "outputs": [
    {
     "data": {
      "text/plain": [
       "'黑龙江省 新疆阿勒泰地区 产业 援疆 项目 推介会 日前 在 哈尔滨 举行 我省 七台河市 康 草堂 药业 饮片 有限公司 在 阿勒泰地区 福海县 投资 15 亿元 建设 的 中草药 种植 种苗 繁育 及 生产 加工 项目 泰来 绿洲 食品 加工 有限责任 公司 投资 建设 的 大果 沙棘 采购 项目 等 11 个 项目 在 推介会 上 签约 此次 签约 涉及 产业园 区 农副产品 加工 交通 旅游 水电 等 项目 签约 资金额 达 1121 亿元 另外 签署 4 个 战略 合作 协议 富蕴县 政府 与 黑龙江省 玉石 进出口 协会 签订 玉石 开发 战略 合作 协议 富蕴县 政府 与 五大连池 风景区 签订 旅游 战略 合作 协议 阿勒泰地区 与 黑龙江省 天顺 源 清真 食品 有限公司 签署 畜产品 全 产业链 战略 协议 阿勒泰地区 与 大庄园 集团 签署 牛羊肉 深加工 战略 合作 协议 推介会 上 阿勒泰地区 展示 和 推介 了 资源优势 特色产业 和 投资 发展 的 基础 条件 及 优势 潜力 重点 推介 了 农业 对外开放 工矿业 旅游 商贸 物流 PPP 项目 等 多个 产业 的 重点 招商 项目 记者 桑蕾 免责 声明 本文 仅 代表 作者 个人观点 与 环球网 无关 其 原创性 以及 文中 陈述 文字 和 内容 未经 本站 证实 对 本文 以及 其中 全部 或者 部分 内容 文字 的 真实性 完整性 及时性 本站 不 作 任何 保证 或 承诺 请 读者 仅作 参考 并 请 自行 核实 相关 内容'"
      ]
     },
     "execution_count": 52,
     "metadata": {},
     "output_type": "execute_result"
    }
   ],
   "source": [
    "new_content[298] #article d2"
   ]
  },
  {
   "cell_type": "code",
   "execution_count": 53,
   "metadata": {},
   "outputs": [
    {
     "data": {
      "text/plain": [
       "'虽然 网络 直播 行业 的 烧钱 巅峰 已经 过去 但 网络 主播 日进斗金 的 传说 仍然 在 互联网 上 流传 流传 更广 的 是 他们 对 东北 人 和 网络 直播 的 偏见 YY 语音 养活 了 一半 东北 人 剩下 一半 去 了 海南 为什么 直播 喊麦 的 都 是 东北 人 他们 到底 有 什么 天赋 异禀 被 遗忘 的 喊麦 天王 但 如今 秀 场主 播里 最 红火 的 项目 喊麦 最早 的 起源 并 不 在 东北 从技术上 来说 喊麦 是 DJ 和 MC 的 简易 混合 这 两个 来自 英语 的 缩写 词 在 中文 中 并 没有 正式 的 对应 DJ 是 diskjockey 的 缩写 直译 就是 唱片 操作员 这是 起源于 欧美 夜总会 的 一个 工种 DJ 们 通常 会 使用 一些 特定 的 设备 来 开展 工作 比如说 拼接 不同 的 曲目 调整 节奏 增加 鼓点 让 客人 们 随着 音乐 起舞 DJThomasHabrUnsplash 而 在 70 年代 美国黑人 的 嘻 哈 文化 崛起 后 DJ 利用 唱针 和 唱片 剐 蹭 产生 的 噪音 来 炫耀 自己 的 打 碟 技巧 MC 则 是 masterofceremonies 的 缩写 意 为 典礼 主持人 但 近些年 也 有人 认为 它 的 意思 是 microphonecontroller 意为 掌控 麦克风 的 人 MCAidenMarplesUnsplash 在 说唱 领域 MC 经常 作为 说唱 歌手 的 同义词 来 使用 说唱 歌手 们 的 强项 在于 编写 歌词 再 以 快速 而 复杂 的 节奏 把 歌词 念 出来 说唱 歌手 通常 会起 艺名 有些 人 就 在 自己 的 艺名 之前 加上 MC 作为 前缀 MC 和 DJ 有时候 会 作为 搭档 DJ 播 音乐 MC 配着 音乐 进行 说唱 这样 的 表现形式 在 中国 的 大城市 有 相对 比较 正统 的 本地化 版本 然而 在 大城市 之外 它 完全 生长 成 了 另 一种 模样 DJMattyAdameUnsplash80 年代 以来 中国 的 农村 青年 大量 涌向 大城市 的 城中村 和 郊区 在 工厂 里 工作 夜店 蹦迪 是 他们 在 高强度 劳动 后 放松 身心 的 最佳 选择 在 农村 青年 钟爱 的 低端 夜 店里 DJ 们 没有 那么 强 的 创造力 他们 通常 只是 把 流行歌曲 配 上 强烈 简单 的 鼓点 在 歌曲 切换 的 时候 说 上 一句 各位朋友 们 你们好 吗 这 正是 喊麦 的 雏形 总之 能 让 观众们 摇头晃脑 就行 这个 工作 技术含量 不高 很快 就 有 了 模仿者 其中 最 有名 的 就是 MC 石头 出 生于 1988 年 的 MC 石头 是 四川 泸州 人 毕业 于 一家 职业 技术 学院 按照 他 在 电视节目 中 的 自述 他 曾经 在 工地 上 搬 砖 为业 后来 开始 研究 喊麦 并 开始 把 自己 的 作品 上 传到 互联网 MC 石头 用 DJ 制作 的 背景音乐 配 上 自创 的 歌词 MC 石头 歌词 聊 的 是 兄弟 意气 被 女友 背叛 的 气愤 以及 幻想 中 功成名就 之后 当年 的 女友 回来 求 原谅 的 剧情 从 2011 年初 起 MC 石头 的 作品 在 微博 豆瓣 B 站 等 网络 社区 受到 了 关注 因喊麦 出了名 MC 石头 还 上 了 本地 电视台 主持人 采访 时 也 是 夹枪带棒 的 不屑 石头 倒 是 很 懂 自黑称 平时 工作 就是 搬 砖 当时 的 互联网 用户 以 城市 白领 大学生 为主 他们 并 不 欣赏 MC 石头 直白 的 歌词 也 看不上 数来宝 式 的 简单 旋律 他们 热衷于 嘲讽 MC 石头 的 杀 马特 发型 网吧 摄像头 的 低劣 画质 以及 把 herewego 念成 黑 喂狗 的 川式 英语 口音 MC 石头 喊麦 视频 截图 单 就 创作 内容 而论 MC 石头 和 MC 天佑 等 新生代 喊麦手 没有 太大 的 区别 甚至 也 会 用 四川 方言 来 喊 麦 但 他 出现 在 了 错误 的 时代 当时 廉价 智能手机 尚未 普及 实时 沟通 的 直播 技术 也 没有 出现 在 城市 青年 为主 的 网民 群体 里 MC 石头 仅仅 是 杀 马 特技 校 精英 这个 群体 的 具象化 而已 虽然 他 也 接过 屠龙 宝刀 点击 就 送 的 网页 游戏 广告 也 承接 过 商业 演出 甚至 在 网络 剧 屌丝 男士 中露 过 脸 但 他 仍 错过 了 时代 的 风口 四川 的 MC 石头 一定 没想到 2017 年会 出现 一个 靠 喊麦 月入 百万 的 东北 人 MC 天佑 YY 出 的 网红 把 MC 天佑 这 一代人 送上 王座 的 是 一个 名叫 YY 的 软件 现在 的 YY 里 大多 是 喊麦 唱歌 和 笑话 很多 人 不 知道 的 是 YY 的 起源 和 国民 级 网络游戏 魔兽 世界 有 密切 关联 2016 年 06 月 14 日 在 河南省 洛阳市 一家 电影院 门外 墙上 的 魔兽 世界 主题 墙绘 视觉 中国 2005 年 魔兽 世界 上线 前 中国 的 绝大多数 网络游戏 是 回合制 例如 石器时代 或者 节奏 缓慢 的 即时 制 例如 传奇 游戏 节奏 并 不快 玩家 间 合作 的 规模 也 很小 彼此 交流 时 利用 内置 的 打字 聊天 功能 就够 了 而 魔兽 世界 带来 了 另 一种 全新 的 体验 这个 游戏 里 的 首领 战 难度 很 高 需要 玩家 组建 20 到 40 人 的 大型 团队 并且 按照 各自 的 分工 精确 地 执行 任务 例如 俗称 电男 的 塔 迪乌斯 会 让 全体 玩家 带上 正电 或者 负电 每 30 秒 改变 一次 如果 40 位 玩家 没有 立即 按照 自己 的 极性 分组 站位 那么 全团 都 会 阵亡 2013 年 7 月 25 日 上海 玩家 在 现场 体验 魔兽 世界 网络游戏 视觉 中国 魔兽 世界 需要 大量 操作 玩家 通常 是 一手 拿 鼠标 一手 按 键盘 根本 不 可能 在 高强度 的 首领 战中 打字 交流 即时 语音 通话 软件 应运而生 早期 常见 的 通话 工具 是 国外 的 Teamspeak 但 它 需要 玩家 自行 搭建 服务器 操作 体验 也 不够 便捷 国内 一些 公司 因此 开始 开发 山寨 版 最终 以 魔兽 世界 资讯 网站 起家 的 多 玩 推出 了 YY 语音 以 其 便捷 稳定 的 特性 战胜 了 巨头 新浪 扶持 的 UCTalk 成为 了 行业 中 的 领先者 2016 年 11 月 9 日 山东 济南 网红 搞怪 主播 YY 大 傻 的 直播 界面 视觉 中国 语音 通话 软件 内 的 生态 也 在 慢慢 变化 在 十年 前 PC 时代 的 中国 网络游戏 的 玩家 以 男性 青少年 为主 美女 语音 指挥 一度 是 部分 游戏 公会 招募 玩家 的 广告语 一些 团队 频道 开始 出现 语音 在线 人数 比 游戏 在线 人数 多 的 情况 多 出来 的 人 是 专门 进来 听 女声 的 男 网友 以及 听 男声 的 女网友 久而久之 YY 聊天 频道 的 主题 慢慢 从 游戏 变成 了 唱歌 聊天 2008 年 起 由于 审批 问题 和 代理 权之争 魔兽 世界 的 版本 更新 陷入 停滞 玩家 持续 流失 对 语音 通话 软件 的 贡献率 也 不再 强劲 也 正是 在 2008 年 YY 开始 转型 为 视频 直播 平台 推出 了 大量 吸引 宅 男 用户 的 女主播 2014 年 南方 都市报 就 报道 过 女主播 沈曼 从 月薪 2000 的 护士 摇身一变 成为 年入 数百万 的 YY 女神 的 故事 YY 女主播 沈曼 视觉 中国 除了 女主播 跟着 MC 石头 在 乡村 夜 店里 蹦迪 的 姑娘 小伙儿 们 也 上 了 YY 跟 天南海北 的 同龄人 一起 在 网上 蹦迪 发展 出 了 喊 麦 的 前身 社会 摇 一种 跟随 节奏 左右 摇晃 毫无 技术含量 的 集体舞 开辟 了 YY 语音 乡村 非主流 一片 天 早先 的 社会 摇 并 没有 歌词 是 一种 以 国外 DJ 电音 曲目 当 背景音乐 跳舞 的 代称 一位 叫 萧全 的 草根 歌手 给 其中 一首 社会 摇填 了 词上 传到 YY 上 萧全 的 这首 社会 摇是 一首 近似于 Rap 的 说 唱歌曲 在 很久很久 以前 有 一群 社会青年 每当 月 圆之夜 他们 都 会 举行 一种 古老 而 神秘 的 仪式 HelloMrDJ 这 节奏 不要 停 我 脑袋 里 在 开 Party 不晃 都 不行 2016 年 12 与 10 日 山东 山寨 版 我 要 上 春 晚上 某 公司 职工 表演 社会 摇 视觉 中国 显然 萧全 这 首歌 正是 为 YY 语音 上 无数 躁动 的 男女 青年 写 的 无 技术含量 的 喊话 堪比 张杰 的 Gap 尴尬 的 Rap 却 引来 无数 YY 歌手 的 翻唱 但 一直 以来 YY 都 是 一个 基于 游戏 玩家 的 封闭式 社群 鲜有 人知 YY 上 一个 网络 配音演员 可以 有 动辄 百万 的 粉丝 开 一场 YY 演唱会 可以 有 几千人 同时在线 直到 2014 年 美 拍 在 微博上 推广 社会 摇 搞 成 了 一场 全民 快 闪 半月 时间 在 微博上 阅读 量 突破 15 亿 这波 非主流 才 得以 进入 大众 视野 为什么 是 东北 人 东北 人 在 秀 场主 播界 的 霸主 地位 要 从 央视 春节晚会 说起 1983 年 李谷一 老师 作为 春晚 首发 歌手 唱 的 并 不是 难忘 春宵 而是 当时 被 批为 靡靡之音 的 乡恋 80 年代 随着 经济 的 发展 中央电视台 逐渐 取代 了 中央人民广播电台 的 地位 自 1983 年 以来 央视 的 春节晚会 也 慢慢 演变成 了 大部分 中国 人过 农历 新年 的 保留节目 在 互联网 普及 之前 央视春晚 的 相声 和 小品 定义 着 每年 的 流行 语句 不过 这些 节目 大多 选取 的 是 天津 山东 河北 陕西 等 地区 的 官话 方言 而 南方 方言 很少 出现 姜昆 那 带有 上海 口音 的 普通话 已经 是 春晚 的 极限 了 南方人 通常 把 这种 情况 归 因为 央视 的 大 北方 主义 毕竟 这座 电视台 位于 华北平原 上 但 也 不得不 承认 在 普通话 已经 广泛 普及 的 情况 下 各种 版本 的 官话 更能 覆盖 尽可能 广泛 的 观众 群体 在 诸多 北方方言 中大碴子 味儿 大碴子 本意 是 玉米 碎 引申义 为 东北 农村 口音 尤其 指 辽宁 口音 的 东北 话 具有 尤其 超然 的 地位 这 一切都是 因为 姜昆 推荐 了 来自 辽宁 的 二人转 演员 赵本山 2005 年 2 月 6 日 央视 录备 的 除夕之夜 春节晚会 节目 视觉 中国 赵本山 早期 节目 是 现实主义 的 农村 题材 后期 则 转向 了尬 聊 的 强行 搞笑 一共 21 次 登上 春晚 舞台 几乎 是 凭借 一己 之力 把 忽悠 埋汰 等 借自 满语 的 方言词 普及 到 了 全 中国 赵本山 的 崛起 带来 了 另 一个 结果 各地 夜总会 里 的 山寨 赵本山 如果说 喊麦 和 舞曲 代表 了 城中村 和 小 城市 里 青年人 的 审美 趣味 那么 夜总会 里 模仿 电视台 的 文艺晚会 则 代表 了 这些 地方 中年人 的 审美 趣味 如果 你 在 中西部 地区 搭乘 长途客车 多半会 在 车里 的 电视 上见 过 这种 晚会 的 录像 和 电视台 里 的 同类 一样 夜总会 的 晚会 也 有 声音洪亮 的 主持人 盛装 打扮 的 女歌手 只是 都 比 电视台 显得 土气 一点 而已 2009 年 11 月 29 日 深圳 模仿 赵本山 小 沈阳 和 宋丹丹 的 张二 楞 赵 小山 和 陈 丹丹 视觉 中国 在 语言 类节目 方面 几乎 总会 有 一个 戴着 卷边 鸭舌帽 穿着 深色 中山装 讲 着 一口 辽宁 方言 的 特型 演员 版 赵本山 此外 还会 有 更 原汁原味 的 二人转 式 丑角 因为 不会 在 正式 电视台 上 播出 这些 东北 喜剧演员 的 表演 百无禁忌 下三路 段子 伦理 梗 都 可以 讲 对 这种 节目 的 偏好 的 原因 可能 是 多方面 的 主流 媒体 对 观众 审美 偏好 的 塑造 他们 所 代表 的 权威性 让 中小城市 的 消费者 在 现场 体验 和 央视 同样 的 晚会 时会 产生 一种 高档 的 错觉 无论如何 央视 上 的 赵本山 和 夜总会 里 的 山寨 赵本山 们 上下齐心 共同 在 中国 人 的 心理 留下 了 东北 人 都 是 喜剧演员 的 刻板 印象 也 正是 因为 这种 刻板 印象 的 存在 当 MC 天佑 们 用 东北 话 喊 麦时 观众们 不会 有 任何 不 和谐 的 感觉 反而 会 觉得 本应 如此 MC 天佑 喊麦 视频 截图 而 东北 人好 面子 重义气 的 性格 也 很 容易 让 主播 和 观众 之间 形成 强烈 的 共同体 意识 我 支持 的 主播 厉害 会 被 置换 为 我 很 厉害 这种 移情 让 观众们 不 分 贫富 都 有 为 自己 的 主播 打 钱 的 动机 当 2017 年 当 赵本山 的 女儿 妞妞 赵一涵 翻唱 萧全 的 那首 老歌 社会 摇时 你 完全 不会 想到 萧全 是 个 广西北海 人 只会 感觉 社会 你 涵姐 老 霸道 了 东北 主播 的 江湖 其实 在 稍微 有 技术含量 点 的 游戏 主播 市场 上 东北 人 并 没有 什么 地域 优势 当下 的 直播 行业 已经 有 非常 细致 的 分化 以 虎牙 战旗 熊猫 为 代表 的 游戏 直播 和 以 YY 为 代表 的 秀场 直播 分别 占领 各自 市场 2015 年 05 月 03 日 浙江 混迹 在 网吧 的 女 大学生 妮妮 同时 她 是 一名 网络游戏 女主播 视觉 中国 按 中国 直播 榜 网站 对 网络 主播 进行 的 统计 主播 总榜前 二十位 的 有 相当 大 的 比例 是 游戏 主播 游戏 主播 的 地域 特征 并 不 十分 明显 例如 两位 由前 职业 选手 转型 来 的 知名 英雄 联盟 主播 刘谋 PDD 是 四川人 而 white 卢本伟 是 香港 人 但是 秀 场主 播 就 很 有 特点 了 中国 直播 榜 上当 前排 前 二十 的 秀 场主 播中 网上 有 详细 个人资料 的 有 十七位 其中 来自 东北三省 的 就 有 九位 还有 四位 来自 北京 山西 山东 河南 这些 华北 省份 尽管 不能 确认 全部 主播 中 东北 人 占 多 大 比例 但 至少 可以 认为 东北 人 在 秀 场主 播中 最 顶尖 的 那 一批 中 占有 半壁江山 其中 首屈一指 的 就是 MC 天佑 天佑 老师 的 写真 时刻 在 诠释 着 一人 我 饮酒 醉 微博 截图 在 MC 天佑 身上 你 能 看到 一丝 传统 东北 二人转 的 影子 喊麦 中 接连 曝出 的 暴力 词汇 和 女 人们 你们 听 好 了 但 他 也 同样 享受 着 赵本山 时代 留下 的 遗产 全 中国 人 对 东北 话 很 搞笑 的 偏见 MC 天佑 的 成功 让 东北 老 艺术家 们 意识 到 除了 乡村 爱情 传统 东北 方言 艺术 再 没有 与 之 抗衡 的 载体 了 从 2009 年 春晚 带 着 小 沈阳 出现 后 赵本山 小品 的 口碑 极速 下滑 想 把 每个 演员 都 捧 红 几乎 不 可能 所以 除了 一些 跟着 师傅 走 像 小 沈阳 宋 小宝 等 还有 一批 自己 闯 的 像 周云鹏 小沈龙 等 余下 的 没有 机会 在 荧幕 之上 亮相 就 只能 走 网络 直播 自己 搭 舞台 了 2016 年主播 这 行业 看起来 光鲜 但 能 挣扎 过 温饱线 的 不到 1 想 复制 天佑 的 成功 几乎 是 不 可能 的 2016 年 6 月 30 日 浙江省 杭州市 杭州 举办 网 红脸 识别 人机 大战 视觉 中国 据 北京市 文化 市场 行政 执法 总队 与 团 北京市委 开展 的 调研 显示 331 的 网络 主播 月 收入 500 元 以下 485 的 网络 主播 月 收入 5005000 元 1 以下 的 网络 主播 月 收入 5000 元 1 万元 只有 不到 一成 的 网络 主播 月 收入 万元 以上 为了 让 自己 的 艺人 相互 帮扶 2015 年 的 8 月份 本山 传媒 成立 了 刘老根 公会 还 签约 了 81 位 YY 主播 进军 直播 业而 当年 的 YY 年度 女歌手 冠军 就是 本山 传媒 旗下 的 艺人 文静 另外 一个 活跃 在 YY 语音 上 的 成功 女主播 就是 赵本山 的 女儿 赵一涵 妞妞 借助 老爸 的 名气 赵一涵 14 岁 就 开始 登台 演出 但 当时 只是 靠 假唱 伴奏 模仿 表演 日 韩系 的 舞蹈 一直 没有 起色 直到 靠着 老爸 的 知名度 做起 了 直播 2012 年 8 月 1 日 赵一涵 已经 报名 中国 姐妹 团 SNH48 预备 正式 进军 娱乐圈 没想到 现在 靠 直播 走红 视觉 中国 赵一涵 在 直播间 里 跟 MC 天佑 合影 连麦 在 直播 网红 的 路上 野生 派 东北 艺人 和 传统 派 慢慢 攀上 了 关系 互相 导粉 共同 挣钱 赵本山 的 徒弟 们 也 常常 给 她 刷 礼物 甚至 作为 老父亲 偶尔 在 直播 上 刷刷 脸 赵一涵 曾 创下 一天 收入 400 万 的 纪录 照 这样 的 收益 未来 东北 产业 转型 真的 有望 了 重工业 烧烤 轻工业 喊麦 参考文献 MC 石头 自述 泸州 喊麦 达 人 泸州 电视台 周卫 孙俊彬 土豪 屌丝 的 线 上 狂欢 南方 都市报 2014 中国 直播 榜 httpwwwzbrankcomrankingentertainments 易立 竞 赵本山 上 春晚 我 并 不 快乐 南方 人物周刊 2006'"
      ]
     },
     "execution_count": 53,
     "metadata": {},
     "output_type": "execute_result"
    }
   ],
   "source": [
    "new_content[504] # article to compare"
   ]
  },
  {
   "cell_type": "code",
   "execution_count": 54,
   "metadata": {},
   "outputs": [
    {
     "data": {
      "text/plain": [
       "0.9672036119608485"
      ]
     },
     "execution_count": 54,
     "metadata": {},
     "output_type": "execute_result"
    }
   ],
   "source": [
    "distance(X[random_choose].toarray()[0], vector_of_d_1) # 504 vs 566 越小越接近 参考 [1,1] vs [2,2] = 0"
   ]
  },
  {
   "cell_type": "code",
   "execution_count": 55,
   "metadata": {},
   "outputs": [
    {
     "data": {
      "text/plain": [
       "0.9747787484433666"
      ]
     },
     "execution_count": 55,
     "metadata": {},
     "output_type": "execute_result"
    }
   ],
   "source": [
    "distance(X[random_choose].toarray()[0], vector_of_d_2)  #article 504 vs article 298"
   ]
  },
  {
   "cell_type": "code",
   "execution_count": 56,
   "metadata": {},
   "outputs": [
    {
     "name": "stderr",
     "output_type": "stream",
     "text": [
      "H:\\Anaconda3\\lib\\site-packages\\scipy\\spatial\\distance.py:702: RuntimeWarning: invalid value encountered in double_scalars\n",
      "  dist = 1.0 - uv / np.sqrt(uu * vv)\n"
     ]
    },
    {
     "data": {
      "text/plain": [
       "[504, 255, 62, 48, 64, 8, 52, 56, 47, 61]"
      ]
     },
     "execution_count": 56,
     "metadata": {},
     "output_type": "execute_result"
    }
   ],
   "source": [
    "sorted(range(1000), key=lambda i: distance(X[random_choose].toarray()[0], X[i].toarray()[0]))[:10] \n",
    "# 找出和random_choose在 tf-idf 向量上最接近的文档"
   ]
  },
  {
   "cell_type": "code",
   "execution_count": 64,
   "metadata": {},
   "outputs": [
    {
     "data": {
      "text/plain": [
       "(10000,)"
      ]
     },
     "execution_count": 64,
     "metadata": {},
     "output_type": "execute_result"
    }
   ],
   "source": [
    "X[0].toarray()[0].shape"
   ]
  },
  {
   "cell_type": "code",
   "execution_count": 58,
   "metadata": {},
   "outputs": [
    {
     "data": {
      "text/plain": [
       "'轻松 一刻 工作室 公众 号 qingsong _ 163 出品 每周 一三五 早 八点 格格 陪 你 聊个 骚 大家 吼 我 是 格格 乃们 还 记得 东北 一家人 么 格格 最近 在 回味 ing 没想到 15 年 之后 这剧 仍然 是 我 的 下 饭菜 要说 这 真是 个 神剧 不经意 就 看见 哪个 明星 的 从前 无论是 逗 逼 蛇 精 咖 邓超 还是 现在 的 开心 麻花 扛 把子 沈腾 都 在 这部 剧中 贡献 了 他们 青葱 般的 演技 更 别提 冯小刚 蔡明 潘长江 这些 演技 爆表 的 老戏骨 了 总之 一句 来 客串 的 都 是 现在 的 神人 不过 今天 我们 要说 的 是 剧中 的 主角 操着 一嘴 东北 大碴子 味 从小 娇生惯养 的 牛小玲 扮演 牛小玲 这 演员 名叫 张丹露 辽宁沈阳 那嘎 哒 的 2000 年 因 客串 家庭 喜剧 闲人 马大姐 而 正式 出 道 此后 凭借 情景喜剧 东北 一家人 崭露头角 张丹露 扮演 的 牛小玲 演技 是 相当 过关 的 活泼可爱 单纯 质朴 给 人 留下 了 极 深 的 印象 别人 我 不 知道 反正 她 在 剧中 那身 撞色 混 搭 至今 让 我 记忆犹新 不过 恐怕 很多 人 都 不 知道 在 喜剧 界 崭露头角 的 张丹露 是 转行 做 的 影视 演员 从 中国戏曲学院 花旦 专业 毕业 的 她 可是 个 高材生 从 8 岁 开始 就 学习 京剧 了 更 牛 逼 的 是 她 还 曾经 以 学生 的 身份 在 长安 大戏院 演出 白蛇传 这 在 当年 可是 头 一位 04 的 时候 张丹露 还 出过 一张 京剧 专辑 红灯记 可以 说 对 戏曲 是 相当 热爱 了 除了 喜剧 张丹露 还 拍 过点 古装 青春偶像 剧 比如 至尊 红颜 里 的 上官 琬儿 神医 侠侣 里 的 蒋珊 御前 四宝里 的 白如雁 雪域 迷城 的 萃心 公主 不过 戏 拍 到 这 她 的 演绎 生涯 就 结束 了 因为 她 结婚 了 为了 家庭 她 选择 退出 娱乐圈 相夫教子 她家 男主 大家 都 挺 熟 的 大名鼎鼎 的 武打 明星 赵文卓 据说 俩 人 是 在 饭桌 上 认识 的 后来 朋友 们 帮 着 撮合 两人 都 觉得 对方 人 不错 又 都 是 东北 人 以前 还 都 学过 功夫 挺 有 共同语言 的 于是 在 2003 年 非典 时期 正式 确立 关系 不过 好多 人到 现在 也 想不通 为啥 赵文卓 会 娶 了 牛小玲 赵文卓 是 sei 呀 是 武术界 的 颜值帝 出演 了 很多 古偶剧 算是 童年 男神 之一 啊 人气 没得说 比如 风云 里 的 聂风 至尊 红颜 的 李君羡 啊 七剑下 天山 里 的 楚昭南 再 往前 点 说 人家 当初 在 港片 武打 界 也 是 一大 咖在 他 风华正茂 的 20 岁 有 大 导演 元奎 与 徐克 带 他 入行 深受 梅艳芳 与 张国荣 两位 巨擘 的 垂爱 郑成功 霍元甲 黄飞鸿 一代 英雄 他演 了 一个 又 一个 成为 内地 演员 去 香港电影 发展 的 翘楚 在 青蛇 中 扮演 的 那个 法海 充满 了 欲望 和 矛盾 更是 惊艳 四座 让 人们 讨论 至今 就 连 蛇 年 春晚 都 邀 他 站 桩 可见 论 国民 度 和 咖位 赵文卓 都 是 实打实 的 高 段位 再 看 张丹露 只是 个 十八 线 女演员 除了 一部 东北 一家人 再 无 拿 得 出手 的 作品 而 赵文卓 的 前任 则 是 大名鼎鼎 的 梅艳芳 梅 赵二人 相识 于 1995 年 那 一年 两人 走 到 一起 但仅 一年 就 分开 了 他们 都 没有 公开 分手 的 真正 理由 只是 异口同声 地 表示 因为 性格 方面 的 原因 事实上 圈里人 都 认为 是因为 外界 猜测 赵文卓 想 借 梅艳芳 成名 在 这种 压力 下 赵文卓 才 最终 选择 分手 梅艳芳 曾多次 跟 好友 表示 赵文卓 是 在 她 生命 中 留下 最 多 遗憾 的 男人 也 是 她 这辈子 最想嫁 的 人 谈起 赵文卓 时 梅艳芳 说 如果 时光 可以 倒流 我 一定 会 解释 清楚 导致 分手 的 那场 误会 如果 当年 那么 做 那 现在 我 已经 是 赵 太太 了 梅艳芳 和 赵文卓 约会 在 梅艳芳 去世 后 赵文卓 拒绝接受 任何 媒体 采访 不 发表 任何 意见 只 在 自己 网站 的 留言板 上 悄悄 写下 了 几个 字 我会 去 送 她 卓 之后 赵文卓 现身 殡仪馆 并 在 送给 阿梅 的 花篮 上 写 上 此生 至爱 一路 好 走 八个 字 也 印证 了 他 对 阿梅 的 一份 真挚 感情 至今 未 忘 一个 是 时尚 美艳 的 歌坛 大姐大 一个 是 接地 气 的 18 线 两任 女友 巨大 的 反差 让 许多 人 不能 接受 有 网友 高呼 我 的 法海 啊 你 居然 跟 牛小玲 在 一起 了 有种 突破 次元壁 的 错觉 啊 不过 还是 祝福 啦 虽然 格格 脚着 张丹露 颜值 是 OK 的 但 败 就 败 在 不会 打扮 上 了 造型 太过 土锤 剧照 就 不 说 了 虽然 一言难尽 那 也 是 造型师 的 锅 咱 说 说 生活 上 的 吧 那 才 叫 个 花样百出 本 以为 东北 一家人 里 那些 五彩 的 衣服 和 裤子 是 人设 需要 没想到 本人 就 这样 简直 就是 本色 出演 更 有人 说 自打 赵文卓 跟 张丹露 结婚 后衣品 也 变得 无法 直视 了 本来 挺酷 挺潮 一 大叔 跟 老婆 同框 的 时候 就 变成 了 这样 二人转 的 风格 尤其 钟爱 黑帮 老大 造型 也许 是 备受 非议 去年 俩 人心 一 横拍 了 组 时尚 孕照 当时 张丹露 正 怀着 三胎 呢 不过 格格 从没 见 过 男 的 陪 老婆 拍孕照 也 要 全裸 的 这 在 当时 跟 陈浩民 剃 毛有 一 拼 粉丝 直呼 辣 眼睛 好 在 后来 的 造型 有 了 整容 般的 回春 比如 去年 俩 人 参加 活动 一看 就 下 了 苦功 这 身 打扮 比 以前 时尚 了 不止 一个 level 当然 虽然 老有 声音 说 俩 人 不 般配 但 人家 小日子 可是 过得 和和美美 娱乐圈 像 他们 这样 的 夫妻 挺少 的 不 炒作 没 绯闻 相亲相爱 张丹露 曾经 接受 采访 时说 过 我 认识 文卓 之后 我们 俩 24 小时 那样 形影不离 甚至 恨不得 上 卫生间 也 一起 去 洗澡时 我 也 先 给 他 放上 水 然后 和 他 聊天 他 洗完 后 我 再 把 水 放掉 我们 俩 只要 谁 没有 戏 就 一定 是 一个 去 探 另 一个 的 班 当然 我 探 他 的 班 时间 比较 多 我们 俩 曾 有 一次 有 18 天 没有 见面 文卓 就 说 以后 不能 这样 了 立 了 一个 规矩 我们 分开 的 日子 一定 不能 超过 15 天 只要 我们 俩 都 不 拍戏 就 一定 是 24 小时 在 一起 我们 俩 还 一起 出门 一起 吃饭 一起 回家 俩 人 的 恩爱 都 是 看得见 的 出门 从来 都 是 牵 着 小手 而且 我 发现 赵文卓 跟 他 老婆 在 一起 的 时候 拍 的 照片 都 是 笑 着 的 在 网上 俩 人 也 没 闲着没事 微博秀秀 恩爱 晒晒 娃 可以 看出 这 两口子 是 真的 很 喜欢 孩子 一个 接 一个 的 生 现在 人家 光 孩子 就生 仨 了 这 两口子 本来 就 挺 有 夫妻 相 生出 的 娃 也 跟 复制粘贴 似得 这 一家人 也 真是 没 谁 了 人生 赢家 不过如此 格格 说 想 听 格格 跟 你 聊 什么 跟帖 评论 中 留下 你 想要 讨论 的 话题 就 有 机会 被 格格 临幸 哦 想要 看 更 多 精彩内容 或者 格格 独家 美照 吗 快 来 我们 的 公众 号 qingsong _ 163 来 找 我 吧 等 你 哦'"
      ]
     },
     "execution_count": 58,
     "metadata": {},
     "output_type": "execute_result"
    }
   ],
   "source": [
    "new_content[255]"
   ]
  },
  {
   "cell_type": "markdown",
   "metadata": {},
   "source": [
    "## Build Search Engine\n",
    "**Input: Words**  \n",
    "**Output: Documents**"
   ]
  },
  {
   "cell_type": "code",
   "execution_count": 123,
   "metadata": {},
   "outputs": [],
   "source": [
    "def naive_search(keywords):\n",
    "    return [i for i, n in enumerate(new_content) if all(k in n for k in keywords)]"
   ]
  },
  {
   "cell_type": "code",
   "execution_count": 125,
   "metadata": {},
   "outputs": [],
   "source": [
    "news_id = naive_search('美军 司令 航母'.split())"
   ]
  },
  {
   "cell_type": "code",
   "execution_count": 126,
   "metadata": {},
   "outputs": [
    {
     "data": {
      "text/plain": [
       "[2844,\n",
       " 21484,\n",
       " 21523,\n",
       " 21784,\n",
       " 21901,\n",
       " 22987,\n",
       " 33522,\n",
       " 33770,\n",
       " 34532,\n",
       " 34887,\n",
       " 37846,\n",
       " 38049,\n",
       " 38096,\n",
       " 45474,\n",
       " 45507,\n",
       " 87483,\n",
       " 88997]"
      ]
     },
     "execution_count": 126,
     "metadata": {},
     "output_type": "execute_result"
    }
   ],
   "source": [
    "news_id"
   ]
  },
  {
   "cell_type": "code",
   "execution_count": 127,
   "metadata": {},
   "outputs": [
    {
     "data": {
      "text/plain": [
       "'参考消息 网 6 月 15 日 报道 日本 每日 新闻 6 月 14 日 发表 题为 日本 欲 邀请 海外 大学 和 科研机构 参与 本国 防卫 研究 的 报道 称 关于 从 大学 等 公开 招募 可 应用 于 防卫 装备 品 的 尖端 研究 并 支付 研究 委托 费 的 安全 保障 技术 研究 推进 制度 防卫 装备 厅 已 开始 研究 与 国际 制度 接轨 设想 是 将 委托 对象 从 目前 的 只限 国内 扩大 至 海外 的 大学 和 企业 该 制度 被 很多 人 批评 是 用于 军事 研究 作为 科学家 代表 机构 的 日本 学术会议 3 月 发表声明 指出 从 学术 健康 发展 角度看 存在 很多 问题 防卫 装备 厅 的 方针 料想 将会 引起 轩然大波 该 制度 中 公开 招募 的 规定 是 研究 代表人 需要 是 日本 国籍 对象 限定 为 大学 研究 机构 企业 然而 防卫 装备 厅 认为 要 想 维持 和 提高 与 安全 保障 有关 的 技术 的 优势 需要 招募 更 广泛 的 尖端 研究 机构 因此 防卫 装备 厅 准备 参考 美军 向 海外 研究者 提供 研究 资金 的 制度 并 考虑 与 美国 等 盟国 建立 共同 资金 制度 日本 防卫 装备 厅 防卫 技术 总监 外园 博一 13 日 在 千叶县 海洋 领域 国际 装备 展销会 上 发表 演讲 面对 各国 军人 和 军工企业 相关 人士 表示 希望 发展 制度 使 其 能够 国际性 地 提供 资金 反对 军事 研究 的 名古屋 大学 宇宙 物理学 名誉教授 池内 了 批评 说到底 要 模仿 美国 到 何时 感觉 这是 通过 集体 自卫权 推进 与 盟国 一体化 的 一环 是 旨在 实现 装备 品 共同开发 的 危险 动向 原 海上 自卫队 自卫 舰队 司令 香田洋 二 表示 技术 的 问题 在于 如何 使用 从 海外 公开 招募 研究 不 存在 国家 利益 上 的 问题 但 在 现行制度 的 预算 规模 和 框架 下 海外 知名 大学 不会 满意 应该 不会 应招 点击 图片 进入 下 一页 6 月 1 日 美海军 2 艘 尼米兹 级 核 航母 卡尔文 森号 CVN70 和 罗纳德 里根 号 CVN76 携 数艘 提 康德罗 加级 导弹 巡洋舰 及伯克级 导弹 驱逐舰 与 日本 海上 自卫队 日向 号 直升机 航母 在 日本海 组成 庞大 编队 巡航 图为 三 航母 特 写照 从近 至 远 依次 为 文森号 日 向 号 和 里根 号'"
      ]
     },
     "execution_count": 127,
     "metadata": {},
     "output_type": "execute_result"
    }
   ],
   "source": [
    "new_content[2844]"
   ]
  },
  {
   "cell_type": "markdown",
   "metadata": {},
   "source": [
    "## Input word -> the documents which contain this word"
   ]
  },
  {
   "cell_type": "code",
   "execution_count": 65,
   "metadata": {},
   "outputs": [
    {
     "data": {
      "text/plain": [
       "(50000, 10000)"
      ]
     },
     "execution_count": 65,
     "metadata": {},
     "output_type": "execute_result"
    }
   ],
   "source": [
    "X.shape # articles words(vectors)"
   ]
  },
  {
   "cell_type": "code",
   "execution_count": 66,
   "metadata": {},
   "outputs": [],
   "source": [
    "transposed_x = X.transpose().toarray() #列为文本  行为对应单词"
   ]
  },
  {
   "cell_type": "code",
   "execution_count": 67,
   "metadata": {},
   "outputs": [],
   "source": [
    "word_2_id = vectorized.vocabulary_"
   ]
  },
  {
   "cell_type": "code",
   "execution_count": 69,
   "metadata": {},
   "outputs": [
    {
     "data": {
      "text/plain": [
       "1243"
      ]
     },
     "execution_count": 69,
     "metadata": {},
     "output_type": "execute_result"
    }
   ],
   "source": [
    "word_2_id['今天']# {word: position}"
   ]
  },
  {
   "cell_type": "code",
   "execution_count": null,
   "metadata": {},
   "outputs": [],
   "source": []
  },
  {
   "cell_type": "code",
   "execution_count": 70,
   "metadata": {},
   "outputs": [],
   "source": [
    "id_2_word = {d: w for w, d in word_2_id.items()}"
   ]
  },
  {
   "cell_type": "code",
   "execution_count": 71,
   "metadata": {},
   "outputs": [
    {
     "data": {
      "text/plain": [
       "'正如'"
      ]
     },
     "execution_count": 71,
     "metadata": {},
     "output_type": "execute_result"
    }
   ],
   "source": [
    "id_2_word[6195] # {position: word}"
   ]
  },
  {
   "cell_type": "code",
   "execution_count": 72,
   "metadata": {},
   "outputs": [
    {
     "data": {
      "text/plain": [
       "{97,\n",
       " 138,\n",
       " 190,\n",
       " 229,\n",
       " 322,\n",
       " 444,\n",
       " 514,\n",
       " 708,\n",
       " 759,\n",
       " 834,\n",
       " 875,\n",
       " 959,\n",
       " 1017,\n",
       " 1027,\n",
       " 1087,\n",
       " 1107,\n",
       " 1212,\n",
       " 1239,\n",
       " 1257,\n",
       " 1399,\n",
       " 1516,\n",
       " 1693,\n",
       " 1812,\n",
       " 1818,\n",
       " 1900,\n",
       " 2003,\n",
       " 2142,\n",
       " 2332,\n",
       " 2365,\n",
       " 2379,\n",
       " 2393,\n",
       " 2399,\n",
       " 2410,\n",
       " 2509,\n",
       " 2576,\n",
       " 2737,\n",
       " 2837,\n",
       " 2861,\n",
       " 2867,\n",
       " 2895,\n",
       " 2988,\n",
       " 3101,\n",
       " 3291,\n",
       " 3359,\n",
       " 3392,\n",
       " 3462,\n",
       " 3515,\n",
       " 3678,\n",
       " 3690,\n",
       " 3692,\n",
       " 3804,\n",
       " 3886,\n",
       " 3942,\n",
       " 3955,\n",
       " 4202,\n",
       " 4319,\n",
       " 4401,\n",
       " 4422,\n",
       " 4430,\n",
       " 4521,\n",
       " 4524,\n",
       " 4651,\n",
       " 4684,\n",
       " 4726,\n",
       " 4760,\n",
       " 4942,\n",
       " 5280,\n",
       " 5470,\n",
       " 5621,\n",
       " 5692,\n",
       " 5791,\n",
       " 5897,\n",
       " 6003,\n",
       " 6142,\n",
       " 6253,\n",
       " 6399,\n",
       " 6466,\n",
       " 6488,\n",
       " 6629,\n",
       " 6767,\n",
       " 6941,\n",
       " 6960,\n",
       " 7032,\n",
       " 7055,\n",
       " 7136,\n",
       " 7433,\n",
       " 7555,\n",
       " 7660,\n",
       " 7798,\n",
       " 7886,\n",
       " 7969,\n",
       " 8042,\n",
       " 9099,\n",
       " 9889,\n",
       " 10693,\n",
       " 10743,\n",
       " 10766,\n",
       " 10790,\n",
       " 10820,\n",
       " 11579,\n",
       " 11756,\n",
       " 11863,\n",
       " 12661,\n",
       " 13017,\n",
       " 13037,\n",
       " 13177,\n",
       " 15133,\n",
       " 15403,\n",
       " 16285,\n",
       " 17330,\n",
       " 17415,\n",
       " 18080,\n",
       " 18519,\n",
       " 18575,\n",
       " 18765,\n",
       " 18779,\n",
       " 18912,\n",
       " 20345,\n",
       " 20434,\n",
       " 20854,\n",
       " 23092,\n",
       " 24300,\n",
       " 24649,\n",
       " 24896,\n",
       " 26479,\n",
       " 29345,\n",
       " 29508,\n",
       " 31101,\n",
       " 31434,\n",
       " 32422,\n",
       " 32583,\n",
       " 32874,\n",
       " 33160,\n",
       " 33621,\n",
       " 34446,\n",
       " 34857,\n",
       " 35101,\n",
       " 35576,\n",
       " 35601,\n",
       " 36033,\n",
       " 37093,\n",
       " 37372,\n",
       " 38525,\n",
       " 38881,\n",
       " 38974,\n",
       " 39143,\n",
       " 39245,\n",
       " 39409,\n",
       " 39649,\n",
       " 39700,\n",
       " 39797,\n",
       " 39855,\n",
       " 39864,\n",
       " 40216,\n",
       " 41333,\n",
       " 41334,\n",
       " 41866,\n",
       " 42251,\n",
       " 42811,\n",
       " 42851,\n",
       " 43008,\n",
       " 43126,\n",
       " 43153,\n",
       " 43214,\n",
       " 43351,\n",
       " 43450,\n",
       " 43582,\n",
       " 43801,\n",
       " 44442,\n",
       " 44617,\n",
       " 45215,\n",
       " 45508,\n",
       " 47138,\n",
       " 47349,\n",
       " 48020,\n",
       " 49265,\n",
       " 49326,\n",
       " 49654,\n",
       " 49708,\n",
       " 49714,\n",
       " 49735,\n",
       " 49860,\n",
       " 49936}"
      ]
     },
     "execution_count": 72,
     "metadata": {},
     "output_type": "execute_result"
    }
   ],
   "source": [
    "set(np.where(transposed_x[6195])[0]) # 6195在哪些article中出现过"
   ]
  },
  {
   "cell_type": "code",
   "execution_count": 73,
   "metadata": {},
   "outputs": [
    {
     "data": {
      "text/plain": [
       "(7933, 1532)"
      ]
     },
     "execution_count": 73,
     "metadata": {},
     "output_type": "execute_result"
    }
   ],
   "source": [
    "word_2_id['美国'], word_2_id['俄罗斯']"
   ]
  },
  {
   "cell_type": "code",
   "execution_count": 74,
   "metadata": {},
   "outputs": [],
   "source": [
    "usa = set(np.where(transposed_x[7933])[0])\n",
    "russia = set(np.where(transposed_x[1532])[0])"
   ]
  },
  {
   "cell_type": "code",
   "execution_count": 76,
   "metadata": {},
   "outputs": [
    {
     "data": {
      "text/plain": [
       "{20,\n",
       " 272,\n",
       " 400,\n",
       " 661,\n",
       " 665,\n",
       " 693,\n",
       " 797,\n",
       " 827,\n",
       " 830,\n",
       " 891,\n",
       " 979,\n",
       " 1028,\n",
       " 1070,\n",
       " 1103,\n",
       " 1120,\n",
       " 1170,\n",
       " 1196,\n",
       " 1210,\n",
       " 1218,\n",
       " 1277,\n",
       " 1402,\n",
       " 1431,\n",
       " 1460,\n",
       " 1564,\n",
       " 1614,\n",
       " 1662,\n",
       " 1673,\n",
       " 1676,\n",
       " 1681,\n",
       " 1685,\n",
       " 1701,\n",
       " 1705,\n",
       " 1745,\n",
       " 1780,\n",
       " 1789,\n",
       " 1849,\n",
       " 1904,\n",
       " 1931,\n",
       " 1955,\n",
       " 2076,\n",
       " 2245,\n",
       " 2261,\n",
       " 2294,\n",
       " 2344,\n",
       " 2347,\n",
       " 2354,\n",
       " 2368,\n",
       " 2414,\n",
       " 2437,\n",
       " 2618,\n",
       " 2631,\n",
       " 2697,\n",
       " 2740,\n",
       " 2766,\n",
       " 2769,\n",
       " 2788,\n",
       " 2794,\n",
       " 2826,\n",
       " 2847,\n",
       " 2851,\n",
       " 2988,\n",
       " 3055,\n",
       " 3067,\n",
       " 3073,\n",
       " 3128,\n",
       " 3129,\n",
       " 3139,\n",
       " 3145,\n",
       " 3159,\n",
       " 3254,\n",
       " 3283,\n",
       " 3287,\n",
       " 3346,\n",
       " 3353,\n",
       " 3359,\n",
       " 3401,\n",
       " 3533,\n",
       " 3703,\n",
       " 3735,\n",
       " 3760,\n",
       " 3823,\n",
       " 3876,\n",
       " 3882,\n",
       " 3884,\n",
       " 3887,\n",
       " 3896,\n",
       " 3924,\n",
       " 3926,\n",
       " 3978,\n",
       " 3980,\n",
       " 4193,\n",
       " 4205,\n",
       " 4228,\n",
       " 4319,\n",
       " 4552,\n",
       " 4660,\n",
       " 4731,\n",
       " 4851,\n",
       " 4868,\n",
       " 4908,\n",
       " 4995,\n",
       " 5032,\n",
       " 5097,\n",
       " 5236,\n",
       " 5268,\n",
       " 5280,\n",
       " 5283,\n",
       " 5293,\n",
       " 5307,\n",
       " 5316,\n",
       " 5318,\n",
       " 5333,\n",
       " 5346,\n",
       " 5360,\n",
       " 5363,\n",
       " 5366,\n",
       " 5404,\n",
       " 5414,\n",
       " 5450,\n",
       " 5659,\n",
       " 5669,\n",
       " 5861,\n",
       " 5940,\n",
       " 6003,\n",
       " 6121,\n",
       " 6142,\n",
       " 6303,\n",
       " 6340,\n",
       " 6443,\n",
       " 6452,\n",
       " 6624,\n",
       " 6765,\n",
       " 6769,\n",
       " 6785,\n",
       " 6813,\n",
       " 6817,\n",
       " 6824,\n",
       " 6917,\n",
       " 6933,\n",
       " 6939,\n",
       " 6957,\n",
       " 6999,\n",
       " 7039,\n",
       " 7053,\n",
       " 7180,\n",
       " 7566,\n",
       " 7602,\n",
       " 7604,\n",
       " 7630,\n",
       " 7673,\n",
       " 7719,\n",
       " 7743,\n",
       " 7897,\n",
       " 7954,\n",
       " 8010,\n",
       " 8012,\n",
       " 9864,\n",
       " 9876,\n",
       " 9877,\n",
       " 9882,\n",
       " 9893,\n",
       " 9950,\n",
       " 9997,\n",
       " 10694,\n",
       " 10765,\n",
       " 10940,\n",
       " 11185,\n",
       " 11256,\n",
       " 11307,\n",
       " 11414,\n",
       " 11495,\n",
       " 11558,\n",
       " 11567,\n",
       " 11575,\n",
       " 11579,\n",
       " 11580,\n",
       " 11584,\n",
       " 11589,\n",
       " 11597,\n",
       " 11598,\n",
       " 11609,\n",
       " 11660,\n",
       " 11791,\n",
       " 11854,\n",
       " 11856,\n",
       " 11859,\n",
       " 11862,\n",
       " 11975,\n",
       " 12165,\n",
       " 12171,\n",
       " 12417,\n",
       " 12482,\n",
       " 12526,\n",
       " 13458,\n",
       " 13623,\n",
       " 13654,\n",
       " 13782,\n",
       " 13788,\n",
       " 13898,\n",
       " 13951,\n",
       " 14087,\n",
       " 14253,\n",
       " 14675,\n",
       " 14678,\n",
       " 14679,\n",
       " 14704,\n",
       " 14759,\n",
       " 14843,\n",
       " 14906,\n",
       " 14978,\n",
       " 15041,\n",
       " 15042,\n",
       " 15048,\n",
       " 15050,\n",
       " 15051,\n",
       " 15054,\n",
       " 15058,\n",
       " 15061,\n",
       " 15069,\n",
       " 15077,\n",
       " 15079,\n",
       " 15083,\n",
       " 15098,\n",
       " 15113,\n",
       " 15116,\n",
       " 15138,\n",
       " 15163,\n",
       " 15166,\n",
       " 15264,\n",
       " 15284,\n",
       " 15376,\n",
       " 15553,\n",
       " 15679,\n",
       " 15859,\n",
       " 15871,\n",
       " 15962,\n",
       " 16540,\n",
       " 17130,\n",
       " 17181,\n",
       " 17276,\n",
       " 17278,\n",
       " 17370,\n",
       " 17410,\n",
       " 17415,\n",
       " 17671,\n",
       " 17675,\n",
       " 17716,\n",
       " 17718,\n",
       " 17737,\n",
       " 17804,\n",
       " 18049,\n",
       " 18120,\n",
       " 18520,\n",
       " 18546,\n",
       " 18565,\n",
       " 18570,\n",
       " 18689,\n",
       " 18694,\n",
       " 18746,\n",
       " 18758,\n",
       " 18778,\n",
       " 18893,\n",
       " 18905,\n",
       " 18908,\n",
       " 19037,\n",
       " 19089,\n",
       " 19106,\n",
       " 19132,\n",
       " 19345,\n",
       " 19346,\n",
       " 19357,\n",
       " 19400,\n",
       " 19419,\n",
       " 19437,\n",
       " 19671,\n",
       " 19687,\n",
       " 19720,\n",
       " 19722,\n",
       " 19759,\n",
       " 19797,\n",
       " 19817,\n",
       " 19843,\n",
       " 19845,\n",
       " 19852,\n",
       " 19853,\n",
       " 19909,\n",
       " 19932,\n",
       " 19935,\n",
       " 20016,\n",
       " 20034,\n",
       " 20153,\n",
       " 20154,\n",
       " 20332,\n",
       " 20346,\n",
       " 20348,\n",
       " 20376,\n",
       " 20377,\n",
       " 20508,\n",
       " 20529,\n",
       " 20562,\n",
       " 20592,\n",
       " 20730,\n",
       " 20807,\n",
       " 20902,\n",
       " 21081,\n",
       " 21084,\n",
       " 21212,\n",
       " 21220,\n",
       " 21249,\n",
       " 21250,\n",
       " 21384,\n",
       " 21392,\n",
       " 21421,\n",
       " 21650,\n",
       " 21756,\n",
       " 21784,\n",
       " 21901,\n",
       " 21903,\n",
       " 22244,\n",
       " 22250,\n",
       " 22295,\n",
       " 22304,\n",
       " 22313,\n",
       " 22317,\n",
       " 22635,\n",
       " 22658,\n",
       " 22700,\n",
       " 22710,\n",
       " 22787,\n",
       " 22790,\n",
       " 22960,\n",
       " 22987,\n",
       " 23014,\n",
       " 23046,\n",
       " 23123,\n",
       " 23142,\n",
       " 23150,\n",
       " 23368,\n",
       " 23372,\n",
       " 23460,\n",
       " 23531,\n",
       " 23801,\n",
       " 23810,\n",
       " 23878,\n",
       " 23997,\n",
       " 24158,\n",
       " 24240,\n",
       " 24257,\n",
       " 24298,\n",
       " 24355,\n",
       " 24365,\n",
       " 24420,\n",
       " 24687,\n",
       " 24689,\n",
       " 24702,\n",
       " 24704,\n",
       " 24705,\n",
       " 24709,\n",
       " 24810,\n",
       " 24813,\n",
       " 24894,\n",
       " 25068,\n",
       " 25077,\n",
       " 25325,\n",
       " 25389,\n",
       " 25631,\n",
       " 25639,\n",
       " 25711,\n",
       " 25880,\n",
       " 25883,\n",
       " 26128,\n",
       " 26304,\n",
       " 26306,\n",
       " 26308,\n",
       " 26369,\n",
       " 26370,\n",
       " 26371,\n",
       " 26372,\n",
       " 26374,\n",
       " 26548,\n",
       " 26550,\n",
       " 26565,\n",
       " 26679,\n",
       " 26713,\n",
       " 26720,\n",
       " 26727,\n",
       " 26747,\n",
       " 26793,\n",
       " 26973,\n",
       " 27044,\n",
       " 27136,\n",
       " 27151,\n",
       " 27158,\n",
       " 27258,\n",
       " 27542,\n",
       " 27585,\n",
       " 27748,\n",
       " 27754,\n",
       " 27755,\n",
       " 27944,\n",
       " 28042,\n",
       " 28096,\n",
       " 28193,\n",
       " 28259,\n",
       " 28409,\n",
       " 28412,\n",
       " 28523,\n",
       " 28535,\n",
       " 28537,\n",
       " 28562,\n",
       " 28563,\n",
       " 28605,\n",
       " 28619,\n",
       " 28686,\n",
       " 28692,\n",
       " 28693,\n",
       " 28879,\n",
       " 29039,\n",
       " 29071,\n",
       " 29246,\n",
       " 29633,\n",
       " 29643,\n",
       " 29644,\n",
       " 29645,\n",
       " 29668,\n",
       " 29675,\n",
       " 30024,\n",
       " 30691,\n",
       " 30693,\n",
       " 30708,\n",
       " 31090,\n",
       " 31134,\n",
       " 31274,\n",
       " 31392,\n",
       " 31398,\n",
       " 31400,\n",
       " 31406,\n",
       " 31663,\n",
       " 31762,\n",
       " 31765,\n",
       " 31787,\n",
       " 31926,\n",
       " 31940,\n",
       " 32002,\n",
       " 32389,\n",
       " 32416,\n",
       " 32449,\n",
       " 32494,\n",
       " 32740,\n",
       " 32801,\n",
       " 32842,\n",
       " 32843,\n",
       " 33208,\n",
       " 33312,\n",
       " 33325,\n",
       " 33380,\n",
       " 33570,\n",
       " 33587,\n",
       " 33656,\n",
       " 33673,\n",
       " 33725,\n",
       " 33769,\n",
       " 33914,\n",
       " 34014,\n",
       " 34035,\n",
       " 34072,\n",
       " 34074,\n",
       " 34115,\n",
       " 34322,\n",
       " 34344,\n",
       " 34625,\n",
       " 34937,\n",
       " 35080,\n",
       " 35119,\n",
       " 35128,\n",
       " 35148,\n",
       " 35160,\n",
       " 35175,\n",
       " 35242,\n",
       " 35287,\n",
       " 35307,\n",
       " 35321,\n",
       " 35347,\n",
       " 35506,\n",
       " 35547,\n",
       " 35829,\n",
       " 35907,\n",
       " 35983,\n",
       " 36043,\n",
       " 36094,\n",
       " 36148,\n",
       " 36324,\n",
       " 36710,\n",
       " 36815,\n",
       " 36899,\n",
       " 37043,\n",
       " 37048,\n",
       " 37695,\n",
       " 37787,\n",
       " 37832,\n",
       " 37847,\n",
       " 38049,\n",
       " 38093,\n",
       " 38306,\n",
       " 38660,\n",
       " 38741,\n",
       " 38977,\n",
       " 39633,\n",
       " 39655,\n",
       " 39659,\n",
       " 39670,\n",
       " 39672,\n",
       " 39763,\n",
       " 40000,\n",
       " 40140,\n",
       " 40337,\n",
       " 40339,\n",
       " 40394,\n",
       " 40655,\n",
       " 40727,\n",
       " 40797,\n",
       " 40877,\n",
       " 40914,\n",
       " 40957,\n",
       " 41130,\n",
       " 41152,\n",
       " 41225,\n",
       " 41228,\n",
       " 41396,\n",
       " 41428,\n",
       " 41628,\n",
       " 41730,\n",
       " 41863,\n",
       " 41892,\n",
       " 41935,\n",
       " 41944,\n",
       " 42076,\n",
       " 42217,\n",
       " 42318,\n",
       " 42319,\n",
       " 42324,\n",
       " 42331,\n",
       " 42337,\n",
       " 42352,\n",
       " 42378,\n",
       " 42380,\n",
       " 42501,\n",
       " 42505,\n",
       " 42541,\n",
       " 42687,\n",
       " 43046,\n",
       " 43069,\n",
       " 43149,\n",
       " 43398,\n",
       " 43644,\n",
       " 43663,\n",
       " 43686,\n",
       " 43687,\n",
       " 43698,\n",
       " 43701,\n",
       " 43806,\n",
       " 43906,\n",
       " 43907,\n",
       " 44410,\n",
       " 44411,\n",
       " 44486,\n",
       " 44543,\n",
       " 44590,\n",
       " 44774,\n",
       " 44825,\n",
       " 44836,\n",
       " 44838,\n",
       " 44840,\n",
       " 44864,\n",
       " 44923,\n",
       " 45215,\n",
       " 45388,\n",
       " 45458,\n",
       " 45508,\n",
       " 45556,\n",
       " 45611,\n",
       " 46192,\n",
       " 46251,\n",
       " 46295,\n",
       " 46315,\n",
       " 46611,\n",
       " 46828,\n",
       " 46876,\n",
       " 47378,\n",
       " 47620,\n",
       " 48158,\n",
       " 48335,\n",
       " 48575,\n",
       " 48613,\n",
       " 48614,\n",
       " 48722,\n",
       " 48815,\n",
       " 49005,\n",
       " 49055,\n",
       " 49398,\n",
       " 49407,\n",
       " 49459,\n",
       " 49520,\n",
       " 49725,\n",
       " 49776,\n",
       " 49938,\n",
       " 49993,\n",
       " 49996}"
      ]
     },
     "execution_count": 76,
     "metadata": {},
     "output_type": "execute_result"
    }
   ],
   "source": [
    "usa & russia"
   ]
  },
  {
   "cell_type": "code",
   "execution_count": 77,
   "metadata": {},
   "outputs": [
    {
     "data": {
      "text/plain": [
       "'原 标题 叙利亚 被 袭机 事件 惹怒 俄罗斯 警告 将 瞄准 美 战机 海外 网 6 月 19 日电 当地 时间 6 月 19 日 俄罗斯国防部 对 美国 军方 击落 叙利亚 飞机 一事 作出 反击 宣布 停止 执行 俄美 两国 签署 的 在 叙 飞行 安全 备忘录 并称 以后 美国 领导 的 国际 联军 所有 的 战机 都 是 俄罗斯 军方 监控 与 瞄准 的 目标 叙利亚 局势 进一步 复杂化 据 纽约时报 消息 由于 美国 军方 今日 击落 了 一架 叙利亚 军机 俄罗斯国防部 发布 消息 自 6 月 19 日起 暂停 执行 俄美间 在 叙利亚 领空 防止 空中 事件 和 保障 行动 期间 飞行 安全 的 相互 谅解 备忘录 要求 美方 指挥部 对此 事件 进行 彻查 结果 与 俄方 共享 公告 称 俄空军 在 叙利亚 领空 执行 任务 的 地区 里 幼发拉底河 西岸 发现 的 任何 飞行物 包括 美国 领导 的 国际 联军 的 飞机 和 无人机 都 将 是 俄罗斯 军方 地面 和 空中 防空 武器 监控 与 瞄准 的 目标 据 叙利亚 军方 声明 当地 时间 6 月 19 日 一架 政府 军机 正 前往 拉卡 Raqqa 市 准备 对 盘踞 于 此 的 IS 武装 分子 进行 打击 却 突然 遭到 美军 袭击 飞行员 至今 失踪 声明 称 这次 袭击 发生 的 时机 是 在 叙利亚 政府 及其 盟国 的 军队 在 与 IS 恐怖分子 的 战斗 中 获得 优势 的 情况 下 发生 的 本来 这些 恐怖分子 已经 在 叙利亚 的 沙漠 中 节节败退 此次 袭机 事件 惹怒 了 俄罗斯 俄罗斯 参议院 国防委员会 副 主席 弗朗茨 克莱 琴 谢夫 FrantsKlintsevich 称 美军 的 行动 是 挑衅 行为 实际上 是 对 叙利亚 的 军事 侵略 该 部门 认为 美军 故意 不 履行 双方 2015 年 签署 的 安全 备忘录 中 规定 的 义务 因此 宣布 暂停 与 美军 在 该 框架 下 的 合作 据 报道 该 协议 一直 是 美 俄 两国 军队 协调 在 该 地区 的 军事 活动 的 关键 俄罗斯 美国 叙利亚 土耳其 等 国家 在 叙利亚 的 诉求 经常 是 相冲突 的 该 协议 就 在 其中 起到 调和 作用 在 特朗普 四月 下令 袭击 叙利亚 空军 之后 俄方 表示 将 暂停 协议 不过 几个 星期 之后 又 重启 这次 时隔 两月 后 再 被 中断 俄罗斯 外长 拉夫罗夫 在 回应 记者 时 也 表示 涉及 到 叙利亚 地面 所 发生 的 事情 毫无疑问 我们 认为 有 必要 尊重 叙利亚 的 主权 和 领土完整 这是 联合国 2254 号 决议 和 其他 文件 规定 的 因此 任何 地面 行动 包括 实施 军事行动 的 参与方 需 得到 大马士革 的 许可 编译 海外 网杨佳'"
      ]
     },
     "execution_count": 77,
     "metadata": {},
     "output_type": "execute_result"
    }
   ],
   "source": [
    "new_content[20]"
   ]
  },
  {
   "cell_type": "code",
   "execution_count": 78,
   "metadata": {},
   "outputs": [],
   "source": [
    "from functools import reduce\n",
    "from operator import and_"
   ]
  },
  {
   "cell_type": "code",
   "execution_count": 79,
   "metadata": {},
   "outputs": [],
   "source": [
    "d1, d2, d3 = {1, 2, 3}, {4, 5, 6, 3, 2}, {1, 3, 4}"
   ]
  },
  {
   "cell_type": "code",
   "execution_count": 84,
   "metadata": {},
   "outputs": [
    {
     "data": {
      "text/plain": [
       "{3}"
      ]
     },
     "execution_count": 84,
     "metadata": {},
     "output_type": "execute_result"
    }
   ],
   "source": [
    "reduce(and_,[d1, d2, d3])"
   ]
  },
  {
   "cell_type": "code",
   "execution_count": 85,
   "metadata": {},
   "outputs": [],
   "source": [
    "def search_engine(query):\n",
    "    \"\"\"\n",
    "    @query is the searched words, splited by space\n",
    "    @return is the related documents which ranked by tfidf similarity\n",
    "    \"\"\"\n",
    "    words = query.split()\n",
    "    \n",
    "    query_vec = vectorized.transform([' '.join(words)]).toarray()[0]\n",
    "\n",
    "    candidates_ids = [word_2_id[w] for w in words]\n",
    "    \n",
    "    documents_ids = [\n",
    "         set(np.where(transposed_x[_id])[0]) for _id in candidates_ids\n",
    "    ]\n",
    "    \n",
    "    merged_documents = reduce(and_, documents_ids)\n",
    "    # we could know the documents which contain these words\n",
    "    sorted_docuemtns_id = sorted(merged_documents, key=lambda i: distance(query_vec, X[i].toarray()))\n",
    "\n",
    "    return sorted_docuemtns_id"
   ]
  },
  {
   "cell_type": "code",
   "execution_count": 90,
   "metadata": {},
   "outputs": [
    {
     "data": {
      "text/plain": [
       "[5978, 91, 3227, 4730, 2371, 465, 6861, 4836, 2078, 8067, 5811]"
      ]
     },
     "execution_count": 90,
     "metadata": {},
     "output_type": "execute_result"
    }
   ],
   "source": [
    "search_engine('华为 手机 销量')"
   ]
  },
  {
   "cell_type": "code",
   "execution_count": 92,
   "metadata": {},
   "outputs": [
    {
     "data": {
      "text/plain": [
       "'美国 石英 财经网 6 月 15 日 文章 原题 中国 智能手机 品牌 正 通过 复制 其 久经考验 的 国内 战略 赢得 印度 市场 中国 品牌 正在 统治 全球 增长 最快 的 智能手机 市场 去年 10 月 至 11 月 在 印度 排名 前五 的 智能手机 品牌 中有 4 个 来自 中国 Vivo 小米 联想 和 OPPO 在 该 市场 的 总 份额 已超 40 远高于 一年 前 的 14 除了 多年 生产 经验 中国 厂商 在 印 取得成功 的 秘诀 还 包括 已 在 中国 本土 奏效 的 营销 策略 中国 厂商 具有 一个 优势 即 印中 消费者 存在 相似 习惯 对 品牌 的 忠实度 都 很 低 因此 所有 厂商 的 竞争 都 围绕 价格 和 内存 等 硬件 展开 中国 品牌 已 掌握 个 中 技巧 为 吸引 对 价格 敏感 的 印度 顾客 中国 手机 专注 于 增加 内存空间 提供 多个 SIM卡 槽 以便 用户 选择 收费 更 低 的 网络 运营商 等 功能 针对 热衷 自拍 的 印度 消费者 金立酷 派 和 OPPO 等 都 推出 自拍 专用 摄像头 中国 品牌 还 谙熟 印度 语言 的 多样性 手机 支持 的 地方 语言 甚至 超过 印度 同行 在 印度 中国 厂商 还 占据 另 一 优势 都 是 高效 生产 的 行家 纽约大学 商业 分析 中心 主任 阿宁迪亚 高斯 说 他们 充分利用 深圳 的 制造业 基地 以极 低成本 生产 出 达到 旗舰 产品 标准 的 高质量 手机 如今 随着 新德里 展开 印度 制造 攻势 华为 等 中国 手机 制造商 正 把 生产线 迁入 印度 中国 厂商 还斥 巨资 聘请 宝莱坞 和 板球 明星 为 其 代言 以 吸引 印度 消费者 但 这 只是 表面 功夫 他们 的 真正 销售 战略 是 复制 已 在 华 奏效 的 线下 分销 模式 毕竟 在 印度 线上 销售 仅 占 总 销量 的 13 一些 中国 品牌 正 复制 国内 的 小镇 战略 在 印 开设 大量 实体 销售点 和 服务中心 这 意味着 中国 品牌 把 视线 投向 城市 市场 以外 而 苹果 正在 大城市 建造 大 展厅 销售 仅 有 1 的 印度人 买得起 的 产品 作者 安 南亚 巴塔 查亚 王会 聪译'"
      ]
     },
     "execution_count": 92,
     "metadata": {},
     "output_type": "execute_result"
    }
   ],
   "source": [
    "new_content[3227]"
   ]
  },
  {
   "cell_type": "code",
   "execution_count": 150,
   "metadata": {},
   "outputs": [],
   "source": [
    "text = \"\"\"新华社洛杉矶４月８日电（记者黄恒）美国第三舰队８日发布声明说，该舰队下属的“卡尔·文森”航母战斗群当天离开新加坡，\n",
    "改变原定驶往澳大利亚的任务计划，转而北上，前往西太平洋朝鲜半岛附近水域展开行动。\\n　　该舰队网站主页发布的消息说，美军太平\n",
    "洋司令部司令哈里·哈里斯指示“卡尔·文森”航母战斗群向北航行。这一战斗群包括“卡尔·文森”号航空母舰、海军第二航空队、两艘\n",
    "“阿利·伯克”级导弹驱逐舰和一艘“泰孔德罗加”级导弹巡洋舰。\\n　　“卡尔·文森”号航母的母港位于美国加利福尼亚州的圣迭戈，\n",
    "今年１月初前往西太平洋地区执行任务，并参与了日本及韩国的军事演习。\\n　　美国有线电视新闻网援引美国军方官员的话说，\n",
    "“‘卡尔·文森’号此次行动是为了对近期朝鲜的挑衅行为作出回应”。（完）\"\"\""
   ]
  },
  {
   "cell_type": "code",
   "execution_count": 151,
   "metadata": {},
   "outputs": [
    {
     "name": "stdout",
     "output_type": "stream",
     "text": [
      "新华社洛杉矶４月８日电（记者黄恒）美国第三舰队８日发布声明说，该舰队下属的“卡尔·文森”航母战斗群当天离开新加坡，\n",
      "改变原定驶往澳大利亚的任务计划，转而北上，前往西太平洋朝鲜半岛附近水域展开行动。\n",
      "　　该舰队网站主页发布的消息说，美军太平\n",
      "洋司令部司令哈里·哈里斯指示“卡尔·文森”航母战斗群向北航行。这一战斗群包括“卡尔·文森”号航空母舰、海军第二航空队、两艘\n",
      "“阿利·伯克”级导弹驱逐舰和一艘“泰孔德罗加”级导弹巡洋舰。\n",
      "　　“卡尔·文森”号航母的母港位于美国加利福尼亚州的圣迭戈，\n",
      "今年１月初前往西太平洋地区执行任务，并参与了日本及韩国的军事演习。\n",
      "　　美国有线电视新闻网援引美国军方官员的话说，\n",
      "“‘卡尔·文森’号此次行动是为了对近期朝鲜的挑衅行为作出回应”。（完）\n"
     ]
    }
   ],
   "source": [
    "print(text)"
   ]
  },
  {
   "cell_type": "code",
   "execution_count": 152,
   "metadata": {},
   "outputs": [],
   "source": [
    "import re"
   ]
  },
  {
   "cell_type": "code",
   "execution_count": 153,
   "metadata": {},
   "outputs": [],
   "source": [
    "text = \"\"\"美国有线电视新闻网援引美国军方官员的话说\"\"\""
   ]
  },
  {
   "cell_type": "code",
   "execution_count": 154,
   "metadata": {},
   "outputs": [],
   "source": [
    "pat = r'(新闻|官员)'"
   ]
  },
  {
   "cell_type": "code",
   "execution_count": 155,
   "metadata": {},
   "outputs": [
    {
     "data": {
      "text/plain": [
       "'美国有线电视**新闻**网援引美国军方**官员**的话说'"
      ]
     },
     "execution_count": 155,
     "metadata": {},
     "output_type": "execute_result"
    }
   ],
   "source": [
    "re.compile(pat).sub(repl=\"**\\g<1>**\", string=text)"
   ]
  },
  {
   "cell_type": "code",
   "execution_count": 96,
   "metadata": {},
   "outputs": [],
   "source": [
    "def get_query_pat(query):\n",
    "    return re.compile('({})'.format('|'.join(query.split())))"
   ]
  },
  {
   "cell_type": "code",
   "execution_count": 97,
   "metadata": {},
   "outputs": [
    {
     "data": {
      "text/plain": [
       "re.compile(r'(美军|司令|航母)', re.UNICODE)"
      ]
     },
     "execution_count": 97,
     "metadata": {},
     "output_type": "execute_result"
    }
   ],
   "source": [
    "get_query_pat('美军 司令 航母')"
   ]
  },
  {
   "cell_type": "code",
   "execution_count": 98,
   "metadata": {},
   "outputs": [],
   "source": [
    "def highlight_keywords(pat, document):\n",
    "    return pat.sub(repl=\"**\\g<1>**\", string=document)"
   ]
  },
  {
   "cell_type": "code",
   "execution_count": 99,
   "metadata": {},
   "outputs": [
    {
     "data": {
      "text/plain": [
       "'\\u3000\\u3000新华社北京４月１０日电新闻分析：“卡尔·文森”号**航母**缘何成西太平洋军情新主角\\\\n\\u3000\\u3000新华社记者刘莉莉\\\\n\\u3000\\u3000美国海军第三舰队下属的“卡尔·文森”号**航母**打击群即将抵达西太平洋朝鲜半岛附近水域。分析人士认为，美方此次急调**航母**打击群北上，向朝鲜施压意图明显，很可能会加剧朝鲜半岛紧张局势。\\\\n\\u3000\\u3000（小标题）侧重对地攻击\\\\n\\u3000\\u3000据第三舰队网站主页发布的消息，**美军**太平洋**司令**部**司令**哈里·哈里斯指示“卡尔·文森”号**航母**打击群从新加坡向北航行。这一打击群还包括海军第二航空队、两艘“阿利·伯克”级导弹驱逐舰和一艘“泰孔德罗加”级导弹巡洋舰。\\\\n\\u3000\\u3000“卡尔·文森”号是“尼米兹”级核动力**航母**，母港位于美国加利福尼亚州的圣迭戈，今年１月初，“卡尔·文森”号曾前往西太平洋地区执行任务，并参与美日韩三国军事演习。“尼米兹”级**航母**是核动力多用途**航母**，也是美国海军远洋作战群的核心力量。\\\\n\\u3000\\u3000“卡尔·文森”**航母**打击群中，“阿利·伯克”级导弹驱逐舰和“泰孔德罗加”级导弹巡洋舰也不可小视。“阿利·伯克”级导弹驱逐舰是世界上最先配备四面相控阵雷达的驱逐舰，舰队防空是其主要作战任务。“泰孔德罗加”级导弹巡洋舰的武器配备也比较全面，涵盖了反潜、反舰、防空和对地４个种类。\\\\n\\u3000\\u3000据军事专业人士介绍，**航母**打击群与**航母**战斗群其实是两个概念，战斗群侧重于夺取制海权，例如海战；而**航母**打击群更侧重于对地攻击作战。一般而言，打击群的舰艇数量要远少于战斗群。\\\\n\\u3000\\u3000（小标题）配角跻身主角\\\\n\\u3000\\u3000第三舰队是美国海军太平洋舰队两大舰队之一，拥有４个**航母**打击群，分别是以“卡尔·文森”号为核心的第一**航母**打击群、以“约翰·斯坦尼斯”号为核心的第三**航母**打击群、以“西奥多·罗斯福”号为核心的第九**航母**打击群和以“尼米兹”号为核心的第十一**航母**打击群。\\u3000\\\\n\\u3000\\u3000资深军事评论员石宏说，在美国海军力量中，第三舰队原本地位一般，因为其所管辖的国际日期变更线以东的东太平洋比较安稳，所以更多扮演战略预备队的配角角色。只有在负责执行前沿部署和应急反应任务的第七舰队有需要时，第三舰队才会奉令前去换班或增援。但自２０１５年下半年以来，太平洋舰队打破了延续数十年的惯例，大幅提升第三舰队的活跃度，令其开始更多涉足西太平洋地区。\\\\n\\u3000\\u3000“实际上，这是**美军**根据新的‘全球一体化’军事战略而做的调整，目的是优化资源、改变本土与前沿的兵力平衡，缓解目前美国海军兵力不足与战线过长、资源下滑与保持战备之间的尖锐矛盾，”石宏说。\\\\n\\u3000\\u3000正因如此，“卡尔·文森”号**航母**开始忙碌起来。自从今年１月离开母港后，“卡尔·文森”号边走边练，特别是在夏威夷和关岛水域与当地驻扎部队进行了多轮演训。２月１８日，“卡尔·文森”号**航母**进入南海水域进行所谓“巡航”；３月１５日，“卡尔·文森”号抵达韩国釜山，随后在２０日参加了美韩“关键决断”联合军演。４月４日，“卡尔·文森”号抵达新加坡，原本计划南下前往澳大利亚，但随后接到再度北上命令，赶往朝鲜半岛附近海域。\\\\n\\u3000\\u3000（小标题）或在火上浇油\\\\n\\u3000\\u3000一名不愿公开姓名的五角大楼官员告诉美国有线电视新闻网，“卡尔·文森”号**航母**打击群驶向西太平洋的朝鲜半岛水域，“旨在对近期朝鲜的挑衅行为作出回应”。\\\\n\\u3000\\u3000包括“卡尔·文森”号在内的美国海军新近动向引起各方关注。不少人担心，这一行动将给半岛紧张局势火上浇油。俄罗斯议会上院防务和安全委员会主席维克托·奥泽罗夫警告说，美国动作可能会刺激朝鲜方面作出急躁反应。\\\\n\\u3000\\u3000石宏认为，美国急调“卡尔·文森”号**航母**打击群赶赴半岛附近水域，是想通过军事施压，迫使朝鲜放弃进行新一轮核试验的打算。但从以往经验看，美国用不断加码的军事威慑不仅不会让半岛局势降温，反而会刺激朝鲜越发强硬。（完）\\u3000'"
      ]
     },
     "execution_count": 99,
     "metadata": {},
     "output_type": "execute_result"
    }
   ],
   "source": [
    "highlight_keywords(get_query_pat('美军 司令 航母'), content['content'][22987])"
   ]
  },
  {
   "cell_type": "code",
   "execution_count": 100,
   "metadata": {},
   "outputs": [],
   "source": [
    "from IPython.display import display, Markdown"
   ]
  },
  {
   "cell_type": "code",
   "execution_count": 101,
   "metadata": {},
   "outputs": [],
   "source": [
    "def search_engine_with_pretty_print(query):\n",
    "    candidate_ids = search_engine(query)\n",
    "    pat = get_query_pat(query)\n",
    "    for i, id_ in enumerate(candidate_ids):\n",
    "        title = '### Search Result {}'.format(i)\n",
    "        c = content['content'][id_]\n",
    "        c = highlight_keywords(pat, c)\n",
    "        \n",
    "        display(Markdown(title + '\\n' + c))"
   ]
  },
  {
   "cell_type": "code",
   "execution_count": 102,
   "metadata": {},
   "outputs": [
    {
     "data": {
      "text/markdown": [
       "### Search Result 0\n",
       "最近，不少人在朋友圈等个人社交媒体上吐槽打车难。人们发现，不仅在早晚高峰，甚至是传统的非高峰时段，都出现了路上扬招成功率越来越低，打车软件不加价或是加价少难以吸引司机接单的情况。而类似的情况，在上海、北京、武汉等地都或多或少地存在。\r\n",
       "对此，一些城市迅游车的驾驶员们表示，历年**春节**前，都会遇到活多车少的情况。对司机而言，能加价赚到钱，何乐而不为呢？\r\n",
       "21日晚8点，滴滴高级产品总监罗文在知乎上发文回应称，根据后台数据显示：今年司机回家早，运力下降。在其晒出有关“滴滴在线司机数据”和“北京订单需求”的两张手绘图表中，虽然隐去了具体数值，但可以明显看出，前一张图表近期呈现了直线下降趋势，标注数据显示下降超过25%。而出行订单数量则同期上涨了3成。\r\n",
       "不过，在线司机变少的情况，仅仅是因为临近**假期**，专车司机纷纷提早回家过年造成的吗？\r\n",
       "相关数据显示，自去年国庆之后，地方版网约车新政陆续出台后，市场上的网约车供给量就呈现出大幅减少的趋势。以上海为例，网约车新政之后，上海合规的网约车数量只有1万辆左右，市场供给大幅减少，打车难开始悄然回潮。\r\n",
       "与此同时，网约车市场过度集中，部分平台一家独大。也让消费者瞬间，难以从补贴优惠的温情脉脉中回过神来，瞬间跌入了加价才能叫到车的冰冷现实中。\r\n",
       "一位Uber中国早期员工指出，滴滴打车软件，自动设置了加价选项，即便第一次加价没被接单，还可以再次加价叫车。司机知道用户可以多次选择加价，就有意不接那些不加价的单子。他知道你叫不到车就会提高小费，就故意等着。于是，这个潜规则的结果，就是乘客反复加价才能叫到车，既浪费了时间，也付了更多的钱。\r\n",
       "对于近日有消费者称打车难、打车贵的问题，23日下午，滴滴出行官方微博发布《致广大用户的一封信》表示，将从即日起，在全国范围内阶段性取消出租车“建议调度费”功能，以减少因为春运期间本身供不应求和价格因素带来的体验问题。\r\n",
       "滴滴方面表示，此举将有可能给部分乘客带来呼叫等待时间的增加，以及打车成功率降低的影响。不过，为了鼓励在**春节**期间坚持出车的司机师傅，仍会保留用户主动给予调度费的功能，**春节**过后会根据用户的反馈再做决策。并强调，所有调度费滴滴分文不取。\r\n"
      ],
      "text/plain": [
       "<IPython.core.display.Markdown object>"
      ]
     },
     "metadata": {},
     "output_type": "display_data"
    },
    {
     "data": {
      "text/markdown": [
       "### Search Result 1\n",
       "\\n新华社上海4月4日新媒体专电题：中国人愿意为旅游投入更多时间和金钱\\n新华社记者陈爱平、许晓青\\n28岁的上海白领林夏今年清明节没有留在家乡，而是提前请了年假，赴印度洋上的岛国斯里兰卡自助游。\\n“一个人全部花费，不超过1万元人民币，约等于一个月的工资，完全可以负担得起。”她说。\\n对于不少中国人来说，旅游已经成为一种“生活必需品”。\\n\\n　　图为在上海市徐汇区的一家旅行社门店，一位市民询问欧洲游情况.（新华社记者陈爱平摄）\\n\\n除了扫墓祭祖、踏青赏花，中国的清明节**假期**也成为出游旺季。国内游、出境游人数都不可小觑。\\n前不久，记者来到上海市黄浦区出入境办证中心大厅。工作人员说，今年以来，前来办理出入境证件的居民络绎不绝。尤其是祖孙三代一起来办理证件的全家出行者增多。除了**春节**七天长假，还有清明、“五一”、端午等三天左右的小长假，这些**假期**到来前的一个月，“突击”办理出入境证件的居民往往会扎堆。\\n中国《2016年国民经济和社会发展统计公报》显示，2016年，全国国内游客44亿人次，比上年增长11.2%；国内居民出境13513万人次，增长5.7%。\\n旅游消费旺盛的趋势在2017年开年后仍然延续：根据中国国家旅游局数据中心综合测算，2017年**春节**期间，全国共接待游客3.44亿人次，同比增长13.8%，实现旅游总收入4233亿元，同比增长15.9%。\\n\\n　　斯里兰卡的”狮子岩“景区.（由林夏提供）\\n\\n远在北欧的瑞典，当地的旅游主管部门也感受到了中国人越来越高涨的出游热情。\\n统计显示，2017年1月，中国游客在瑞典全国的“间夜量”（衡量酒店在一定时间内出租率的计算单位）同比增长74.2%。同期，瑞典首都斯德哥尔摩“总间夜量”增长超过10%，其中中国游客增长幅度最为显著，高达82%。\\n瑞典旅游局中国区首席代表李春梅表示，瑞典冬季旅游市场在中国发展迅速，得益于中国游客对于新鲜目的地和独特旅游体验的旺盛需求。\\n在线旅行社携程旅行网近日发布的《2017中国旅游者意愿调查报告》研判，中国人愿意为旅游投入更多的时间和金钱。\\n报告称：2017年，98%的受访者有出游意愿。其中计划出行频次1－3次的受访者占比72%，计划出行4－6次的受访者占比19%。\\n作为一种“必需品”，旅游正成为中国人消费的重要支出。同是携程这份根据2.5亿会员进行的随机抽样调查及大数据分析报告显示，57%的受访者预计全年旅游花费占年收入的10%以上；19%的受访者甚至愿意将20%的年收入用于旅游。从具体金额来看，73%的受访者表示，全年旅游人均花费将超过1万元。\\n\\n　　超过5成受访者预计全年旅游花费占年收入的１０％以上。（由携程旅行网提供）\\n\\n林夏在接受采访时也证实，自己花费在旅游上的年均消费，大约为2万元。\\n专家分析，随着中国居民收入提升，在旅游方面的支出提升成为居民消费升级的例证。“多花一点钱，可以多体验一点旅行的幸福感”，这成为大部分游客的一项共识。\\n也正是基于上述原因，多家在线旅行社大数据显示，越来越多的中国居民愿意选择更舒适的酒店、体验美食和享受服务；旅游产品亦更加多样化：定制游、自由行等选择空间更大，亲子游、中老年游等满足社会多层次需求的旅游产品在2017年将持续火爆。\\n从出行时间看，携程报告显示，随着带薪休假制度的落实以及中国居民出行观念的改变，利用年假、周末出游的受访者分别占比52.7%及19%。\\n清明节**假期**，仅4月2日当天，上海顾村公园就刷新了接待游客纪录，迎来18.29万人。驴妈妈旅游网分析，今年国内赏樱游人次预计同比增长近7成。\\n驴妈妈旅游网介绍，“赏花”亦是近期出境旅游的热词之一：清明节前后，赴日赏樱游预订人次较去年同期增加了近3成。\\n\\n　　无锡十八湾风景区赏花游人络绎不绝。（由驴妈妈旅游网提供）\\n\\n上海财经大学旅游管理系主任何建民分析，旅游成为中国居民的“必需品”，亦成为中国国民经济的“必需品”，见证着中国正在推进的供给侧改革。\\n中国国家旅游局数据显示，全国旅游直接投资在2016年达到12997亿元，同比增长29.05%。而据联合国世界旅游组织测算，2016年中国旅游业对国民经济综合贡献率达11%、对社会就业综合贡献超过10.26%。\\n此前中国发布的《“十三五”旅游业发展规划》提出，“十三五”时期旅游业对国民经济的综合贡献度达到12%，对餐饮、住宿、民航、铁路客运业的综合贡献率达到85%以上，年均新增旅游就业人数100万人以上。\\n今年3月初公布的《“十三五”全国旅游公共服务规划》，重点部署了未来旅游公共服务发展的16项重点工程。专家认为，这将为中国居民出游提供更好保障。\\n“我计划每年至少到境外旅游一次，这样在下一次更换护照的时候，又会收集到更多各国特色的出入境签证及印章。加上国内游短途游，今后还会花更多钱和时间，去享受旅行。”林夏说。\\n"
      ],
      "text/plain": [
       "<IPython.core.display.Markdown object>"
      ]
     },
     "metadata": {},
     "output_type": "display_data"
    },
    {
     "data": {
      "text/markdown": [
       "### Search Result 2\n",
       "　　新华社北京3月31日电（记者魏梦佳、钟雅）记者31日从北京市公园管理中心获悉，今年清明假日期间，北京市属11家公园及中国园林博物馆将举办25项假日游园活动。其中，各大公园内总面积近1000公顷的主题赏花景区，将掀起市民游客游园赏花热潮。\\n　　目前北京各大公园内一片春意盎然，各类春花正热闹绽放。北京市公园管理中心表示，今年春季，市属11家公园的春花观赏面积达到了园内绿地面积的70%。除了常年定植的四季花木，各园还采用了花期调控、精品盆栽、室内花展等多种技术手段和展示方式，使今春花卉布置总面积增加近10%。\\n　　今年清明**假期**，各园近千公顷的赏花景区将成为市民游客度假的首选。玉渊潭公园的樱花节、陶然亭公园的海棠春花节、中山公园的郁金香展、北京植物园的桃花节等**春节**赏花活动都已展开，各色春花依山傍水，争相吐艳，本周末还将迎来新一轮盛花期。其中，陶然亭公园栽植和展出的海棠达45个品种、3000多株。\\n　　除赏花外，清明诗会、民俗展示、文化展演、主题纪念等多种展示清明文化的活动也将在陶然亭公园、玉渊潭公园、中国园林博物馆等上演。香山公园双清别墅、中山公园孙中山像等13处北京公园爱国主义教育基地也将迎来大批前来缅怀祭扫的游客市民。清明期间，各公园内的祭扫纪念景区将市民及团体提供讲解、举行纪念仪式、牌示导览等服务。（完）\\n"
      ],
      "text/plain": [
       "<IPython.core.display.Markdown object>"
      ]
     },
     "metadata": {},
     "output_type": "display_data"
    },
    {
     "data": {
      "text/markdown": [
       "### Search Result 3\n",
       "即将进入7月，对于城市学生而言，美好的暑假又如期而至了，而对于另一群人——留守儿童而言，迎接他们的却是一个“冷清”的**假期**。离开了学校，没有了老师和同学的陪伴，也没有父母的守护，他们的**假期**是孤单而乏味的。\r\n",
       "记者从清远相关部门获悉，清远农村留守儿童约2.39万名，数量在全省排名第四。留守儿童长期缺乏亲情关爱和有效保护，处境堪忧。为做好农村留守儿童关爱保护工作，促进农村留守儿童健康成长。近年来，清远不断完善制度方案为留守儿童撑起“保护伞”。\r\n",
       "就在今年4月份，清远市政府常务会议审议了《清远市关于加强农村留守儿童关爱保护工作的实施方案》（稿）），提出建立考核机制，强化激励问责。对成效明显的，按照国家有关规定予以激励。对工作不力、措施不实、造成不良影响的，按规定追究相关人员的党纪政纪责任；造成严重后果的将对有关领导进行问责。\r\n",
       "清远市心理学会会长张万英认为，不能让“留守儿童”成为“缺爱儿童”。不能经常和孩子在一起生活的父母，要争取多与孩子保持常态联系；不要让“留守儿童”成为“无助儿童”，政府要完善社区中留守儿童服务的功能，关注学生成长中遇到的生理、心理问题。\r\n",
       "●采写/整理：魏金锋\r\n",
       "“半年难见爹和娘”的无奈\r\n",
       "每年七八月间，都是清远最热的时段。而往日喧闹的校园，一到这时便进入**假期**，一片沉寂。\r\n",
       "“留守儿童真凄凉，半年难见爹和娘，放学回家忙家务，夜里梦中唤爹娘。”是农村留守儿童的真实写照。在粤北山区的清远市农村，“半年难见爹和娘”的儿童实在是太普遍了。为了给家人更好的生活环境，许多青壮年选择了背井离乡。他们像候鸟一样，每年**春节**刚过，便飞向沿海各个城市打工，直到下一个**春节**的到来，半年甚至几年不回家，也是常有的事。\r\n",
       "对于很多父母在外务工的农村留守儿童而言，无论是留在家里，还是到父母身边团聚，怎样度过长达两个月的暑假，都是个难题。\r\n",
       "一位经常在清远参加各种公益活动的志愿者刘小姐说，很多次当他们乘坐的车子进入到村头时，就像突然注入了活力一般，孩子们三三两两飞奔过来，小村瞬间变得生动起来。“孩子们好奇地围着大巴转，因为他们盼望父母会从车上走下来，可惜不是。”\r\n",
       "目前，清远农村留守儿童数量在全省排名第四。留守儿童因为家庭环境的特殊性，在性格方面容易出现孤僻、偏激、冲动、攻击性比较强等缺陷；而亲情的缺乏和监管的缺失，让他们更容易受到外界因素的伤害。\r\n",
       "笔者走访了解到，喜的是，由于父母不在身边，不少留守儿童在艰难的环境中早早学会了生存的技能，变得顽强独立；忧的是，个别留守儿童因为缺乏大人监管，安全隐患重重。\r\n",
       "留守儿童也牵动着政府的心。近年来，清远各地通过政府购买服务等形式，探索和创新解决留守儿童问题的方式和途径，取得一定成效，但依旧任重道远。还需不断健全关爱留守儿童的法律和政策体系，强化父母法定监护责任等途径，缓解留守儿童问题。\r\n",
       "亲情缺失监管缺乏的隐患\r\n",
       "由于外出打工的父母长年累月难得有机会回一趟家，留守儿童缺乏父母的监护和保护，往往容易遭受伤害，比如溺水、烧伤、车祸甚至是性侵等等。\r\n",
       "“其实我们也知道父母长期不在家对孩子的身心健康和学习会带来负面影响，但这是痛苦无奈的选择。”家住清远阳山的何先生夫妇感慨良多。他家有一双儿女，由于家里田地少，经济窘困，在小女儿断奶后，就把孩子留给年迈的父母抚养，夫妇俩到了佛山打工，一干就是9年多，每半年夫妻俩才轮流回家一两天。\r\n",
       "9年过去了，夫妻俩好不容易挣了一些钱，去年回家盖起了新楼，并添置了一批家用电器。可谁知由于他俩长年不在家，两个孩子对父母的感情似乎都很生疏，大儿子经常逃学，小小年纪学会了抽烟饮酒，让这何先生夫妇非常伤心。\r\n",
       "业内人士指出，留守儿童之所以容易出问题，主要还是思想道德教育得不到足够的重视。由于学校师资力量及父母不在身边教育的原因，留守儿童思想道德教育被严重忽视。\r\n",
       "隔代监护人大多忙于务农，无暇教育儿童。而且，隔代监护人由于自身素质限制，教育水平不高、手段不当，不少留守儿童隔代监护人采取暴力手段“教育”儿童，错误的教育方式导致错误的教育成果。\r\n",
       "此外，由于农村师资力量水平的限制，留守儿童在音乐、美术、舞蹈等艺术类学习上机会非常少甚至是基本空白。乡村小学对体育课、心理健康教育课的师资投入极少，留守儿童长期得不到心理生理健康教育上的辅导，导致容易出现沉迷网络、电视及抽烟喝酒等不良习惯。\r\n",
       "让留守儿童的暑假不再孤单\r\n",
       "张万英认为，留守儿童因为家庭环境的特殊性，在性格方面容易出现孤僻、偏激、冲动、攻击性比较强等缺陷；人格上容易出现精神问题，如抑郁症、焦虑、恐惧、人际交往障碍等；在学习方面容易出现学习落后、缺乏动力等；跟家庭关系也会相对紧张，容易跟家里人产生冲突，难以和谐相处。\r\n",
       "农村留守儿童问题需要家庭、学校和社会的共同努力。一是加快新农村建设和小城镇建设，吸引外出农民工返乡就业创业，使留守儿童能够与父母团聚；二是学校要加强对留守儿童的关爱和照顾，可通过及时家访，定时为孩子做心理疏导等方式，多方位关爱留守儿童的身心健康；三是政府要健全关爱留守儿童的法律和政策体系，完善监护制度和国家救助体系，强化父母法定监护责任。\r\n",
       "张万英认为，不要让“留守儿童”成为“缺爱儿童”。不能经常和孩子在一起生活的父母，要争取多与孩子保持常态联系，经常打电话关心孩子，了解他们的心理需要，给予更多的心理关爱，如发现自己孩子出现异常行为，要及时和孩子沟通，避免孩子走上极端的道路。\r\n",
       "业内人士指出，相对于父母在身边的孩子不同，留守儿童的暑假一般只有三个选择，而这三个选择都潜伏着很大的安全隐患。\r\n",
       "一是乘车前往父母所在地，与父母一起度过**假期**，旅途比较危险，尤其是独自前往；二是在家帮助爷爷奶奶干活，小小年纪很容易出现安全事故；三是自由安排，这是最危险的，没有大人看护，孩子极有可能出事。\r\n",
       "该业内人士建议，要给孩子制定好科学作息时间，有大人在家的应该严厉监督，别让孩子养成坏习惯。在制定作息时间时，父母们应该以少量平均的安排学习任务，避免孩子荒废学业。有大人家督可以很好地防止孩子到处乱跑，引发安全事故。“因为暑假不像平时在学校，孩子有同学朋友相伴，长时间的呆在家里，孩子很容易孤单，这需要父母的关怀来开解，不然很容易让孩子的叛逆情绪增长起来，甚至让孩子逐渐自闭。”\r\n",
       "此外，不妨借用智能设备掌握孩子行踪，避免孩子靠近危险地带或出入禁止未成年人进入的场所，把影响孩子成长的一切不安因素拒之千里。\r\n",
       "■聚焦\r\n",
       "超6个月不履行职责或撤销监护资格\r\n",
       "《清远市关于加强农村留守儿童关爱保护工作的实施方案》指出，建立农村留守儿童摸底排查机制。按照属地管理、分级负责的原则，建立县、镇、村（居）委会关爱农村留守儿童三级工作服务网络。\r\n",
       "建立农村留守儿童发现报告机制，民政部门要会同财政、教育、卫计、公安、住建、团委等部门和单位建立社会参与面广、覆盖面大、渠道顺畅和相应快速的留守儿童报告网络，制定留守儿童信息报告激励办法，鼓励社会各界积极参与留守儿童关爱保护工作。\r\n",
       "对实施家庭暴力、虐待或遗弃农村家庭留守儿童的父母或受委托监护人，公安机关应当给予批评教育，必要时给予治安管理处罚，情节恶劣构成犯罪的，依法立案侦查。\r\n",
       "对于监护人将农村留守儿童置于无人监管和照看状态导致其面临危险且经教育不改的，或者拒不履行监护职责6个月以上导致农村留守儿童生活无着的，或者实施家庭暴力、虐待或遗弃农村留守儿童导致其身心健康严重受损的，其近亲属、村（居）委会、县民政部门等有关人员或单位要依法向人民法院申请撤销监护人资格，另行指定监护人。\r\n",
       "方案指出，父母要依法履行对未成年子女的监护职责和抚养义务。外出务工人员要尽量携带未成年子女共同生活或父母一方留家照料，暂不具备条件的应当委托有监护能力的亲属或其他成年人代为监护，不得让未满16周岁的儿童脱离监护单独居住生活。外出务工时，父母要向当地村（居）委会报告外出务工及留守儿童、委托监护人的情况。\r\n",
       "父母或其他监护人不依法履行监护职责，村（居）委会、公安机关和有关部门要及时上门予以劝诫、制止；情节严重或造成严重后果的，公安机关等要依法追究其责任，强化家庭监护主体责任。\r\n",
       "加大教育部门和学校关爱保护力度。各县级政府要完善控辍保学部门协调机制，督促监护人送适龄儿童、少年入学并完成义务教育。教育部门要负责落实免费义务教育和教育资助政策，确保农村留守儿童不因贫困而失学；改善留守儿童教育条件，加强留守儿童教育基础设施建设，优化农村义务教育学校布局。\r\n",
       "■关注\r\n",
       "如何防止留守儿童溺亡悲剧？\r\n",
       "清远是依山傍水的城市，每到夏季，游泳是不少人的至爱。尤其在学生放**假期**间，江河边戏水似乎成了一种不可或缺的乐趣，可惜几乎每年都有学生溺水身亡的事故发生。\r\n",
       "留守儿童的安全一直是个大问题，在上学时有学校的约束还好，可是一旦放假后，父母又不在身边，家里老人又看不住孩子，孩子的身边就像埋藏了无数颗炸弹。而且儿童自救能力较差。不少去玩水的儿童都不会游泳，但在同伴邀约下，冒险下水嬉戏，溺水后，由于同伴大多年纪小、能力有限，一旦遇险，惊慌失措，难以互救，极易发生群体溺亡事故。\r\n",
       "笔者从清远市教育部门获悉，近年来，清远全市因溺水事故死亡学生每年都有10人左右，占所有非正常死亡学生数的大约一半。\r\n",
       "为此，今年5月份召开的清远全市防溺水视频工作会议强调，各地各部门要把预防学生溺水工作纳入当前重要议事日程，抓好辖区内中小学、幼儿园安全管理，加强安全宣传教育；强化周边水域排查，加强隐患整改。对因制度不健全、管理不到位、责任不落实，导致安全责任事故的，将按照有关规定严肃追究相关人员的责任。\r\n",
       "学校还要会同村委会、社区居委会，做好校园及其周边溺水安全隐患的排查，一方面要在校内水池、河道、沟渠等易发生溺水的地方设置警示标志，加强防护设施；另一方面要通过教师、学生家长或社区居委会、村委会摸清学校周边各类江河、池塘、溪流等水域的安全隐患，在校内提前对学生进行安全警示。\r\n",
       "据悉，清远市政府将组织相关人员成立督查组，对各地及相关部门的防溺水工作落实情况进行督查。对发生安全事故的，要按照“四不放过”原则，加强责任追究，对因制度不健全、管理不到位、责任不落实，导致安全责任事故的，要按照有关规定严肃追究相关人员的责任。\r\n"
      ],
      "text/plain": [
       "<IPython.core.display.Markdown object>"
      ]
     },
     "metadata": {},
     "output_type": "display_data"
    },
    {
     "data": {
      "text/markdown": [
       "### Search Result 4\n",
       "中国新闻：\\n\\n*公鉴：关于“新华全媒”新闻服务平台上线的公告\\n\\n*(脱贫攻坚)(6)云南禄劝：苗寨村民易地搬迁过上新生活\\n\\n*新华社摄影部今日重要稿件预告\\n\\n*(图片故事)(10)“挠挠”所长履职记\\n\\n*(新华视点·图片版)(2)港珠澳大桥岛隧工程海底隧道的最终接头对接完成\\n\\n*(法治)(8)中意警方在沪联合巡逻\\n\\n*(时代先锋·图文互动)(5)仰望最亮“星”勿忘造星人——记航天科技集团五院“通信卫星创新团队”\\n\\n*(文化)(8)“民族翰骨”潘天寿诞辰120周年纪念大展在京开幕\\n\\n*(文化)(2)校园里的朗读者\\n\\n*(图文互动)(5)台籍青年教师黄志伟：“我在武汉找到了舞台”——新华旺中“台胞在大陆”联合采访报道之二\\n\\n*(一带一路)(5)一带一路好日子——元旦\\n\\n*(一带一路)(5)一带一路好日子——**春节**\\n\\n*(一带一路)(5)一带一路好日子——泼水节\\n\\n*(一带一路)(4)一带一路好日子——洒红节\\n\\n*(一带一路)(4)一带一路好日子——诺鲁孜节\\n\\n*(社会)(2)铁路青年工地约会觅良缘\\n\\n*(经济)河北宣化发展现代农业助农增收\\n\\n*(经济)(2)河北宣化：打造高端装备制造产业集群\\n\\n*(服务)(3)西安：高速公路收费站开通手机支付业务\\n\\n*(文化)(3)《东京审判——为了世界和平》一书国内首发\\n\\n*(社会)(2)校园倡清风\\n\\n*(社会)(3)重温入团誓词传承“五四”精神\\n\\n*(体育)(2)排球——朱婷回乡与媒体、球迷互动\\n\\n*(社会)(4)扎根农村干事业村官摸索致富路\\n\\n*(体育)(1)自行车——第五届环巴松措国际山地自行车赛落幕\\n\\n*(社会)(4)高铁微客服受旅客欢迎\\n\\n*(时政)张高丽会见阿联酋外交与国际合作部长阿卜杜拉\\n\\n*(新华全媒头条·图文互动)(10)港珠澳大桥全线贯通在即粤港澳大湾区加速起航\\n\\n*(社会)(2)辽宁海警开展清查整治“三无”船舶专项行动\\n\\n*(环境)乌鲁木齐遭遇短时雨雪冰雹天气\\n\\n*(社会)(5)港珠澳大桥工程上的“大国重器”\\n\\n*(体育)(2)足球——足协杯：杭州绿城胜辽宁开新\\n\\n*#(经济)(3)三峡船闸累计货运量突破10亿吨\\n\\n*#(社会)(3)内蒙古大兴安岭北部火场外线合围　明火被扑灭\\n\\n*#(环境)(3)湖北宣恩：“鸽子花”悄然开放\\n\\n*#(社会)(4)山西永济：鹳雀楼前旗袍秀\\n\\n*#(图片故事)(7)苗乡“90后草根乐队”寻梦记\\n\\n\\n国际新闻：\\n\\n*(XHDW)(2)奥地利外长访问利比亚\\n\\n*(国际)(5)德国一快速列车在多特蒙德中央火车站发生出轨事故\\n\\n*(国际)(5)“非洲火人节”收官\\n\\n*(新华视界)(10)在纽约寄兴园体验中国园林之美\\n\\n*(国际)(10)在纽约寄兴园体验中国园林之美\\n\\n*(XHDW)重庆芭蕾舞团参加阿尔及利亚国际现代舞艺术节\\n\\n*(国际)(10)美国各地民众举行劳动节游行\\n\\n*(国际)(3)圣彼得堡举行“五一”劳动节游行\\n\\n*(国际)哈马斯发布新政策文件接受划界建国\\n\\n*(一带一路·好项目)(7)蒙内铁路——肯尼亚的铁路“中国造”\\n\\n*(XHDW)(3)第48届休斯敦国际海洋油气技术大会及设备展开幕\\n\\n*(国际·图文互动)专访：中国的发展将对欧洲未来发展产生重大影响——访匈牙利外交与对外经济部长西亚尔托\\n\\n*(国际·图文互动)(3)走进挪威峡湾深处的“书镇”\\n\\n*(国际)中国海军远航访问编队结束访问离开菲律宾\\n\\n*(XHDW)(5)昂山素季访问欧盟\\n\\n*(国际)(6)科学家丁肇中的日常生活\\n\\n*(国际)(9)韩国举行最后一次总统候选人电视辩论\\n\\n*(国际)(4)以色列庆祝独立日\\n\\n*(新华视界)(5)以色列庆祝独立日\\n\\n*(一带一路·好项目)(11)中国企业承建特拉维夫轻轨项目\\n\\n*(国际)(5)德国一快速列车在多特蒙德中央火车站发生出轨事故\\n\\n*(国际)(5)“非洲火人节”收官\\n\\n*(国际)(10)在纽约寄兴园体验中国园林之美\\n\\n*(国际)(10)美国各地民众举行劳动节游行\\n\\n*(国际)(3)圣彼得堡举行“五一”劳动节游行\\n\\n*(国际)哈马斯发布新政策文件接受划界建国\\n\\n*(一带一路·好项目)(7)蒙内铁路——肯尼亚的铁路“中国造”\\n\\n*(国际·图文互动)专访：中国的发展将对欧洲未来发展产生重大影响——访匈牙利外交与对外经济部长西亚尔托\\n\\n*新华社摄影部2017年05月02日白班发稿目录(国际对内)\\n\\n*(国际·图文互动)(3)走进挪威峡湾深处的“书镇”\\n\\n*(国际)中国海军远航访问编队结束访问离开菲律宾\\n\\n*(国际)(6)科学家丁肇中的日常生活\\n\\n*(国际)(9)韩国举行最后一次总统候选人电视辩论\\n\\n*(国际)(4)以色列庆祝独立日\\n\\n*(一带一路·好项目)(11)中国企业承建特拉维夫轻轨项目\\n\\n\\n体育专线：\\n\\n一、发专线稿件：\\n*(体育)(8)斯诺克——塞尔比夺得世锦赛冠军\\n*(体育)(6)足球——英超联赛：利物浦客场告捷\\n*(体育)(6)篮球——NBA季后赛：火箭胜马刺\\n*(体育)(7)篮球——NBA季后赛：骑士胜猛龙\\n*(体育)(5)排球——朱婷回乡与媒体、球迷互动\\n*(体育)(2)自行车——第五届环巴松措国际山地自行车赛落幕\\n*(体育)(5)足球——在葡萄牙托里什人队训练的中国小球员\\n*(体育)(8)足球——足协杯：呼和浩特小草胜长春亚泰\\n*(体育)(5)足球——足协杯：杭州绿城胜辽宁开新\\n*(体育)(7)足球——足协杯：山东鲁能胜吉林百嘉\\n\\n二、发对外稿件：\\n*(XHDW)(体育)(10)篮球——香港甲一男子篮球联赛赛况\\n\\n\\n图表专线：\\n\\n*公鉴：关于“新华全媒”新闻服务平台上线的公告\\n\\n*（图表）[财经·股市]纽约股市涨跌互现\\n\\n*（图表）[财经·金价]纽约金价1日大幅下跌\\n\\n*（图表）[财经·油价]纽约油价1日下跌\\n\\n*（图表）[突发事件]哥伦比亚一军用飞机坠毁\\n\\n*（图表）[科技]科普：冥想有助集中精力\\n\\n*新华社摄影部2017年05月02日白天发稿目录(图表专线)\\n\\n*（图表）[关注五一]“五一”**假期**全国铁路发送旅客近4900万人次\\n\\n*（图表·漫画）[财经·聚焦]“美化”\\n\\n*（图表·漫画）[财经·聚焦]突击增长\\n\\n*（图表·漫画）[科技]成功破译\\n\\n*（图表）[科技]月掩恒星“轩辕十四”罕见天象5月4日上演\\n\\n*（图表）[经济]美财长说美国经济有望实现3％增长目标\\n\\n*（图表·漫画）[新华视点]签约\\n\\n*（图表·漫画）[解读经济开局季·民生工程]“精神敬老”\\n\\n*（图表）[受权发布]国务院关于修改《大中型水利水电工程建设征地补偿和移民安置条例》的决定\\n\\n*（图表·漫画）[解读经济开局季·民生工程]精神孤独\\n\\n*（图表）[财经·动态]深圳新房均价出现“七连跌”4月成交量环比大涨146%\\n\\n*（图表）[经济]财政部：物流企业大宗商品仓储用地土地使用税享50%优惠\\n\\n\\n外代图片一线：\\n\\n*(外代一线)(9)德国一快速列车在多特蒙德中央火车站发生出轨事故\\n\\n*(外代一线)(10)美国得州一大学校园发生持刀扎人事件\\n\\n*(外代一线)(5)阿联酋与德国讨论地区安全形势\\n\\n*(外代一线)(12)马杜罗宣布将启动制宪大会重新制定宪法\\n\\n*(外代一线)(2)奥地利外长表示将继续支持利比亚民族团结政府\\n\\n*(外代一线)(6)哈马斯发布新政策文件接受划界建国\\n\\n*(外代一线)(7)加拿大多伦多金融区传出爆炸声\\n\\n*新华社摄影部2017年05月02日白班发稿目录(外代图片一线)\\n\\n*(外代一线)(9)摩苏尔战事\\n\\n*(外代一线)(18)特朗普说愿在“合适情况”下与金正恩会面\\n\\n*(外代一线)(2)“朴槿惠案”首次预审在首尔举行　辩方律师否认全部指控\\n\\n*(外代一线)(5)昂山素季访问欧盟\\n\\n*(外代一线)(4)韩国举行最后一次总统候选人电视辩论\\n\\n*(外代一线)(13)以色列庆祝独立日\\n\\n\\n外代图片二线：\\n\\n*(外代二线)印度传统婚嫁日\\n\\n*[1](外代二线)“城市里的农民”\\n\\n*[2](外代二线)“城市里的农民”\\n\\n*[3](外代二线)“城市里的农民”\\n\\n*[4](外代二线)“城市里的农民”\\n\\n*[5](外代二线)“城市里的农民”\\n\\n*[6](外代二线)“城市里的农民”\\n\\n*[7](外代二线)“城市里的农民”\\n\\n*[8](外代二线)“城市里的农民”\\n\\n*[9](外代二线)“城市里的农民”\\n\\n*[6](外代二线)戈马舞蹈节\\n\\n*[1](外代二线)彩色烟雾\\n\\n*[2](外代二线)彩色烟雾\\n\\n*[3](外代二线)彩色烟雾\\n\\n*[4](外代二线)彩色烟雾\\n\\n*[5](外代二线)彩色烟雾\\n\\n*[6](外代二线)彩色烟雾\\n\\n*[7](外代二线)彩色烟雾\\n\\n*[6](外代二线)墨西哥航空航天展闭幕表演\\n\\n*[7](外代二线)墨西哥航空航天展闭幕表演\\n\\n*[8](外代二线)墨西哥航空航天展闭幕表演\\n\\n*[1](外代二线)墨西哥航空航天展闭幕表演\\n\\n*[2](外代二线)墨西哥航空航天展闭幕表演\\n\\n*[3](外代二线)墨西哥航空航天展闭幕表演\\n\\n*[4](外代二线)墨西哥航空航天展闭幕表演\\n\\n*[5](外代二线)墨西哥航空航天展闭幕表演\\n\\n*[10](外代二线)戈马舞蹈节\\n\\n*[3](外代二线)福塔莱萨海滨风光\\n\\n*[4](外代二线)福塔莱萨海滨风光\\n\\n*[1](外代二线)福塔莱萨海滨风光\\n\\n*[2](外代二线)福塔莱萨海滨风光\\n\\n*[1](外代二线)俄罗斯摩托车节表演\\n\\n*[2](外代二线)俄罗斯摩托车节表演\\n\\n*[3](外代二线)俄罗斯摩托车节表演\\n\\n*[4](外代二线)俄罗斯摩托车节表演\\n\\n*[5](外代二线)俄罗斯摩托车节表演\\n\\n*[6](外代二线)俄罗斯摩托车节表演\\n\\n*[7](外代二线)俄罗斯摩托车节表演\\n\\n*[1](外代二线)波兰举行第24届蒸汽机车游行\\n\\n*[2](外代二线)波兰举行第24届蒸汽机车游行\\n\\n*[3](外代二线)波兰举行第24届蒸汽机车游行\\n\\n*[4](外代二线)波兰举行第24届蒸汽机车游行\\n\\n*[5](外代二线)波兰举行第24届蒸汽机车游行\\n\\n*[6](外代二线)波兰举行第24届蒸汽机车游行\\n\\n*[7](外代二线)波兰举行第24届蒸汽机车游行\\n\\n*[8](外代二线)波兰举行第24届蒸汽机车游行\\n\\n*[9](外代二线)波兰举行第24届蒸汽机车游行\\n\\n*[10](外代二线)波兰举行第24届蒸汽机车游行\\n\\n*[11](外代二线)波兰举行第24届蒸汽机车游行\\n\\n*[12](外代二线)波兰举行第24届蒸汽机车游行\\n\\n*[13](外代二线)波兰举行第24届蒸汽机车游行\\n\\n*[14](外代二线)波兰举行第24届蒸汽机车游行\\n\\n*[15](外代二线)波兰举行第24届蒸汽机车游行\\n\\n*[16](外代二线)波兰举行第24届蒸汽机车游行\\n\\n*[17](外代二线)波兰举行第24届蒸汽机车游行\\n\\n*[18](外代二线)波兰举行第24届蒸汽机车游行\\n\\n*[19](外代二线)波兰举行第24届蒸汽机车游行\\n\\n*[20](外代二线)波兰举行第24届蒸汽机车游行\\n\\n*[21](外代二线)波兰举行第24届蒸汽机车游行\\n\\n*[22](外代二线)波兰举行第24届蒸汽机车游行\\n\\n*公鉴：关于“新华全媒”新闻服务平台上线的公告\\n\\n*[2](外代二线)多彩花环\\n\\n*[3](外代二线)多彩花环\\n\\n*[4](外代二线)多彩花环\\n\\n\\n\\n新华社摄影部"
      ],
      "text/plain": [
       "<IPython.core.display.Markdown object>"
      ]
     },
     "metadata": {},
     "output_type": "display_data"
    }
   ],
   "source": [
    "search_engine_with_pretty_print('春节 假期')"
   ]
  },
  {
   "cell_type": "markdown",
   "metadata": {},
   "source": [
    "## why search engine?"
   ]
  },
  {
   "cell_type": "markdown",
   "metadata": {},
   "source": [
    "可以基于文本库，做对话机器人"
   ]
  },
  {
   "cell_type": "markdown",
   "metadata": {},
   "source": [
    "## PageRank\n",
    "\n",
    "原理：哪些网页被其他link次数多，即权重大，排在前面"
   ]
  },
  {
   "cell_type": "code",
   "execution_count": 104,
   "metadata": {},
   "outputs": [],
   "source": [
    "import networkx as nx\n",
    "import random"
   ]
  },
  {
   "cell_type": "code",
   "execution_count": 105,
   "metadata": {},
   "outputs": [],
   "source": [
    "from string import ascii_uppercase"
   ]
  },
  {
   "cell_type": "code",
   "execution_count": 106,
   "metadata": {},
   "outputs": [
    {
     "data": {
      "text/plain": [
       "'ABCDEFGHIJKLMNOPQRSTUVWXYZ'"
      ]
     },
     "execution_count": 106,
     "metadata": {},
     "output_type": "execute_result"
    }
   ],
   "source": [
    "ascii_uppercase"
   ]
  },
  {
   "cell_type": "code",
   "execution_count": 114,
   "metadata": {},
   "outputs": [],
   "source": [
    "def generate_random_website():\n",
    "    return 'www.'+ \"\".join([random.choice(ascii_uppercase) for _ in range(random.randint(3,10))]) + '.' +random.choice(['cn', 'com'])"
   ]
  },
  {
   "cell_type": "code",
   "execution_count": 115,
   "metadata": {},
   "outputs": [
    {
     "data": {
      "text/plain": [
       "'www.UTXBYD.cn'"
      ]
     },
     "execution_count": 115,
     "metadata": {},
     "output_type": "execute_result"
    }
   ],
   "source": [
    "generate_random_website()"
   ]
  },
  {
   "cell_type": "code",
   "execution_count": 116,
   "metadata": {},
   "outputs": [],
   "source": [
    "websites = [generate_random_website() for _ in range(25)]"
   ]
  },
  {
   "cell_type": "code",
   "execution_count": 117,
   "metadata": {},
   "outputs": [
    {
     "data": {
      "text/plain": [
       "['www.NEGXVSBTZX.com',\n",
       " 'www.UGDQPCO.cn',\n",
       " 'www.PFZQQQUS.cn',\n",
       " 'www.VPYYZMD.com',\n",
       " 'www.NJORJ.com',\n",
       " 'www.LZLICSP.cn',\n",
       " 'www.PJF.cn',\n",
       " 'www.ZVEBMESTWY.com',\n",
       " 'www.DUOHE.com',\n",
       " 'www.QSRVYLTDEY.com',\n",
       " 'www.DQZJS.cn',\n",
       " 'www.AZBNHCE.com',\n",
       " 'www.KEAUXZDFVS.cn',\n",
       " 'www.UVO.com',\n",
       " 'www.XRMZGBMBD.com',\n",
       " 'www.DEXHAWDOD.com',\n",
       " 'www.YYQYPDNMPF.com',\n",
       " 'www.HFFJS.cn',\n",
       " 'www.ZKWAJJMKUR.com',\n",
       " 'www.NGOFPBL.cn',\n",
       " 'www.PODJSRVXY.cn',\n",
       " 'www.GLGN.com',\n",
       " 'www.XHWSBJRHZL.com',\n",
       " 'www.AVGAMJXBX.cn',\n",
       " 'www.VAIYR.cn']"
      ]
     },
     "execution_count": 117,
     "metadata": {},
     "output_type": "execute_result"
    }
   ],
   "source": [
    "websites"
   ]
  },
  {
   "cell_type": "code",
   "execution_count": 119,
   "metadata": {},
   "outputs": [
    {
     "data": {
      "text/plain": [
       "['www.NEGXVSBTZX.com',\n",
       " 'www.DQZJS.cn',\n",
       " 'www.LZLICSP.cn',\n",
       " 'www.GLGN.com',\n",
       " 'www.NGOFPBL.cn',\n",
       " 'www.QSRVYLTDEY.com',\n",
       " 'www.UVO.com',\n",
       " 'www.DEXHAWDOD.com',\n",
       " 'www.DUOHE.com',\n",
       " 'www.XHWSBJRHZL.com']"
      ]
     },
     "execution_count": 119,
     "metadata": {},
     "output_type": "execute_result"
    }
   ],
   "source": [
    "random.sample(websites, 10)"
   ]
  },
  {
   "cell_type": "code",
   "execution_count": 143,
   "metadata": {},
   "outputs": [],
   "source": [
    "website_connection = {\n",
    "    websites[0]: random.sample(websites, 20),\n",
    "    websites[1]: random.sample(websites, 7),\n",
    "    websites[2]: random.sample(websites, 5),\n",
    "    websites[3]: random.sample(websites, 4),\n",
    "    websites[4]: random.sample(websites, 3),\n",
    "    websites[5]: random.sample(websites, 2),\n",
    "    websites[6]: random.sample(websites, 11),\n",
    "    \n",
    "}"
   ]
  },
  {
   "cell_type": "code",
   "execution_count": 144,
   "metadata": {},
   "outputs": [],
   "source": [
    "website_network = nx.graph.Graph(website_connection)"
   ]
  },
  {
   "cell_type": "code",
   "execution_count": 145,
   "metadata": {},
   "outputs": [],
   "source": [
    "import matplotlib.pyplot as plt"
   ]
  },
  {
   "cell_type": "code",
   "execution_count": 146,
   "metadata": {},
   "outputs": [
    {
     "data": {
      "image/png": "[encoded data removed]",
      "text/plain": [
       "<Figure size 864x864 with 1 Axes>"
      ]
     },
     "metadata": {},
     "output_type": "display_data"
    }
   ],
   "source": [
    "plt.figure(figsize=(12,12))\n",
    "nx.draw_networkx(website_network, font_size =9, fig_size=45)"
   ]
  },
  {
   "cell_type": "code",
   "execution_count": 147,
   "metadata": {},
   "outputs": [
    {
     "data": {
      "text/plain": [
       "[('www.NEGXVSBTZX.com', 0.2000632331867079),\n",
       " ('www.PJF.cn', 0.11385926207718572),\n",
       " ('www.UGDQPCO.cn', 0.09068969376455358),\n",
       " ('www.NJORJ.com', 0.05631659808432885),\n",
       " ('www.VPYYZMD.com', 0.05616617094102268),\n",
       " ('www.PFZQQQUS.cn', 0.04704370854603224),\n",
       " ('www.PODJSRVXY.cn', 0.038099131523313096),\n",
       " ('www.LZLICSP.cn', 0.03225483543819281),\n",
       " ('www.ZKWAJJMKUR.com', 0.03144340862536089),\n",
       " ('www.DQZJS.cn', 0.030390656498430257),\n",
       " ('www.DUOHE.com', 0.030120931073416977),\n",
       " ('www.GLGN.com', 0.030053474057645142),\n",
       " ('www.XRMZGBMBD.com', 0.030053474057645142),\n",
       " ('www.UVO.com', 0.022412456048534132),\n",
       " ('www.NGOFPBL.cn', 0.022412456048534132),\n",
       " ('www.YYQYPDNMPF.com', 0.022412456048534132),\n",
       " ('www.KEAUXZDFVS.cn', 0.022412456048534132),\n",
       " ('www.QSRVYLTDEY.com', 0.022325798726662474),\n",
       " ('www.DEXHAWDOD.com', 0.022056073301649194),\n",
       " ('www.XHWSBJRHZL.com', 0.022056073301649194),\n",
       " ('www.VAIYR.cn', 0.01434759827676635),\n",
       " ('www.AZBNHCE.com', 0.01434759827676635),\n",
       " ('www.ZVEBMESTWY.com', 0.01434759827676635),\n",
       " ('www.HFFJS.cn', 0.014314857771767785)]"
      ]
     },
     "execution_count": 147,
     "metadata": {},
     "output_type": "execute_result"
    }
   ],
   "source": [
    "sorted(nx.pagerank(website_network).items(), key=lambda x:x[1], reverse=True)"
   ]
  },
  {
   "cell_type": "markdown",
   "metadata": {},
   "source": [
    "## 同样，社交网络搜索重要的人也可以用PageRank"
   ]
  },
  {
   "cell_type": "code",
   "execution_count": null,
   "metadata": {},
   "outputs": [],
   "source": []
  }
 ],
 "metadata": {
  "kernelspec": {
   "display_name": "Python 3",
   "language": "python",
   "name": "python3"
  },
  "language_info": {
   "codemirror_mode": {
    "name": "ipython",
    "version": 3
   },
   "file_extension": ".py",
   "mimetype": "text/x-python",
   "name": "python",
   "nbconvert_exporter": "python",
   "pygments_lexer": "ipython3",
   "version": "3.7.3"
  }
 },
 "nbformat": 4,
 "nbformat_minor": 2
}
