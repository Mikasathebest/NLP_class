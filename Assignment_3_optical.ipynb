{
 "cells": [
  {
   "cell_type": "markdown",
   "metadata": {},
   "source": [
    "### (Optinal) Finish the k-person-salesman problem:\n",
    "\n",
    "给定一个初始点 𝑃, 已经 𝑘个车辆，如何从该点出发，经这 k 个车辆经过所以的点全部一次，而且所走过的路程最短?\n"
   ]
  },
  {
   "cell_type": "markdown",
   "metadata": {},
   "source": [
    "## 动态规划的几个关键：\n",
    "链接：https://www.zhihu.com/question/23995189/answer/613096905\n",
    "\n",
    "无后效性：一旦f(n)确定，“我们如何凑出f(n)”就再也用不着了。　　要求出f(15)，只需要知道f(14),f(10),f(4)的值，而f(14),f(10),f(4)是如何算出来的，对之后的问题没有影响。　　“未来与过去无关”，这就是无后效性。　　（严格定义：如果给定某一阶段的状态，则在这一阶段以后过程的发展不受这阶段以前各段状态的影响。）\n",
    "\n",
    "\n",
    "最优子结构：大问题的最优解可以由小问题的最优解推出，这个性质叫做“最优子结构性质”。\n",
    "\n",
    "引入这两个概念之后，我们如何判断一个问题能否使用DP解决呢？\n",
    "\n",
    "能将大问题拆成几个小问题，且满足无后效性、最优子结构性质。\n"
   ]
  },
  {
   "cell_type": "code",
   "execution_count": 1,
   "metadata": {},
   "outputs": [],
   "source": [
    "import random\n",
    "import matplotlib.pylab as plt"
   ]
  },
  {
   "cell_type": "code",
   "execution_count": 2,
   "metadata": {},
   "outputs": [
    {
     "data": {
      "text/plain": [
       "(20, (74, 63))"
      ]
     },
     "execution_count": 2,
     "metadata": {},
     "output_type": "execute_result"
    }
   ],
   "source": [
    "latitudes = [random.randint(-100, 100) for _ in range(20)]\n",
    "longitudes = [random.randint(-100, 100) for _ in range(20)]\n",
    "coordinate = list(zip(latitudes,longitudes)) #给出坐标\n",
    "len(latitudes),coordinate[0]"
   ]
  },
  {
   "cell_type": "code",
   "execution_count": 3,
   "metadata": {},
   "outputs": [
    {
     "data": {
      "image/png": "[encoded data removed]",
      "text/plain": [
       "<Figure size 432x288 with 1 Axes>"
      ]
     },
     "metadata": {
      "needs_background": "light"
     },
     "output_type": "display_data"
    }
   ],
   "source": [
    "fig, ax = plt.subplots()\n",
    "\n",
    "ax.scatter(latitudes, longitudes)\n",
    "\n",
    "for i in range(len(longitudes)):\n",
    "    ax.annotate(i, (latitudes[i], longitudes[i]))"
   ]
  },
  {
   "cell_type": "code",
   "execution_count": 4,
   "metadata": {},
   "outputs": [],
   "source": [
    "from typing import List, Tuple\n",
    "from copy import deepcopy\n",
    "import numpy as np\n",
    "\n",
    "def get_distance(x: tuple, y: tuple) -> float:\n",
    "    return np.sqrt((x[0]-y[0])**2 + (x[-1]-y[-1])**2)\n",
    "def tsp(coordinates: List[Tuple[int, int]], start: int=0) -> np.float64:\n",
    "    length = len(coordinates)\n",
    "    all_distances = {frozenset([i, j]): get_distance(coordinates[i], coordinates[j]) for i in range(length) for j in range(i+1, length)}\n",
    "    opt = [[[i], i, all_distances[frozenset([start, i])]] for i in range(length) if i != start]\n",
    "    while len(opt[0][0]) < length-1:\n",
    "        opt_n = []\n",
    "        for j in range(length):\n",
    "            if j == start: continue\n",
    "            tmp = [None, j, float('inf')]\n",
    "            for visited, cur, dist in opt:\n",
    "                if j in visited: continue\n",
    "                tmp_dist = all_distances[frozenset([cur, j])]\n",
    "                if tmp_dist + dist < tmp[-1]:\n",
    "                    tmp[0] = visited + [j]\n",
    "                    tmp[-1] = tmp_dist + dist\n",
    "            if tmp[0]: opt_n.append(deepcopy(tmp))\n",
    "        opt = opt_n\n",
    "    min_distance = float('inf')\n",
    "    route = None\n",
    "    for visited, cur, dist in opt:\n",
    "        tmp_dist = all_distances[frozenset([cur, start])] + dist\n",
    "        if tmp_dist < min_distance:\n",
    "            min_distance = tmp_dist\n",
    "            route = visited\n",
    "    return min_distance, route"
   ]
  },
  {
   "cell_type": "code",
   "execution_count": 5,
   "metadata": {},
   "outputs": [
    {
     "data": {
      "text/plain": [
       "(934.7890467768316,\n",
       " [5, 17, 18, 8, 19, 2, 13, 16, 3, 4, 6, 15, 14, 12, 7, 10, 1, 11, 9])"
      ]
     },
     "execution_count": 5,
     "metadata": {},
     "output_type": "execute_result"
    }
   ],
   "source": [
    "tsp(coordinate)"
   ]
  },
  {
   "cell_type": "code",
   "execution_count": 9,
   "metadata": {
    "code_folding": []
   },
   "outputs": [],
   "source": [
    "def tsp(coordinates: List[Tuple[int, int]]) -> np.float64:\n",
    "    tsp.solutions = {}\n",
    "    length = len(coordinates)\n",
    "    dp = [[float('inf')] * 2**(length-1) for _ in range(length)]\n",
    "    # 计算所有城市两两之间的距离\n",
    "    all_distances = {frozenset([i, j]): get_distance(coordinates[i], coordinates[j]) for i in range(length) for j in range(i+1, length)}\n",
    "    for i in range(length):\n",
    "        if i == 0: continue\n",
    "        dp[i][0] = all_distances[frozenset([i, 0])]\n",
    "    for j in range(1, len(dp[0])):\n",
    "        for i in range(length):\n",
    "            if i != 0 and (j >> (i - 1)) & 1 == 1: # 出发的城市在要经过的城市里，不合常理\n",
    "                continue\n",
    "            tsp.solutions[(i, j)] = (None, None)\n",
    "            for k in range(1, length):\n",
    "                if (j >> (k - 1)) & 1 == 0: continue # 不经过该城市则查看下一个城市\n",
    "                tmp_dist = all_distances[frozenset([i, k])] + dp[k][j ^ (1 << (k - 1))]\n",
    "                if dp[i][j] > tmp_dist:\n",
    "                    dp[i][j] = tmp_dist\n",
    "                    tsp.solutions[(i, j)] = (k, j ^ (1 << (k - 1)))\n",
    "    return dp[0][-1]"
   ]
  },
  {
   "cell_type": "code",
   "execution_count": 10,
   "metadata": {},
   "outputs": [
    {
     "data": {
      "text/plain": [
       "797.7884627029662"
      ]
     },
     "execution_count": 10,
     "metadata": {},
     "output_type": "execute_result"
    }
   ],
   "source": [
    "tsp(coordinate)"
   ]
  },
  {
   "cell_type": "code",
   "execution_count": 11,
   "metadata": {},
   "outputs": [],
   "source": [
    "def parse_solutions(length: int, solutions: dict) -> str:\n",
    "    route = ['0']\n",
    "    def helper(row: int, col: int) -> None:\n",
    "        i, j = solutions[(row, col)]\n",
    "        route.append(str(i))\n",
    "        if j == 0: return\n",
    "        helper(i, j)\n",
    "    helper(0, 2**(length-1)-1)\n",
    "    route.append('0')\n",
    "    return route\n",
    "\n",
    "def pretty_print(route: List[str]) -> str:\n",
    "    print('->'.join(route))"
   ]
  },
  {
   "cell_type": "code",
   "execution_count": 13,
   "metadata": {},
   "outputs": [
    {
     "name": "stdout",
     "output_type": "stream",
     "text": [
      "0->6->15->14->4->3->16->10->12->7->1->13->18->8->19->2->11->9->17->5->0\n"
     ]
    }
   ],
   "source": [
    "pretty_print(parse_solutions(len(coordinate), tsp.solutions))"
   ]
  },
  {
   "cell_type": "code",
   "execution_count": null,
   "metadata": {},
   "outputs": [],
   "source": []
  }
 ],
 "metadata": {
  "kernelspec": {
   "display_name": "Python 3",
   "language": "python",
   "name": "python3"
  },
  "language_info": {
   "codemirror_mode": {
    "name": "ipython",
    "version": 3
   },
   "file_extension": ".py",
   "mimetype": "text/x-python",
   "name": "python",
   "nbconvert_exporter": "python",
   "pygments_lexer": "ipython3",
   "version": "3.7.3"
  },
  "toc": {
   "base_numbering": 1,
   "nav_menu": {},
   "number_sections": true,
   "sideBar": true,
   "skip_h1_title": false,
   "title_cell": "Table of Contents",
   "title_sidebar": "Contents",
   "toc_cell": false,
   "toc_position": {},
   "toc_section_display": true,
   "toc_window_display": false
  },
  "varInspector": {
   "cols": {
    "lenName": 16,
    "lenType": 16,
    "lenVar": 40
   },
   "kernels_config": {
    "python": {
     "delete_cmd_postfix": "",
     "delete_cmd_prefix": "del ",
     "library": "var_list.py",
     "varRefreshCmd": "print(var_dic_list())"
    },
    "r": {
     "delete_cmd_postfix": ") ",
     "delete_cmd_prefix": "rm(",
     "library": "var_list.r",
     "varRefreshCmd": "cat(var_dic_list()) "
    }
   },
   "types_to_exclude": [
    "module",
    "function",
    "builtin_function_or_method",
    "instance",
    "_Feature"
   ],
   "window_display": false
  }
 },
 "nbformat": 4,
 "nbformat_minor": 2
}
