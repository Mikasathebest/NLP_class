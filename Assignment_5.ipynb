{
 "cells": [
  {
   "cell_type": "code",
   "execution_count": 1,
   "metadata": {},
   "outputs": [],
   "source": [
    "import pandas as pd"
   ]
  },
  {
   "cell_type": "code",
   "execution_count": 2,
   "metadata": {},
   "outputs": [],
   "source": [
    "content = pd.read_csv('../data/sqlResult_1558435.csv',encoding='gb18030')"
   ]
  },
  {
   "cell_type": "code",
   "execution_count": 3,
   "metadata": {},
   "outputs": [
    {
     "name": "stdout",
     "output_type": "stream",
     "text": [
      "89611\n"
     ]
    }
   ],
   "source": [
    "print(len(content))"
   ]
  },
  {
   "cell_type": "code",
   "execution_count": 4,
   "metadata": {},
   "outputs": [
    {
     "data": {
      "text/html": [
       "<div>\n",
       "<style scoped>\n",
       "    .dataframe tbody tr th:only-of-type {\n",
       "        vertical-align: middle;\n",
       "    }\n",
       "\n",
       "    .dataframe tbody tr th {\n",
       "        vertical-align: top;\n",
       "    }\n",
       "\n",
       "    .dataframe thead th {\n",
       "        text-align: right;\n",
       "    }\n",
       "</style>\n",
       "<table border=\"1\" class=\"dataframe\">\n",
       "  <thead>\n",
       "    <tr style=\"text-align: right;\">\n",
       "      <th></th>\n",
       "      <th>id</th>\n",
       "      <th>author</th>\n",
       "      <th>source</th>\n",
       "      <th>content</th>\n",
       "      <th>feature</th>\n",
       "      <th>title</th>\n",
       "      <th>url</th>\n",
       "    </tr>\n",
       "  </thead>\n",
       "  <tbody>\n",
       "    <tr>\n",
       "      <th>0</th>\n",
       "      <td>89617</td>\n",
       "      <td></td>\n",
       "      <td>快科技@http://www.kkj.cn/</td>\n",
       "      <td>此外，自本周（6月12日）起，除小米手机6等15款机型外，其余机型已暂停更新发布（含开发版/...</td>\n",
       "      <td>{\"type\":\"科技\",\"site\":\"cnbeta\",\"commentNum\":\"37\"...</td>\n",
       "      <td>小米MIUI 9首批机型曝光：共计15款</td>\n",
       "      <td>http://www.cnbeta.com/articles/tech/623597.htm</td>\n",
       "    </tr>\n",
       "    <tr>\n",
       "      <th>1</th>\n",
       "      <td>89616</td>\n",
       "      <td></td>\n",
       "      <td>快科技@http://www.kkj.cn/</td>\n",
       "      <td>骁龙835作为唯一通过Windows 10桌面平台认证的ARM处理器，高通强调，不会因为只考...</td>\n",
       "      <td>{\"type\":\"科技\",\"site\":\"cnbeta\",\"commentNum\":\"15\"...</td>\n",
       "      <td>骁龙835在Windows 10上的性能表现有望改善</td>\n",
       "      <td>http://www.cnbeta.com/articles/tech/623599.htm</td>\n",
       "    </tr>\n",
       "    <tr>\n",
       "      <th>2</th>\n",
       "      <td>89615</td>\n",
       "      <td></td>\n",
       "      <td>快科技@http://www.kkj.cn/</td>\n",
       "      <td>此前的一加3T搭载的是3400mAh电池，DashCharge快充规格为5V/4A。\\r\\n...</td>\n",
       "      <td>{\"type\":\"科技\",\"site\":\"cnbeta\",\"commentNum\":\"18\"...</td>\n",
       "      <td>一加手机5细节曝光：3300mAh、充半小时用1天</td>\n",
       "      <td>http://www.cnbeta.com/articles/tech/623601.htm</td>\n",
       "    </tr>\n",
       "  </tbody>\n",
       "</table>\n",
       "</div>"
      ],
      "text/plain": [
       "      id author                  source  \\\n",
       "0  89617         快科技@http://www.kkj.cn/   \n",
       "1  89616         快科技@http://www.kkj.cn/   \n",
       "2  89615         快科技@http://www.kkj.cn/   \n",
       "\n",
       "                                             content  \\\n",
       "0  此外，自本周（6月12日）起，除小米手机6等15款机型外，其余机型已暂停更新发布（含开发版/...   \n",
       "1  骁龙835作为唯一通过Windows 10桌面平台认证的ARM处理器，高通强调，不会因为只考...   \n",
       "2  此前的一加3T搭载的是3400mAh电池，DashCharge快充规格为5V/4A。\\r\\n...   \n",
       "\n",
       "                                             feature  \\\n",
       "0  {\"type\":\"科技\",\"site\":\"cnbeta\",\"commentNum\":\"37\"...   \n",
       "1  {\"type\":\"科技\",\"site\":\"cnbeta\",\"commentNum\":\"15\"...   \n",
       "2  {\"type\":\"科技\",\"site\":\"cnbeta\",\"commentNum\":\"18\"...   \n",
       "\n",
       "                        title                                             url  \n",
       "0        小米MIUI 9首批机型曝光：共计15款  http://www.cnbeta.com/articles/tech/623597.htm  \n",
       "1  骁龙835在Windows 10上的性能表现有望改善  http://www.cnbeta.com/articles/tech/623599.htm  \n",
       "2   一加手机5细节曝光：3300mAh、充半小时用1天  http://www.cnbeta.com/articles/tech/623601.htm  "
      ]
     },
     "execution_count": 4,
     "metadata": {},
     "output_type": "execute_result"
    }
   ],
   "source": [
    "content.fillna('',inplace=True)\n",
    "content.head()[:3]"
   ]
  },
  {
   "cell_type": "code",
   "execution_count": 5,
   "metadata": {},
   "outputs": [
    {
     "data": {
      "text/plain": [
       "'此外，自本周（6月12日）起，除小米手机6等15款机型外，其余机型已暂停更新发布（含开发版/体验版内测，稳定版暂不受影响），以确保工程师可以集中全部精力进行系统优化工作。有人猜测这也是将精力主要用到MIUI 9的研发之中。\\r\\nMIUI 8去年5月发布，距今已有一年有余，也是时候更新换代了。\\r\\n当然，关于MIUI 9的确切信息，我们还是等待官方消息。\\r\\n'"
      ]
     },
     "execution_count": 5,
     "metadata": {},
     "output_type": "execute_result"
    }
   ],
   "source": [
    "new_content = content.content.to_list()\n",
    "new_content[0]"
   ]
  },
  {
   "cell_type": "code",
   "execution_count": 6,
   "metadata": {},
   "outputs": [],
   "source": [
    "import jieba\n",
    "def cut(string): return ' '.join(jieba.cut(string))"
   ]
  },
  {
   "cell_type": "code",
   "execution_count": 7,
   "metadata": {},
   "outputs": [
    {
     "name": "stderr",
     "output_type": "stream",
     "text": [
      "Building prefix dict from the default dictionary ...\n",
      "Loading model from cache C:\\Users\\60230\\AppData\\Local\\Temp\\jieba.cache\n",
      "Loading model cost 0.840 seconds.\n",
      "Prefix dict has been built succesfully.\n"
     ]
    },
    {
     "data": {
      "text/plain": [
       "'这是 一个 测试'"
      ]
     },
     "execution_count": 7,
     "metadata": {},
     "output_type": "execute_result"
    }
   ],
   "source": [
    "cut('这是一个测试')"
   ]
  },
  {
   "cell_type": "code",
   "execution_count": 8,
   "metadata": {},
   "outputs": [],
   "source": [
    "import re\n",
    "def token(string): return re.findall(r'[\\d|\\w]+',string)"
   ]
  },
  {
   "cell_type": "code",
   "execution_count": 9,
   "metadata": {},
   "outputs": [
    {
     "data": {
      "text/plain": [
       "['这是一个测试']"
      ]
     },
     "execution_count": 9,
     "metadata": {},
     "output_type": "execute_result"
    }
   ],
   "source": [
    "token('这是一个测试\\n\\r')"
   ]
  },
  {
   "cell_type": "code",
   "execution_count": 10,
   "metadata": {},
   "outputs": [],
   "source": [
    "new_content = [token(l) for l in new_content]"
   ]
  },
  {
   "cell_type": "code",
   "execution_count": 11,
   "metadata": {},
   "outputs": [
    {
     "data": {
      "text/plain": [
       "['此外',\n",
       " '自本周',\n",
       " '6月12日',\n",
       " '起',\n",
       " '除小米手机6等15款机型外',\n",
       " '其余机型已暂停更新发布',\n",
       " '含开发版',\n",
       " '体验版内测',\n",
       " '稳定版暂不受影响',\n",
       " '以确保工程师可以集中全部精力进行系统优化工作',\n",
       " '有人猜测这也是将精力主要用到MIUI',\n",
       " '9的研发之中',\n",
       " 'MIUI',\n",
       " '8去年5月发布',\n",
       " '距今已有一年有余',\n",
       " '也是时候更新换代了',\n",
       " '当然',\n",
       " '关于MIUI',\n",
       " '9的确切信息',\n",
       " '我们还是等待官方消息']"
      ]
     },
     "execution_count": 11,
     "metadata": {},
     "output_type": "execute_result"
    }
   ],
   "source": [
    "new_content[0]"
   ]
  },
  {
   "cell_type": "code",
   "execution_count": 12,
   "metadata": {},
   "outputs": [],
   "source": [
    "new_content = [''.join(l) for l in new_content]"
   ]
  },
  {
   "cell_type": "code",
   "execution_count": 13,
   "metadata": {},
   "outputs": [
    {
     "data": {
      "text/plain": [
       "'此外自本周6月12日起除小米手机6等15款机型外其余机型已暂停更新发布含开发版体验版内测稳定版暂不受影响以确保工程师可以集中全部精力进行系统优化工作有人猜测这也是将精力主要用到MIUI9的研发之中MIUI8去年5月发布距今已有一年有余也是时候更新换代了当然关于MIUI9的确切信息我们还是等待官方消息'"
      ]
     },
     "execution_count": 13,
     "metadata": {},
     "output_type": "execute_result"
    }
   ],
   "source": [
    "new_content[0]"
   ]
  },
  {
   "cell_type": "code",
   "execution_count": 14,
   "metadata": {},
   "outputs": [],
   "source": [
    "new_content = [cut(l) for l in new_content]"
   ]
  },
  {
   "cell_type": "code",
   "execution_count": 15,
   "metadata": {},
   "outputs": [
    {
     "data": {
      "text/plain": [
       "'此外 自 本周 6 月 12 日起 除 小米 手机 6 等 15 款 机型 外 其余 机型 已 暂停 更新 发布 含 开发 版 体验版 内测 稳定版 暂不受 影响 以 确保 工程师 可以 集中 全部 精力 进行 系统优化 工作 有人 猜测 这 也 是 将 精力 主要 用到 MIUI9 的 研发 之中 MIUI8 去年 5 月 发布 距今已有 一年 有余 也 是 时候 更新换代 了 当然 关于 MIUI9 的 确切 信息 我们 还是 等待 官方消息'"
      ]
     },
     "execution_count": 15,
     "metadata": {},
     "output_type": "execute_result"
    }
   ],
   "source": [
    "new_content[0]"
   ]
  },
  {
   "cell_type": "code",
   "execution_count": 16,
   "metadata": {},
   "outputs": [
    {
     "name": "stdout",
     "output_type": "stream",
     "text": [
      "0\n",
      "20000\n",
      "40000\n",
      "60000\n",
      "80000\n",
      "Done\n"
     ]
    }
   ],
   "source": [
    "with open('../data/cut_content.txt','w',encoding='utf-8') as fout:\n",
    "    for i,line in enumerate(new_content):\n",
    "        if i%20000 == 0: print(i)\n",
    "        fout.write(line + '\\n')\n",
    "    print('Done')"
   ]
  },
  {
   "cell_type": "markdown",
   "metadata": {},
   "source": [
    "## 这里切词完成了，接下来进行word2vec词向量转换"
   ]
  },
  {
   "cell_type": "code",
   "execution_count": 17,
   "metadata": {},
   "outputs": [],
   "source": [
    "from gensim.models.word2vec import Word2Vec, LineSentence"
   ]
  },
  {
   "cell_type": "markdown",
   "metadata": {},
   "source": [
    "**这里切词太慢，我放在AI studio上切好了**"
   ]
  },
  {
   "cell_type": "code",
   "execution_count": null,
   "metadata": {},
   "outputs": [],
   "source": [
    "#切词\n",
    "news_w2v = Word2Vec(LineSentence('../data/cut_content.txt'),size=100,workers = 8)"
   ]
  },
  {
   "cell_type": "code",
   "execution_count": 18,
   "metadata": {},
   "outputs": [],
   "source": [
    "from gensim import models\n",
    "news_w2v = models.Word2Vec.load(\"../data/news_content_wv\")"
   ]
  },
  {
   "cell_type": "code",
   "execution_count": 19,
   "metadata": {},
   "outputs": [
    {
     "data": {
      "text/plain": [
       "[('OPPO', 0.772564172744751),\n",
       " ('华为', 0.7322054505348206),\n",
       " ('苹果', 0.7308238744735718),\n",
       " ('格力', 0.7097365856170654),\n",
       " ('亚马逊', 0.7049881219863892),\n",
       " ('家电', 0.6772398352622986),\n",
       " ('京东', 0.673907995223999),\n",
       " ('三星', 0.6700971126556396),\n",
       " ('诺基亚', 0.6689715385437012),\n",
       " ('富士康', 0.6643304824829102)]"
      ]
     },
     "execution_count": 19,
     "metadata": {},
     "output_type": "execute_result"
    }
   ],
   "source": [
    "news_w2v.wv.most_similar('小米')"
   ]
  },
  {
   "cell_type": "code",
   "execution_count": 20,
   "metadata": {},
   "outputs": [
    {
     "data": {
      "text/plain": [
       "[('表示', 0.8313614130020142),\n",
       " ('认为', 0.7713284492492676),\n",
       " ('指出', 0.7618865966796875),\n",
       " ('告诉', 0.7600811719894409),\n",
       " ('坦言', 0.7169937491416931),\n",
       " ('看来', 0.6933884620666504),\n",
       " ('称', 0.6499497890472412),\n",
       " ('明说', 0.6462492942810059),\n",
       " ('介绍', 0.6341145038604736),\n",
       " ('中说', 0.6337442994117737),\n",
       " ('透露', 0.6268436908721924),\n",
       " ('所说', 0.6112016439437866),\n",
       " ('文说', 0.6095285415649414),\n",
       " ('强调', 0.5894920825958252),\n",
       " ('时说', 0.5286293029785156),\n",
       " ('地说', 0.5276984572410583),\n",
       " ('写道', 0.5167466402053833),\n",
       " ('的话', 0.5067312717437744),\n",
       " ('说道', 0.49823087453842163),\n",
       " ('提到', 0.4981098771095276)]"
      ]
     },
     "execution_count": 20,
     "metadata": {},
     "output_type": "execute_result"
    }
   ],
   "source": [
    "news_w2v.wv.most_similar('说',topn=20)"
   ]
  },
  {
   "cell_type": "markdown",
   "metadata": {},
   "source": [
    "## 上面是用word2vec的方法找近义词，接下来用图搜索的方法找近义词，进行对比"
   ]
  },
  {
   "cell_type": "code",
   "execution_count": 21,
   "metadata": {},
   "outputs": [],
   "source": [
    "from collections import defaultdict\n",
    "def get_related_words(init_words, model):\n",
    "    \n",
    "    unseen = init_words\n",
    "    seen = defaultdict(int)\n",
    "    max_size = 500\n",
    "    \n",
    "    while unseen and len(seen) < max_size:\n",
    "        if len(seen) % 50 == 0:\n",
    "            print('seen length : {0}'.format(len(seen)))\n",
    "        \n",
    "        node = unseen.pop(0)\n",
    "        new_expanding = [w for w, _ in model.wv.most_similar(node, topn=20)]\n",
    "        unseen += new_expanding\n",
    "        seen[node] += 1\n",
    "        #这里可以优化，利用 A* search or heuristic search\n",
    "        #加上Dynamic Programming\n",
    "        \n",
    "    return seen"
   ]
  },
  {
   "cell_type": "code",
   "execution_count": 22,
   "metadata": {},
   "outputs": [
    {
     "data": {
      "text/plain": [
       "97927"
      ]
     },
     "execution_count": 22,
     "metadata": {},
     "output_type": "execute_result"
    }
   ],
   "source": [
    "len(news_w2v.wv.vocab)"
   ]
  },
  {
   "cell_type": "code",
   "execution_count": 23,
   "metadata": {},
   "outputs": [
    {
     "data": {
      "text/plain": [
       "(97927, 100)"
      ]
     },
     "execution_count": 23,
     "metadata": {},
     "output_type": "execute_result"
    }
   ],
   "source": [
    "news_w2v.wv.vectors.shape"
   ]
  },
  {
   "cell_type": "code",
   "execution_count": 24,
   "metadata": {},
   "outputs": [
    {
     "name": "stdout",
     "output_type": "stream",
     "text": [
      "seen length : 0\n",
      "seen length : 50\n",
      "seen length : 50\n",
      "seen length : 50\n",
      "seen length : 50\n",
      "seen length : 100\n",
      "seen length : 150\n",
      "seen length : 200\n",
      "seen length : 200\n",
      "seen length : 200\n",
      "seen length : 200\n",
      "seen length : 250\n",
      "seen length : 300\n",
      "seen length : 350\n",
      "seen length : 400\n",
      "seen length : 400\n",
      "seen length : 450\n"
     ]
    }
   ],
   "source": [
    "related_word = get_related_words(['说','表示'], news_w2v)"
   ]
  },
  {
   "cell_type": "code",
   "execution_count": 25,
   "metadata": {},
   "outputs": [
    {
     "data": {
      "text/plain": [
       "[('表示', 98),\n",
       " ('指出', 90),\n",
       " ('坦言', 89),\n",
       " ('说', 85),\n",
       " ('认为', 79),\n",
       " ('告诉', 69),\n",
       " ('看来', 57),\n",
       " ('透露', 54),\n",
       " ('所说', 52),\n",
       " ('介绍', 47),\n",
       " ('称', 44),\n",
       " ('中说', 44),\n",
       " ('明说', 43),\n",
       " ('强调', 41),\n",
       " ('直言', 41),\n",
       " ('提到', 40),\n",
       " ('说道', 35),\n",
       " ('文说', 34),\n",
       " ('提及', 32),\n",
       " ('写道', 31)]"
      ]
     },
     "execution_count": 25,
     "metadata": {},
     "output_type": "execute_result"
    }
   ],
   "source": [
    "sorted(related_word.items(), key=lambda x:x[1],reverse=True)[:20]"
   ]
  },
  {
   "cell_type": "markdown",
   "metadata": {},
   "source": [
    "## TF-IDF 得到文本关键字(接下来还要做TFIDF的文本向量化"
   ]
  },
  {
   "cell_type": "code",
   "execution_count": 58,
   "metadata": {},
   "outputs": [
    {
     "data": {
      "text/plain": [
       "'此外 自 本周 6 月 12 日起 除 小米 手机 6 等 15 款 机型 外 其余 机型 已 暂停 更新 发布 含 开发 版 体验版 内测 稳定版 暂不受 影响 以 确保 工程师 可以 集中 全部 精力 进行 系统优化 工作 有人 猜测 这 也 是 将 精力 主要 用到 MIUI9 的 研发 之中 MIUI8 去年 5 月 发布 距今已有 一年 有余 也 是 时候 更新换代 了 当然 关于 MIUI9 的 确切 信息 我们 还是 等待 官方消息'"
      ]
     },
     "execution_count": 58,
     "metadata": {},
     "output_type": "execute_result"
    }
   ],
   "source": [
    "new_content[0]"
   ]
  },
  {
   "cell_type": "code",
   "execution_count": 26,
   "metadata": {},
   "outputs": [],
   "source": [
    "def document_frequency(word):\n",
    "    return sum(1 for n in new_content if word in n)"
   ]
  },
  {
   "cell_type": "code",
   "execution_count": 27,
   "metadata": {},
   "outputs": [
    {
     "data": {
      "text/plain": [
       "100"
      ]
     },
     "execution_count": 27,
     "metadata": {},
     "output_type": "execute_result"
    }
   ],
   "source": [
    "document_frequency('小米')"
   ]
  },
  {
   "cell_type": "code",
   "execution_count": 28,
   "metadata": {},
   "outputs": [
    {
     "data": {
      "text/plain": [
       "70342"
      ]
     },
     "execution_count": 28,
     "metadata": {},
     "output_type": "execute_result"
    }
   ],
   "source": [
    "document_frequency('的')"
   ]
  },
  {
   "cell_type": "code",
   "execution_count": 29,
   "metadata": {},
   "outputs": [],
   "source": [
    "import math"
   ]
  },
  {
   "cell_type": "code",
   "execution_count": 35,
   "metadata": {},
   "outputs": [],
   "source": [
    "#Inverse Document Frequency 逆文本频率 log（总文件数/单词出现的文件数）\n",
    "def idf(word):\n",
    "    eps = 1e-5\n",
    "    return math.log10(len(new_content)) / (document_frequency(word)+eps)"
   ]
  },
  {
   "cell_type": "code",
   "execution_count": 38,
   "metadata": {},
   "outputs": [],
   "source": [
    "#Term Frequency 词频 表示在一篇文章中出现的次数\n",
    "def tf(word, document):\n",
    "    words = document.split()\n",
    "    return words.count(word)/len(words)"
   ]
  },
  {
   "cell_type": "code",
   "execution_count": 39,
   "metadata": {},
   "outputs": [
    {
     "data": {
      "text/plain": [
       "0.02631578947368421"
      ]
     },
     "execution_count": 39,
     "metadata": {},
     "output_type": "execute_result"
    }
   ],
   "source": [
    "tf('的',new_content[0])"
   ]
  },
  {
   "cell_type": "code",
   "execution_count": 40,
   "metadata": {},
   "outputs": [
    {
     "data": {
      "text/plain": [
       "0.013157894736842105"
      ]
     },
     "execution_count": 40,
     "metadata": {},
     "output_type": "execute_result"
    }
   ],
   "source": [
    "tf('小米',new_content[0])"
   ]
  },
  {
   "cell_type": "code",
   "execution_count": 41,
   "metadata": {},
   "outputs": [],
   "source": [
    "def tf_idf(word, content):\n",
    "    w_tf = tf(word, content)\n",
    "    w_idf = idf(word)\n",
    "    return w_tf*w_idf"
   ]
  },
  {
   "cell_type": "code",
   "execution_count": 44,
   "metadata": {},
   "outputs": [
    {
     "data": {
      "text/plain": [
       "False"
      ]
     },
     "execution_count": 44,
     "metadata": {},
     "output_type": "execute_result"
    }
   ],
   "source": [
    "tf_idf('的',new_content[0])>tf_idf('小米',new_content[0])"
   ]
  },
  {
   "cell_type": "code",
   "execution_count": 48,
   "metadata": {},
   "outputs": [],
   "source": [
    "def get_keyword_of_document(document):\n",
    "    words = set(document.split())\n",
    "    importance = {\n",
    "        w:tf_idf(w,document) for w in words\n",
    "    }\n",
    "    return sorted(importance.items(),key=lambda x:x[1],reverse=True)"
   ]
  },
  {
   "cell_type": "code",
   "execution_count": 50,
   "metadata": {},
   "outputs": [
    {
     "data": {
      "text/plain": [
       "[('MIUI9', 0.13032399475459122),\n",
       " ('暂不受', 0.06516199737729561),\n",
       " ('系统优化', 0.06516199737729561),\n",
       " ('稳定版', 0.06516199737729561),\n",
       " ('体验版', 0.06516199737729561),\n",
       " ('MIUI8', 0.06516199737729561),\n",
       " ('内测', 0.010860423398839233),\n",
       " ('官方消息', 0.006516258383468555),\n",
       " ('距今已有', 0.0031029818079738717),\n",
       " ('更新换代', 0.00197462512881873)]"
      ]
     },
     "execution_count": 50,
     "metadata": {},
     "output_type": "execute_result"
    }
   ],
   "source": [
    "get_keyword_of_document(new_content[0])[:10]"
   ]
  },
  {
   "cell_type": "markdown",
   "metadata": {},
   "source": [
    "## wordcloud 词云"
   ]
  },
  {
   "cell_type": "code",
   "execution_count": 59,
   "metadata": {},
   "outputs": [],
   "source": [
    "import wordcloud"
   ]
  },
  {
   "cell_type": "code",
   "execution_count": 166,
   "metadata": {},
   "outputs": [],
   "source": [
    "wc = wordcloud.WordCloud('../data/SourceHanSerifSC-Regular.otf')"
   ]
  },
  {
   "cell_type": "code",
   "execution_count": 167,
   "metadata": {},
   "outputs": [
    {
     "data": {
      "text/plain": [
       "'原 标题 44 岁 女子 跑 深圳 约会 网友 被 拒 暴雨 中 裸身 奔走 深圳 交警 微博称 昨日 清晨 交警 发现 有 一 女子 赤裸 上身 行走 在 南坪 快速 上 期间 还 起 了 轻生 年头 一辅警 发现 后 赶紧 为 其 披上 黄衣 并 一路 劝说 她 那么 事发 时 到底 都 发生 了 些 什么 呢 南 都 记者 带 您 一起 还原 现场 南 都 记者 在 龙岗 大队 坂田 中队 见到 了 辅警 刘青 发现 女生 的 辅警 一位 外表 高大 帅气 说话 略带 些 腼腆 的 90 后 青年 刘青 介绍 6 月 16 日 早上 7 时 36 分 他 正在 环城 南路 附近 值勤 接到 中队 关于 一位 女子 裸身 进入 机动车 可能 有 危险 的 警情 随后 骑着 小 铁骑 开始 沿路 寻找 大概 花 了 十多分钟 在 南坪 大道 坂田 出口 往 龙岗 方向 的 逆行 辅道 上 发现 该 女子 女子 身上 一丝不挂 地逆 车流 而 行时 走时 停时 坐时 躺 险象环生 刘青停 好 小 铁骑 和 另外 一名 巡防 员 追 了 上去 发现 女子 的 情绪 很 低落 话 不 多 刘青 尝试 和 女子 交流 劝说 女子 离开 可 女子 并 不 愿意 接受 继续 缓慢 地往 南坪 快速路 的 主干道 上 走 去 此时 路边 上 已经 聚集 了 很 市民 围观 为了 不 刺激 女子 的 情绪 刘青 和 巡防 员 一边 盯 着 女子 一边 驱赶 着 围观 的 群众 现场 还原 从 警方 提供 的 一份 视频 了解 到 16 日 早上 7 时 25 分 女子 出现 在 坂雪岗 大道 与 环城 南路 的 监控 视频 中 此时 女子 还 穿着 白色 的 内裤 正 沿着 坂雪岗 大道 往 南坪 快速 的 方向 缓慢 地 走 着 当时 正值 上班 高峰期 十字路口 的 车流 已经 排起 了 长队 当 女子 出现 时 路上 的 市民 纷纷 驻足 观望 不少 车辆 也 放慢 了 速度 但 女子 并 不 为 市民 观望 停下 脚步 依然 缓慢 走 着 当 女子 行进 到 十字路口 中间 时 一辆 大 货车 挡住 了 镜头 但是 当 女子 再次出现 镜头 时 可以 发现 女子 已经 没 穿 内裤 了 全身 裸露 继续 朝着 南坪 快速 方向 走 去 记者 发现 视频 中 女子 周围 并 没有 人 尾随 或者 上前 劝止 的 市民 一 大清早 路上 看到 这样 的 情况 恐怕 大家 都 没 办法 淡定 面对 这一 情况 刘青 表示 一 开始 根本 不敢 看 她 心里 挺 别扭 感觉 很 尴尬 但 当 刘青 跟随 女子 上 了 南坪 快速路 主干道 时 女子 作出 了 让 人 意想不到 的 举动 她 突然 靠近 护栏 要 从 上面 跳下去 刘青 赶忙 冲上去 拉住 了 女子 的 手 将 其 控制 住 并 远离 护栏 碍于 女子 没有 穿衣服 刘青递 上 衣服 女子 没 接受 还 把 衣服 扔 到 排水沟 里 继续 往前走 没 办法 刘青 只能 紧紧 拉 着 她 的 一只 手 跟 在 后面 刘青 一路上 耐心 地 开导 安慰 她 但 只 听到 她 不断 地 重复 着 一句 话 要是 你 也 遭遇 我 的 事 你 也 会 这样 的 期间 她 还 不时 试图 挣脱 刘青 的 手要 冲向 护栏 往下跳 就 这样 我 被 牵 着 走 了 大概 十多分钟 天 突然 下起 了 大暴雨 雨大 的 连 眼睛 都 睁不开 刘青 继续 说 着 瞬间 他们 就 被 雨 透 了 但 女子 依然 不 愿意 接受 刘青 的 帮助 就 继续 冒 着 大雨 往前走 大概 走 了 有 四十分钟 吧 女子 突然 停下 来说 我 想 回家 了 然后 女子 也 接受 了 刘青 递过来 的 小 黄衣 就 出现 了 深圳 微博上 的 照片 女子 披着 小 黄衣 刘青 小心翼翼 地 在 旁边 走 着 的 场景 从 南平 快速 下来 后 刘青 和 巡防 员 将 女子 带到 了 附近 的 坂田 派出所 那 姑娘 到底 是 遭遇 了 什么样 的 事情 才 会 说 要是 你 也 遭遇 我 的 事 你 也 会 这样 据 警方 透露 该 女子 姓 陈系 湖北 人 今年 44 岁 据 家属 反映 其有 精神病 史 三天 前 陈某 从 老家 来 深圳 约会 网友 但 约会 受挫 导致 情绪 异常 女子 遂 产生 轻生 念头 目前 陈某 已经 被 送往 深圳 某 精神病 医院 进行 治疗 大大 君 只 希望 姑娘 能 早点 康复 其实 真爱 的 到来 并 不 存在 年龄 的 限制 你们 说 呢 因 善良 的 原因 一众 网友 纷纷 为 交警 暖 男点 ZAN 弓常 yan 桦 就 想 问 这个 小 哥哥 有 女票 吗 原谅 我 这 一辈子 浪荡 不羁 爱 萨摩耶 有 什么 过不去 的 要 轻生 嘛 想想 自己 的 家人 同时 也 感谢 交警 蜀黍 火心 聆听 心灵 点赞 交警 中華云盾 警察 警察 就是 群众 最 需时 申出 援手 Tomchlee 蜀黍 帅 SJ 李赫海 i 这个 交警 很 暖 有 木有 男子 迷奸 网友 拍 418 个 视频 女方 从 20 岁 到 50 岁 不 等 去年 6 月 7 号 上午 淮安市 涟水县 公安局 刑警大队 突然 接到 了 一个 奇怪 的 报警 电话 一名 女子 言语 不清 声称 自己 遭到 了 侵害 女子 被 侵害 言语 不清 几个 关键词 令 接到 电话 的 民警 瞬间 紧张 起来'"
      ]
     },
     "execution_count": 167,
     "metadata": {},
     "output_type": "execute_result"
    }
   ],
   "source": [
    "new_content[4]"
   ]
  },
  {
   "cell_type": "code",
   "execution_count": 168,
   "metadata": {},
   "outputs": [],
   "source": [
    "import matplotlib.pyplot as plt\n",
    "%matplotlib inline"
   ]
  },
  {
   "cell_type": "code",
   "execution_count": 174,
   "metadata": {},
   "outputs": [],
   "source": [
    "machine_new_keywords = get_keyword_of_document(new_content[101])\n",
    "machine_new_keywords_dict = {w: score for w, score in machine_new_keywords}"
   ]
  },
  {
   "cell_type": "code",
   "execution_count": 175,
   "metadata": {},
   "outputs": [
    {
     "data": {
      "text/plain": [
       "<matplotlib.image.AxesImage at 0x1db010d6c88>"
      ]
     },
     "execution_count": 175,
     "metadata": {},
     "output_type": "execute_result"
    },
    {
     "data": {
      "image/png": "[encoded data removed]",
      "text/plain": [
       "<Figure size 432x288 with 1 Axes>"
      ]
     },
     "metadata": {
      "needs_background": "light"
     },
     "output_type": "display_data"
    }
   ],
   "source": [
    "plt.imshow(wc.generate_from_frequencies(machine_new_keywords_dict))"
   ]
  },
  {
   "cell_type": "code",
   "execution_count": 178,
   "metadata": {},
   "outputs": [],
   "source": [
    "from PIL import Image, ImageDraw\n",
    "import numpy as np"
   ]
  },
  {
   "cell_type": "code",
   "execution_count": 179,
   "metadata": {},
   "outputs": [
    {
     "data": {
      "image/png": "[encoded data removed]",
      "text/plain": [
       "<PIL.PngImagePlugin.PngImageFile image mode=RGBA size=518x518 at 0x1DB011B2EF0>"
      ]
     },
     "execution_count": 179,
     "metadata": {},
     "output_type": "execute_result"
    }
   ],
   "source": [
    "img = Image.open('../data/spiderman.png')\n",
    "img"
   ]
  },
  {
   "cell_type": "code",
   "execution_count": 182,
   "metadata": {},
   "outputs": [
    {
     "data": {
      "text/plain": [
       "(518, 518, 4)"
      ]
     },
     "execution_count": 182,
     "metadata": {},
     "output_type": "execute_result"
    }
   ],
   "source": [
    "mask = np.array(img)\n",
    "mask.shape(0,0,0,...)"
   ]
  },
  {
   "cell_type": "code",
   "execution_count": 184,
   "metadata": {},
   "outputs": [
    {
     "data": {
      "text/plain": [
       "(518, 518, 4)"
      ]
     },
     "execution_count": 184,
     "metadata": {},
     "output_type": "execute_result"
    }
   ],
   "source": [
    "# https://www.datacamp.com/community/tutorials/wordcloud-python\n",
    "mask = np.where(mask==0, 255, mask) # 将边界之外的区域转换成白色\n",
    "mask.shape#(255,255...)"
   ]
  },
  {
   "cell_type": "code",
   "execution_count": 187,
   "metadata": {},
   "outputs": [],
   "source": [
    "wc = wordcloud.WordCloud('../data/SourceHanSerifSC-Regular.otf', mask=mask, background_color='white', contour_color='firebrick', contour_width=5)"
   ]
  },
  {
   "cell_type": "code",
   "execution_count": 188,
   "metadata": {},
   "outputs": [
    {
     "data": {
      "text/plain": [
       "(-0.5, 517.5, 517.5, -0.5)"
      ]
     },
     "execution_count": 188,
     "metadata": {},
     "output_type": "execute_result"
    },
    {
     "data": {
      "image/png": "[encoded data removed]",
      "text/plain": [
       "<Figure size 432x288 with 1 Axes>"
      ]
     },
     "metadata": {
      "needs_background": "light"
     },
     "output_type": "display_data"
    }
   ],
   "source": [
    "plt.imshow(wc.generate_from_frequencies(machine_new_keywords_dict))\n",
    "plt.axis('off')"
   ]
  },
  {
   "cell_type": "markdown",
   "metadata": {},
   "source": [
    "## TFIDF Vectorized"
   ]
  },
  {
   "cell_type": "code",
   "execution_count": 76,
   "metadata": {},
   "outputs": [],
   "source": [
    "from sklearn.feature_extraction.text import TfidfVectorizer\n",
    "import numpy as np"
   ]
  },
  {
   "cell_type": "code",
   "execution_count": 65,
   "metadata": {},
   "outputs": [],
   "source": [
    "vectorized = TfidfVectorizer(max_features=10000)"
   ]
  },
  {
   "cell_type": "code",
   "execution_count": 68,
   "metadata": {},
   "outputs": [
    {
     "data": {
      "text/plain": [
       "'证券时报 网 wwwstcncom06 月 23 日讯据 上证 报道 6 月初 以来 创业板 指数 明显 强于 上证综指 一时间 关于 蓝筹 行情 将 向 成长 股行情 切换 的 预期 再起 但 多位 私募 人士 表示 蓝筹股 与 成长 股 这 两年 并非 绝对 的 此消彼长 本轮 蓝筹股 上涨 行情 的 主要 推动力 就是 业绩 成长 而 业绩 与 估值 匹配 才 是 王道 上述 私募 人士 依然 看好 成长性 突出 的 蓝筹股'"
      ]
     },
     "execution_count": 68,
     "metadata": {},
     "output_type": "execute_result"
    }
   ],
   "source": [
    "new_content[10]"
   ]
  },
  {
   "cell_type": "code",
   "execution_count": 70,
   "metadata": {},
   "outputs": [],
   "source": [
    "sample_num = 50000\n",
    "sub_samples = new_content[:sample_num]"
   ]
  },
  {
   "cell_type": "code",
   "execution_count": 71,
   "metadata": {},
   "outputs": [],
   "source": [
    "X = vectorized.fit_transform(sub_samples)"
   ]
  },
  {
   "cell_type": "code",
   "execution_count": 72,
   "metadata": {},
   "outputs": [
    {
     "data": {
      "text/plain": [
       "(50000, 10000)"
      ]
     },
     "execution_count": 72,
     "metadata": {},
     "output_type": "execute_result"
    }
   ],
   "source": [
    "X.shape"
   ]
  },
  {
   "cell_type": "code",
   "execution_count": 83,
   "metadata": {},
   "outputs": [
    {
     "data": {
      "text/plain": [
       "10000"
      ]
     },
     "execution_count": 83,
     "metadata": {},
     "output_type": "execute_result"
    }
   ],
   "source": [
    "len(vectorized.vocabulary_)"
   ]
  },
  {
   "cell_type": "code",
   "execution_count": 77,
   "metadata": {},
   "outputs": [
    {
     "data": {
      "text/plain": [
       "(array([0, 0, 0, 0, 0, 0, 0, 0, 0, 0, 0, 0, 0, 0, 0, 0, 0, 0, 0, 0, 0, 0,\n",
       "        0, 0, 0, 0, 0, 0, 0, 0, 0, 0, 0, 0, 0], dtype=int64),\n",
       " array([  33,   46,  330,  941,  962, 1567, 1765, 1841, 1866, 2577, 2657,\n",
       "        2760, 3990, 4129, 4149, 4422, 4521, 4541, 4817, 4891, 5626, 5642,\n",
       "        5752, 5774, 5822, 5905, 6208, 6886, 7326, 7345, 7615, 7670, 9087,\n",
       "        9144, 9630], dtype=int64))"
      ]
     },
     "execution_count": 77,
     "metadata": {},
     "output_type": "execute_result"
    }
   ],
   "source": [
    "np.where(X[0].toarray()) # get the positions which values are not zero"
   ]
  },
  {
   "cell_type": "code",
   "execution_count": 79,
   "metadata": {},
   "outputs": [
    {
     "data": {
      "text/plain": [
       "'此外 自 本周 6 月 12 日起 除 小米 手机 6 等 15 款 机型 外 其余 机型 已 暂停 更新 发布 含 开发 版 体验版 内测 稳定版 暂不受 影响 以 确保 工程师 可以 集中 全部 精力 进行 系统优化 工作 有人 猜测 这 也 是 将 精力 主要 用到 MIUI9 的 研发 之中 MIUI8 去年 5 月 发布 距今已有 一年 有余 也 是 时候 更新换代 了 当然 关于 MIUI9 的 确切 信息 我们 还是 等待 官方消息'"
      ]
     },
     "execution_count": 79,
     "metadata": {},
     "output_type": "execute_result"
    }
   ],
   "source": [
    "new_content[0]"
   ]
  },
  {
   "cell_type": "code",
   "execution_count": 82,
   "metadata": {},
   "outputs": [],
   "source": [
    "import random"
   ]
  },
  {
   "cell_type": "code",
   "execution_count": 85,
   "metadata": {},
   "outputs": [],
   "source": [
    "document_id_1, document_id_2 = random.randint(0, 1000), random.randint(0, 1000)"
   ]
  },
  {
   "cell_type": "code",
   "execution_count": 86,
   "metadata": {},
   "outputs": [
    {
     "data": {
      "text/plain": [
       "(216, 186)"
      ]
     },
     "execution_count": 86,
     "metadata": {},
     "output_type": "execute_result"
    }
   ],
   "source": [
    "document_id_1, document_id_2"
   ]
  },
  {
   "cell_type": "code",
   "execution_count": 87,
   "metadata": {},
   "outputs": [],
   "source": [
    "vector_of_d_1 = X[document_id_1].toarray()[0]\n",
    "vector_of_d_2 = X[document_id_2].toarray()[0]"
   ]
  },
  {
   "cell_type": "code",
   "execution_count": 88,
   "metadata": {},
   "outputs": [],
   "source": [
    "from scipy.spatial.distance import cosine"
   ]
  },
  {
   "cell_type": "code",
   "execution_count": 89,
   "metadata": {},
   "outputs": [],
   "source": [
    "def distance(v1, v2): return cosine(v1, v2)"
   ]
  },
  {
   "cell_type": "code",
   "execution_count": 90,
   "metadata": {},
   "outputs": [
    {
     "data": {
      "text/plain": [
       "0.0"
      ]
     },
     "execution_count": 90,
     "metadata": {},
     "output_type": "execute_result"
    }
   ],
   "source": [
    "distance([1, 1], [2, 2])"
   ]
  },
  {
   "cell_type": "code",
   "execution_count": 94,
   "metadata": {},
   "outputs": [
    {
     "data": {
      "text/plain": [
       "312"
      ]
     },
     "execution_count": 94,
     "metadata": {},
     "output_type": "execute_result"
    }
   ],
   "source": [
    "random_choose = random.randint(0, 1000)\n",
    "random_choose"
   ]
  },
  {
   "cell_type": "code",
   "execution_count": 95,
   "metadata": {},
   "outputs": [
    {
     "data": {
      "text/plain": [
       "0.9907543457411099"
      ]
     },
     "execution_count": 95,
     "metadata": {},
     "output_type": "execute_result"
    }
   ],
   "source": [
    "distance(X[random_choose].toarray()[0], vector_of_d_1)"
   ]
  },
  {
   "cell_type": "code",
   "execution_count": 96,
   "metadata": {},
   "outputs": [
    {
     "data": {
      "text/plain": [
       "0.9933060339629695"
      ]
     },
     "execution_count": 96,
     "metadata": {},
     "output_type": "execute_result"
    }
   ],
   "source": [
    "distance(X[random_choose].toarray()[0], vector_of_d_2)"
   ]
  },
  {
   "cell_type": "code",
   "execution_count": 97,
   "metadata": {},
   "outputs": [
    {
     "name": "stderr",
     "output_type": "stream",
     "text": [
      "H:\\Anaconda3\\lib\\site-packages\\scipy\\spatial\\distance.py:702: RuntimeWarning: invalid value encountered in double_scalars\n",
      "  dist = 1.0 - uv / np.sqrt(uu * vv)\n"
     ]
    },
    {
     "data": {
      "text/plain": [
       "[312, 74, 53, 85, 12, 72, 125, 122, 80, 113]"
      ]
     },
     "execution_count": 97,
     "metadata": {},
     "output_type": "execute_result"
    }
   ],
   "source": [
    "sorted(range(1000), key=lambda i: distance(X[random_choose].toarray()[0], X[i].toarray()[0]))[:10] \n",
    "# 找出和random_choose在 tf-idf 向量上最接近的文档"
   ]
  },
  {
   "cell_type": "code",
   "execution_count": 99,
   "metadata": {},
   "outputs": [
    {
     "data": {
      "text/plain": [
       "'新华社 乌鲁木齐 6 月 18 日电 记者 杜刚 王秉阳 6 月 18 日 新疆 天山 天池 首次 举办 山地 马拉松 比赛 在 云 的 投影 中 来自 国内外 的 2400 余名 选手 向着 湛蓝 的 天池 湖畔 奔跑 为 这座 被 列入 世界 自然遗产 名录 的 山脉 增加 了 活力 此次 比赛 设置 了 全程 马拉松 半程 马拉松 618 公里 迷你 马拉松 和 天池 欢乐 跑 4 个 项目 为 跑步 爱好者 提供 了 多种 选择 与 城市 马拉松赛 相比 山地 马拉松 更富 挑战性 选手 们 从 阜康市 出发 沿着 蜿蜒 的 盘山公路 可以 欣赏 到 苍翠 的 雪岭 云杉 高耸入云 的 雪峰 和 湛蓝 的 湖水 在 全程 马拉松 比赛 中 来自 广西 桂林 的 23 岁 小伙 蒋晓明 以 3 小时 21 分 5 秒 获得 冠军 蒋晓 明说 他 练习 跑步 有 3 年 了 最初 以 减肥 为 目的 现在 把 跑步 作为 日常生活 的 一部分 每天 不 跑 一两个 小时 就 不得劲 向往 新疆 特别 是 天池 很久 了 所以 在 网上 报名 参赛 但 根本 没想到 在 高手 众多 的 新疆 能 取得 头名 当日 是 父亲节 比赛 也 吸引 了 很多 父子兵 来自 乌鲁木齐 的 张建营 参加 全马 他 9 岁 的 儿子 张雨乐 参加 了 618 公里 迷你 马拉松 张建营 希望 以 自身 为 榜样 教 儿子 做事 要 坚持不懈 儿子 能 坚持 跑 下来 就是 父亲节 最好 的 礼物 近年来 天山 天池 先后 举办 了 全国 自行车 联赛 国际 雪联 越野 滑雪 中国 巡回赛 等 并 承办 了 第十三届 全国 冬运会 雪 上 项目 比赛 天山 天池 管委会 主任 张军 认为 举行 山地 马拉松 比赛 一方面 促进 全民 健身 倡导 积极向上 的 生活 方式 另一方面 让 天池 品牌 传播 得 更 远 促进 旅游业 发展 免责 声明 本文 仅 代表 作者 个人观点 与 环球网 无关 其 原创性 以及 文中 陈述 文字 和 内容 未经 本站 证实 对 本文 以及 其中 全部 或者 部分 内容 文字 的 真实性 完整性 及时性 本站 不 作 任何 保证 或 承诺 请 读者 仅作 参考 并 请 自行 核实 相关 内容'"
      ]
     },
     "execution_count": 99,
     "metadata": {},
     "output_type": "execute_result"
    }
   ],
   "source": [
    "new_content[random_choose]"
   ]
  },
  {
   "cell_type": "markdown",
   "metadata": {},
   "source": [
    "## Build Search Engine\n",
    "**Input: Words**  \n",
    "**Output: Documents**"
   ]
  },
  {
   "cell_type": "code",
   "execution_count": 123,
   "metadata": {},
   "outputs": [],
   "source": [
    "def naive_search(keywords):\n",
    "    return [i for i, n in enumerate(new_content) if all(k in n for k in keywords)]"
   ]
  },
  {
   "cell_type": "code",
   "execution_count": 125,
   "metadata": {},
   "outputs": [],
   "source": [
    "news_id = naive_search('美军 司令 航母'.split())"
   ]
  },
  {
   "cell_type": "code",
   "execution_count": 126,
   "metadata": {},
   "outputs": [
    {
     "data": {
      "text/plain": [
       "[2844,\n",
       " 21484,\n",
       " 21523,\n",
       " 21784,\n",
       " 21901,\n",
       " 22987,\n",
       " 33522,\n",
       " 33770,\n",
       " 34532,\n",
       " 34887,\n",
       " 37846,\n",
       " 38049,\n",
       " 38096,\n",
       " 45474,\n",
       " 45507,\n",
       " 87483,\n",
       " 88997]"
      ]
     },
     "execution_count": 126,
     "metadata": {},
     "output_type": "execute_result"
    }
   ],
   "source": [
    "news_id"
   ]
  },
  {
   "cell_type": "code",
   "execution_count": 127,
   "metadata": {},
   "outputs": [
    {
     "data": {
      "text/plain": [
       "'参考消息 网 6 月 15 日 报道 日本 每日 新闻 6 月 14 日 发表 题为 日本 欲 邀请 海外 大学 和 科研机构 参与 本国 防卫 研究 的 报道 称 关于 从 大学 等 公开 招募 可 应用 于 防卫 装备 品 的 尖端 研究 并 支付 研究 委托 费 的 安全 保障 技术 研究 推进 制度 防卫 装备 厅 已 开始 研究 与 国际 制度 接轨 设想 是 将 委托 对象 从 目前 的 只限 国内 扩大 至 海外 的 大学 和 企业 该 制度 被 很多 人 批评 是 用于 军事 研究 作为 科学家 代表 机构 的 日本 学术会议 3 月 发表声明 指出 从 学术 健康 发展 角度看 存在 很多 问题 防卫 装备 厅 的 方针 料想 将会 引起 轩然大波 该 制度 中 公开 招募 的 规定 是 研究 代表人 需要 是 日本 国籍 对象 限定 为 大学 研究 机构 企业 然而 防卫 装备 厅 认为 要 想 维持 和 提高 与 安全 保障 有关 的 技术 的 优势 需要 招募 更 广泛 的 尖端 研究 机构 因此 防卫 装备 厅 准备 参考 美军 向 海外 研究者 提供 研究 资金 的 制度 并 考虑 与 美国 等 盟国 建立 共同 资金 制度 日本 防卫 装备 厅 防卫 技术 总监 外园 博一 13 日 在 千叶县 海洋 领域 国际 装备 展销会 上 发表 演讲 面对 各国 军人 和 军工企业 相关 人士 表示 希望 发展 制度 使 其 能够 国际性 地 提供 资金 反对 军事 研究 的 名古屋 大学 宇宙 物理学 名誉教授 池内 了 批评 说到底 要 模仿 美国 到 何时 感觉 这是 通过 集体 自卫权 推进 与 盟国 一体化 的 一环 是 旨在 实现 装备 品 共同开发 的 危险 动向 原 海上 自卫队 自卫 舰队 司令 香田洋 二 表示 技术 的 问题 在于 如何 使用 从 海外 公开 招募 研究 不 存在 国家 利益 上 的 问题 但 在 现行制度 的 预算 规模 和 框架 下 海外 知名 大学 不会 满意 应该 不会 应招 点击 图片 进入 下 一页 6 月 1 日 美海军 2 艘 尼米兹 级 核 航母 卡尔文 森号 CVN70 和 罗纳德 里根 号 CVN76 携 数艘 提 康德罗 加级 导弹 巡洋舰 及伯克级 导弹 驱逐舰 与 日本 海上 自卫队 日向 号 直升机 航母 在 日本海 组成 庞大 编队 巡航 图为 三 航母 特 写照 从近 至 远 依次 为 文森号 日 向 号 和 里根 号'"
      ]
     },
     "execution_count": 127,
     "metadata": {},
     "output_type": "execute_result"
    }
   ],
   "source": [
    "new_content[2844]"
   ]
  },
  {
   "cell_type": "markdown",
   "metadata": {},
   "source": [
    "## Input word -> the documents which contain this word"
   ]
  },
  {
   "cell_type": "code",
   "execution_count": 128,
   "metadata": {},
   "outputs": [
    {
     "data": {
      "text/plain": [
       "(50000, 10000)"
      ]
     },
     "execution_count": 128,
     "metadata": {},
     "output_type": "execute_result"
    }
   ],
   "source": [
    "X.shape"
   ]
  },
  {
   "cell_type": "code",
   "execution_count": 129,
   "metadata": {},
   "outputs": [],
   "source": [
    "transposed_x = X.transpose().toarray()"
   ]
  },
  {
   "cell_type": "code",
   "execution_count": 130,
   "metadata": {},
   "outputs": [],
   "source": [
    "word_2_id = vectorized.vocabulary_"
   ]
  },
  {
   "cell_type": "code",
   "execution_count": 131,
   "metadata": {},
   "outputs": [
    {
     "data": {
      "text/plain": [
       "1243"
      ]
     },
     "execution_count": 131,
     "metadata": {},
     "output_type": "execute_result"
    }
   ],
   "source": [
    "word_2_id['今天']"
   ]
  },
  {
   "cell_type": "code",
   "execution_count": 132,
   "metadata": {},
   "outputs": [],
   "source": [
    "id_2_word = {d: w for w, d in word_2_id.items()}"
   ]
  },
  {
   "cell_type": "code",
   "execution_count": 133,
   "metadata": {},
   "outputs": [
    {
     "data": {
      "text/plain": [
       "'正如'"
      ]
     },
     "execution_count": 133,
     "metadata": {},
     "output_type": "execute_result"
    }
   ],
   "source": [
    "id_2_word[6195]"
   ]
  },
  {
   "cell_type": "code",
   "execution_count": 135,
   "metadata": {},
   "outputs": [],
   "source": [
    "#set(np.where(transposed_x[6195])[0])"
   ]
  },
  {
   "cell_type": "code",
   "execution_count": 137,
   "metadata": {},
   "outputs": [
    {
     "data": {
      "text/plain": [
       "(7929, 2793)"
      ]
     },
     "execution_count": 137,
     "metadata": {},
     "output_type": "execute_result"
    }
   ],
   "source": [
    "word_2_id['美军'], word_2_id['司令']"
   ]
  },
  {
   "cell_type": "code",
   "execution_count": 140,
   "metadata": {},
   "outputs": [],
   "source": [
    "usa_force = set(np.where(transposed_x[7929])[0])\n",
    "commander = set(np.where(transposed_x[2763])[0])"
   ]
  },
  {
   "cell_type": "code",
   "execution_count": 143,
   "metadata": {},
   "outputs": [
    {
     "data": {
      "text/plain": [
       "{5404, 19852}"
      ]
     },
     "execution_count": 143,
     "metadata": {},
     "output_type": "execute_result"
    }
   ],
   "source": [
    "usa_force & commander"
   ]
  },
  {
   "cell_type": "code",
   "execution_count": 144,
   "metadata": {},
   "outputs": [
    {
     "data": {
      "text/plain": [
       "'新华网 北京 6 月 23 日电 陈虎 几天 前 美国 的 一架 F18 战斗机 在 叙利亚 的 拉卡 省 上空 击落 了 叙利亚 政府军 的 一架 苏 22 战斗 轰炸机 这 立刻 引起 了 俄罗斯 的 强烈反应 他 一方面 强烈 谴责 了 美国 的 行为 同时 也 采取 了 一系列 对策 性 措施 首先 俄罗斯 终止 了 美 俄 在 叙利亚 上空 飞行 安全 备忘录 框架 下 的 合作 即 俄方 在 叙利亚 上空 的 军事 飞行 不再 向 美国 通报 俄罗斯 还 对外 声称 要 对 在 幼发拉底河 以西 飞行 的 美军 包括 美军 为首 的 所谓 反恐 联军 的 所有 飞行器 实施 跟踪 和 监视 俄罗斯 的 反应 表明 美俄 在 叙利亚 地区 的 军事 对抗 已 提升 到 一个 新 的 级别 那么 美俄会 不会 在 叙利亚 擦枪 走火 呢 这个 问题 包含 两层 含义 一是 美 俄 双方 会 不会 有意 地 制造 一些 擦枪 走火 的 事件 二是 在 无意 中 发生 擦枪 走火 事件 后 双方 会 不会 努力 地 控制 局势 不使 其 向 恶化 的 方向 发展 从 美国 方面 来看 根据 外媒 报道 的 战机 击落 过程 美军 显然 是 有备而来 有意 为 之 结合 之前 美国 在 叙利亚 的 一系列 表现 美国 更 多 的 是 在 做 压力 测试 一方面 是 测试 俄罗斯 的 底线 另一方面 也 是 向 俄罗斯 施压 让 他 知难而退 从 美国 在 中东 海湾地区 和 全球 的 战略 利益 来看 美国 轻易 不会 和 拥有 巨大 核威慑 能力 的 俄罗斯 进行 面对面 的 直接 硬 交火 而且 在 击落 战机 事件 后 美国 说 了 一系列 软话 表示 还 希望 和 俄罗斯 继续 在 叙利亚 反恐 作战 中 合作 同时 放风 说 已 调整 了 驻 叙 战机 的 部署 说明 美国 还是 想 把 局势 控制 在 一个 可控 的 范围 内 所以 从 美国 的 角度 来说 有意 地 制造 擦枪 走火 事件 的 可能性 并不大 即使 在 特殊 情况 下 出现 了 擦枪 走火 的 行动 也 会 努力 地 控制 局势 不使 其 进一步 恶化 从 俄罗斯 方面 来看 尽管 在 事件 之后 做 了 一系列 的 强硬 表态 但 实际上 俄罗斯 也 留下 了 很多 余地 他 并未 宣称 要 击落 在 幼发拉底河 以西 上空 飞行 的 联军 飞机 而 只是 说 跟踪 和 监视 作为 一个 大国 俄罗斯 处理 这 类 事情 时会 充分考虑 到 力量 和 实力 因素 在 力量 和 实力 不济 的 情况 下 他 会 选择 更加 稳妥 的 处理 方式 面对 如今 叙利亚 的 局势 俄罗斯 与 美军 硬干 的 可能性 并不大'"
      ]
     },
     "execution_count": 144,
     "metadata": {},
     "output_type": "execute_result"
    }
   ],
   "source": [
    "new_content[5404]"
   ]
  },
  {
   "cell_type": "code",
   "execution_count": 145,
   "metadata": {},
   "outputs": [],
   "source": [
    "from functools import reduce\n",
    "from operator import and_"
   ]
  },
  {
   "cell_type": "code",
   "execution_count": 147,
   "metadata": {},
   "outputs": [],
   "source": [
    "d1, d2, d3 = {1, 2, 3}, {4, 5, 6, 3, 2}, {1, 3, 4}"
   ]
  },
  {
   "cell_type": "code",
   "execution_count": 163,
   "metadata": {},
   "outputs": [],
   "source": [
    "def search_engine(query):\n",
    "    \"\"\"\n",
    "    @query is the searched words, splited by space\n",
    "    @return is the related documents which ranked by tfidf similarity\n",
    "    \"\"\"\n",
    "    words = query.split()\n",
    "    \n",
    "    query_vec = vectorized.transform([' '.join(words)]).toarray()[0]\n",
    "\n",
    "    candidates_ids = [word_2_id[w] for w in words]\n",
    "    \n",
    "    documents_ids = [\n",
    "         set(np.where(transposed_x[_id])[0]) for _id in candidates_ids\n",
    "    ]\n",
    "    \n",
    "    merged_documents = reduce(and_, documents_ids)\n",
    "    # we could know the documents which contain these words\n",
    "    sorted_docuemtns_id = sorted(merged_documents, key=lambda i: distance(query_vec, X[i].toarray()))\n",
    "\n",
    "    return sorted_docuemtns_id"
   ]
  },
  {
   "cell_type": "code",
   "execution_count": 149,
   "metadata": {},
   "outputs": [
    {
     "data": {
      "text/plain": [
       "(array([2272, 6163, 7951], dtype=int64),)"
      ]
     },
     "execution_count": 149,
     "metadata": {},
     "output_type": "execute_result"
    }
   ],
   "source": [
    "np.where(vectorized.transform(['美联储 加息 次数']).toarray()[0])"
   ]
  },
  {
   "cell_type": "code",
   "execution_count": 150,
   "metadata": {},
   "outputs": [],
   "source": [
    "text = \"\"\"新华社洛杉矶４月８日电（记者黄恒）美国第三舰队８日发布声明说，该舰队下属的“卡尔·文森”航母战斗群当天离开新加坡，\n",
    "改变原定驶往澳大利亚的任务计划，转而北上，前往西太平洋朝鲜半岛附近水域展开行动。\\n　　该舰队网站主页发布的消息说，美军太平\n",
    "洋司令部司令哈里·哈里斯指示“卡尔·文森”航母战斗群向北航行。这一战斗群包括“卡尔·文森”号航空母舰、海军第二航空队、两艘\n",
    "“阿利·伯克”级导弹驱逐舰和一艘“泰孔德罗加”级导弹巡洋舰。\\n　　“卡尔·文森”号航母的母港位于美国加利福尼亚州的圣迭戈，\n",
    "今年１月初前往西太平洋地区执行任务，并参与了日本及韩国的军事演习。\\n　　美国有线电视新闻网援引美国军方官员的话说，\n",
    "“‘卡尔·文森’号此次行动是为了对近期朝鲜的挑衅行为作出回应”。（完）\"\"\""
   ]
  },
  {
   "cell_type": "code",
   "execution_count": 151,
   "metadata": {},
   "outputs": [
    {
     "name": "stdout",
     "output_type": "stream",
     "text": [
      "新华社洛杉矶４月８日电（记者黄恒）美国第三舰队８日发布声明说，该舰队下属的“卡尔·文森”航母战斗群当天离开新加坡，\n",
      "改变原定驶往澳大利亚的任务计划，转而北上，前往西太平洋朝鲜半岛附近水域展开行动。\n",
      "　　该舰队网站主页发布的消息说，美军太平\n",
      "洋司令部司令哈里·哈里斯指示“卡尔·文森”航母战斗群向北航行。这一战斗群包括“卡尔·文森”号航空母舰、海军第二航空队、两艘\n",
      "“阿利·伯克”级导弹驱逐舰和一艘“泰孔德罗加”级导弹巡洋舰。\n",
      "　　“卡尔·文森”号航母的母港位于美国加利福尼亚州的圣迭戈，\n",
      "今年１月初前往西太平洋地区执行任务，并参与了日本及韩国的军事演习。\n",
      "　　美国有线电视新闻网援引美国军方官员的话说，\n",
      "“‘卡尔·文森’号此次行动是为了对近期朝鲜的挑衅行为作出回应”。（完）\n"
     ]
    }
   ],
   "source": [
    "print(text)"
   ]
  },
  {
   "cell_type": "code",
   "execution_count": 152,
   "metadata": {},
   "outputs": [],
   "source": [
    "import re"
   ]
  },
  {
   "cell_type": "code",
   "execution_count": 153,
   "metadata": {},
   "outputs": [],
   "source": [
    "text = \"\"\"美国有线电视新闻网援引美国军方官员的话说\"\"\""
   ]
  },
  {
   "cell_type": "code",
   "execution_count": 154,
   "metadata": {},
   "outputs": [],
   "source": [
    "pat = r'(新闻|官员)'"
   ]
  },
  {
   "cell_type": "code",
   "execution_count": 155,
   "metadata": {},
   "outputs": [
    {
     "data": {
      "text/plain": [
       "'美国有线电视**新闻**网援引美国军方**官员**的话说'"
      ]
     },
     "execution_count": 155,
     "metadata": {},
     "output_type": "execute_result"
    }
   ],
   "source": [
    "re.compile(pat).sub(repl=\"**\\g<1>**\", string=text)"
   ]
  },
  {
   "cell_type": "code",
   "execution_count": 156,
   "metadata": {},
   "outputs": [],
   "source": [
    "def get_query_pat(query):\n",
    "    return re.compile('({})'.format('|'.join(query.split())))"
   ]
  },
  {
   "cell_type": "code",
   "execution_count": 157,
   "metadata": {},
   "outputs": [
    {
     "data": {
      "text/plain": [
       "re.compile(r'(美军|司令|航母)', re.UNICODE)"
      ]
     },
     "execution_count": 157,
     "metadata": {},
     "output_type": "execute_result"
    }
   ],
   "source": [
    "get_query_pat('美军 司令 航母')"
   ]
  },
  {
   "cell_type": "code",
   "execution_count": 158,
   "metadata": {},
   "outputs": [],
   "source": [
    "def highlight_keywords(pat, document):\n",
    "    return pat.sub(repl=\"**\\g<1>**\", string=document)"
   ]
  },
  {
   "cell_type": "code",
   "execution_count": 159,
   "metadata": {},
   "outputs": [
    {
     "data": {
      "text/plain": [
       "'\\u3000\\u3000新华社北京４月１０日电新闻分析：“卡尔·文森”号**航母**缘何成西太平洋军情新主角\\\\n\\u3000\\u3000新华社记者刘莉莉\\\\n\\u3000\\u3000美国海军第三舰队下属的“卡尔·文森”号**航母**打击群即将抵达西太平洋朝鲜半岛附近水域。分析人士认为，美方此次急调**航母**打击群北上，向朝鲜施压意图明显，很可能会加剧朝鲜半岛紧张局势。\\\\n\\u3000\\u3000（小标题）侧重对地攻击\\\\n\\u3000\\u3000据第三舰队网站主页发布的消息，**美军**太平洋**司令**部**司令**哈里·哈里斯指示“卡尔·文森”号**航母**打击群从新加坡向北航行。这一打击群还包括海军第二航空队、两艘“阿利·伯克”级导弹驱逐舰和一艘“泰孔德罗加”级导弹巡洋舰。\\\\n\\u3000\\u3000“卡尔·文森”号是“尼米兹”级核动力**航母**，母港位于美国加利福尼亚州的圣迭戈，今年１月初，“卡尔·文森”号曾前往西太平洋地区执行任务，并参与美日韩三国军事演习。“尼米兹”级**航母**是核动力多用途**航母**，也是美国海军远洋作战群的核心力量。\\\\n\\u3000\\u3000“卡尔·文森”**航母**打击群中，“阿利·伯克”级导弹驱逐舰和“泰孔德罗加”级导弹巡洋舰也不可小视。“阿利·伯克”级导弹驱逐舰是世界上最先配备四面相控阵雷达的驱逐舰，舰队防空是其主要作战任务。“泰孔德罗加”级导弹巡洋舰的武器配备也比较全面，涵盖了反潜、反舰、防空和对地４个种类。\\\\n\\u3000\\u3000据军事专业人士介绍，**航母**打击群与**航母**战斗群其实是两个概念，战斗群侧重于夺取制海权，例如海战；而**航母**打击群更侧重于对地攻击作战。一般而言，打击群的舰艇数量要远少于战斗群。\\\\n\\u3000\\u3000（小标题）配角跻身主角\\\\n\\u3000\\u3000第三舰队是美国海军太平洋舰队两大舰队之一，拥有４个**航母**打击群，分别是以“卡尔·文森”号为核心的第一**航母**打击群、以“约翰·斯坦尼斯”号为核心的第三**航母**打击群、以“西奥多·罗斯福”号为核心的第九**航母**打击群和以“尼米兹”号为核心的第十一**航母**打击群。\\u3000\\\\n\\u3000\\u3000资深军事评论员石宏说，在美国海军力量中，第三舰队原本地位一般，因为其所管辖的国际日期变更线以东的东太平洋比较安稳，所以更多扮演战略预备队的配角角色。只有在负责执行前沿部署和应急反应任务的第七舰队有需要时，第三舰队才会奉令前去换班或增援。但自２０１５年下半年以来，太平洋舰队打破了延续数十年的惯例，大幅提升第三舰队的活跃度，令其开始更多涉足西太平洋地区。\\\\n\\u3000\\u3000“实际上，这是**美军**根据新的‘全球一体化’军事战略而做的调整，目的是优化资源、改变本土与前沿的兵力平衡，缓解目前美国海军兵力不足与战线过长、资源下滑与保持战备之间的尖锐矛盾，”石宏说。\\\\n\\u3000\\u3000正因如此，“卡尔·文森”号**航母**开始忙碌起来。自从今年１月离开母港后，“卡尔·文森”号边走边练，特别是在夏威夷和关岛水域与当地驻扎部队进行了多轮演训。２月１８日，“卡尔·文森”号**航母**进入南海水域进行所谓“巡航”；３月１５日，“卡尔·文森”号抵达韩国釜山，随后在２０日参加了美韩“关键决断”联合军演。４月４日，“卡尔·文森”号抵达新加坡，原本计划南下前往澳大利亚，但随后接到再度北上命令，赶往朝鲜半岛附近海域。\\\\n\\u3000\\u3000（小标题）或在火上浇油\\\\n\\u3000\\u3000一名不愿公开姓名的五角大楼官员告诉美国有线电视新闻网，“卡尔·文森”号**航母**打击群驶向西太平洋的朝鲜半岛水域，“旨在对近期朝鲜的挑衅行为作出回应”。\\\\n\\u3000\\u3000包括“卡尔·文森”号在内的美国海军新近动向引起各方关注。不少人担心，这一行动将给半岛紧张局势火上浇油。俄罗斯议会上院防务和安全委员会主席维克托·奥泽罗夫警告说，美国动作可能会刺激朝鲜方面作出急躁反应。\\\\n\\u3000\\u3000石宏认为，美国急调“卡尔·文森”号**航母**打击群赶赴半岛附近水域，是想通过军事施压，迫使朝鲜放弃进行新一轮核试验的打算。但从以往经验看，美国用不断加码的军事威慑不仅不会让半岛局势降温，反而会刺激朝鲜越发强硬。（完）\\u3000'"
      ]
     },
     "execution_count": 159,
     "metadata": {},
     "output_type": "execute_result"
    }
   ],
   "source": [
    "highlight_keywords(get_query_pat('美军 司令 航母'), content['content'][22987])"
   ]
  },
  {
   "cell_type": "code",
   "execution_count": 160,
   "metadata": {},
   "outputs": [],
   "source": [
    "from IPython.display import display, Markdown"
   ]
  },
  {
   "cell_type": "code",
   "execution_count": 164,
   "metadata": {},
   "outputs": [],
   "source": [
    "def search_engine_with_pretty_print(query):\n",
    "    candidate_ids = search_engine(query)\n",
    "    pat = get_query_pat(query)\n",
    "    for i, id_ in enumerate(candidate_ids):\n",
    "        title = '### Search Result {} ###'.format(i)\n",
    "        c = content['content'][id_]\n",
    "        c = highlight_keywords(pat, c)\n",
    "        \n",
    "        display(Markdown(title + '\\n' + c))"
   ]
  },
  {
   "cell_type": "code",
   "execution_count": 165,
   "metadata": {},
   "outputs": [
    {
     "data": {
      "text/markdown": [
       "### Search Result 0 ###\n",
       "最近，不少人在朋友圈等个人社交媒体上吐槽打车难。人们发现，不仅在早晚高峰，甚至是传统的非高峰时段，都出现了路上扬招成功率越来越低，打车软件不加价或是加价少难以吸引司机接单的情况。而类似的情况，在上海、北京、武汉等地都或多或少地存在。\r\n",
       "对此，一些城市迅游车的驾驶员们表示，历年**春节**前，都会遇到活多车少的情况。对司机而言，能加价赚到钱，何乐而不为呢？\r\n",
       "21日晚8点，滴滴高级产品总监罗文在知乎上发文回应称，根据后台数据显示：今年司机回家早，运力下降。在其晒出有关“滴滴在线司机数据”和“北京订单需求”的两张手绘图表中，虽然隐去了具体数值，但可以明显看出，前一张图表近期呈现了直线下降趋势，标注数据显示下降超过25%。而出行订单数量则同期上涨了3成。\r\n",
       "不过，在线司机变少的情况，仅仅是因为临近**假期**，专车司机纷纷提早回家过年造成的吗？\r\n",
       "相关数据显示，自去年国庆之后，地方版网约车新政陆续出台后，市场上的网约车供给量就呈现出大幅减少的趋势。以上海为例，网约车新政之后，上海合规的网约车数量只有1万辆左右，市场供给大幅减少，打车难开始悄然回潮。\r\n",
       "与此同时，网约车市场过度集中，部分平台一家独大。也让消费者瞬间，难以从补贴优惠的温情脉脉中回过神来，瞬间跌入了加价才能叫到车的冰冷现实中。\r\n",
       "一位Uber中国早期员工指出，滴滴打车软件，自动设置了加价选项，即便第一次加价没被接单，还可以再次加价叫车。司机知道用户可以多次选择加价，就有意不接那些不加价的单子。他知道你叫不到车就会提高小费，就故意等着。于是，这个潜规则的结果，就是乘客反复加价才能叫到车，既浪费了时间，也付了更多的钱。\r\n",
       "对于近日有消费者称打车难、打车贵的问题，23日下午，滴滴出行官方微博发布《致广大用户的一封信》表示，将从即日起，在全国范围内阶段性取消出租车“建议调度费”功能，以减少因为春运期间本身供不应求和价格因素带来的体验问题。\r\n",
       "滴滴方面表示，此举将有可能给部分乘客带来呼叫等待时间的增加，以及打车成功率降低的影响。不过，为了鼓励在**春节**期间坚持出车的司机师傅，仍会保留用户主动给予调度费的功能，**春节**过后会根据用户的反馈再做决策。并强调，所有调度费滴滴分文不取。\r\n"
      ],
      "text/plain": [
       "<IPython.core.display.Markdown object>"
      ]
     },
     "metadata": {},
     "output_type": "display_data"
    },
    {
     "data": {
      "text/markdown": [
       "### Search Result 1 ###\n",
       "\\n新华社上海4月4日新媒体专电题：中国人愿意为旅游投入更多时间和金钱\\n新华社记者陈爱平、许晓青\\n28岁的上海白领林夏今年清明节没有留在家乡，而是提前请了年假，赴印度洋上的岛国斯里兰卡自助游。\\n“一个人全部花费，不超过1万元人民币，约等于一个月的工资，完全可以负担得起。”她说。\\n对于不少中国人来说，旅游已经成为一种“生活必需品”。\\n\\n　　图为在上海市徐汇区的一家旅行社门店，一位市民询问欧洲游情况.（新华社记者陈爱平摄）\\n\\n除了扫墓祭祖、踏青赏花，中国的清明节**假期**也成为出游旺季。国内游、出境游人数都不可小觑。\\n前不久，记者来到上海市黄浦区出入境办证中心大厅。工作人员说，今年以来，前来办理出入境证件的居民络绎不绝。尤其是祖孙三代一起来办理证件的全家出行者增多。除了**春节**七天长假，还有清明、“五一”、端午等三天左右的小长假，这些**假期**到来前的一个月，“突击”办理出入境证件的居民往往会扎堆。\\n中国《2016年国民经济和社会发展统计公报》显示，2016年，全国国内游客44亿人次，比上年增长11.2%；国内居民出境13513万人次，增长5.7%。\\n旅游消费旺盛的趋势在2017年开年后仍然延续：根据中国国家旅游局数据中心综合测算，2017年**春节**期间，全国共接待游客3.44亿人次，同比增长13.8%，实现旅游总收入4233亿元，同比增长15.9%。\\n\\n　　斯里兰卡的”狮子岩“景区.（由林夏提供）\\n\\n远在北欧的瑞典，当地的旅游主管部门也感受到了中国人越来越高涨的出游热情。\\n统计显示，2017年1月，中国游客在瑞典全国的“间夜量”（衡量酒店在一定时间内出租率的计算单位）同比增长74.2%。同期，瑞典首都斯德哥尔摩“总间夜量”增长超过10%，其中中国游客增长幅度最为显著，高达82%。\\n瑞典旅游局中国区首席代表李春梅表示，瑞典冬季旅游市场在中国发展迅速，得益于中国游客对于新鲜目的地和独特旅游体验的旺盛需求。\\n在线旅行社携程旅行网近日发布的《2017中国旅游者意愿调查报告》研判，中国人愿意为旅游投入更多的时间和金钱。\\n报告称：2017年，98%的受访者有出游意愿。其中计划出行频次1－3次的受访者占比72%，计划出行4－6次的受访者占比19%。\\n作为一种“必需品”，旅游正成为中国人消费的重要支出。同是携程这份根据2.5亿会员进行的随机抽样调查及大数据分析报告显示，57%的受访者预计全年旅游花费占年收入的10%以上；19%的受访者甚至愿意将20%的年收入用于旅游。从具体金额来看，73%的受访者表示，全年旅游人均花费将超过1万元。\\n\\n　　超过5成受访者预计全年旅游花费占年收入的１０％以上。（由携程旅行网提供）\\n\\n林夏在接受采访时也证实，自己花费在旅游上的年均消费，大约为2万元。\\n专家分析，随着中国居民收入提升，在旅游方面的支出提升成为居民消费升级的例证。“多花一点钱，可以多体验一点旅行的幸福感”，这成为大部分游客的一项共识。\\n也正是基于上述原因，多家在线旅行社大数据显示，越来越多的中国居民愿意选择更舒适的酒店、体验美食和享受服务；旅游产品亦更加多样化：定制游、自由行等选择空间更大，亲子游、中老年游等满足社会多层次需求的旅游产品在2017年将持续火爆。\\n从出行时间看，携程报告显示，随着带薪休假制度的落实以及中国居民出行观念的改变，利用年假、周末出游的受访者分别占比52.7%及19%。\\n清明节**假期**，仅4月2日当天，上海顾村公园就刷新了接待游客纪录，迎来18.29万人。驴妈妈旅游网分析，今年国内赏樱游人次预计同比增长近7成。\\n驴妈妈旅游网介绍，“赏花”亦是近期出境旅游的热词之一：清明节前后，赴日赏樱游预订人次较去年同期增加了近3成。\\n\\n　　无锡十八湾风景区赏花游人络绎不绝。（由驴妈妈旅游网提供）\\n\\n上海财经大学旅游管理系主任何建民分析，旅游成为中国居民的“必需品”，亦成为中国国民经济的“必需品”，见证着中国正在推进的供给侧改革。\\n中国国家旅游局数据显示，全国旅游直接投资在2016年达到12997亿元，同比增长29.05%。而据联合国世界旅游组织测算，2016年中国旅游业对国民经济综合贡献率达11%、对社会就业综合贡献超过10.26%。\\n此前中国发布的《“十三五”旅游业发展规划》提出，“十三五”时期旅游业对国民经济的综合贡献度达到12%，对餐饮、住宿、民航、铁路客运业的综合贡献率达到85%以上，年均新增旅游就业人数100万人以上。\\n今年3月初公布的《“十三五”全国旅游公共服务规划》，重点部署了未来旅游公共服务发展的16项重点工程。专家认为，这将为中国居民出游提供更好保障。\\n“我计划每年至少到境外旅游一次，这样在下一次更换护照的时候，又会收集到更多各国特色的出入境签证及印章。加上国内游短途游，今后还会花更多钱和时间，去享受旅行。”林夏说。\\n"
      ],
      "text/plain": [
       "<IPython.core.display.Markdown object>"
      ]
     },
     "metadata": {},
     "output_type": "display_data"
    },
    {
     "data": {
      "text/markdown": [
       "### Search Result 2 ###\n",
       "　　新华社北京3月31日电（记者魏梦佳、钟雅）记者31日从北京市公园管理中心获悉，今年清明假日期间，北京市属11家公园及中国园林博物馆将举办25项假日游园活动。其中，各大公园内总面积近1000公顷的主题赏花景区，将掀起市民游客游园赏花热潮。\\n　　目前北京各大公园内一片春意盎然，各类春花正热闹绽放。北京市公园管理中心表示，今年春季，市属11家公园的春花观赏面积达到了园内绿地面积的70%。除了常年定植的四季花木，各园还采用了花期调控、精品盆栽、室内花展等多种技术手段和展示方式，使今春花卉布置总面积增加近10%。\\n　　今年清明**假期**，各园近千公顷的赏花景区将成为市民游客度假的首选。玉渊潭公园的樱花节、陶然亭公园的海棠春花节、中山公园的郁金香展、北京植物园的桃花节等**春节**赏花活动都已展开，各色春花依山傍水，争相吐艳，本周末还将迎来新一轮盛花期。其中，陶然亭公园栽植和展出的海棠达45个品种、3000多株。\\n　　除赏花外，清明诗会、民俗展示、文化展演、主题纪念等多种展示清明文化的活动也将在陶然亭公园、玉渊潭公园、中国园林博物馆等上演。香山公园双清别墅、中山公园孙中山像等13处北京公园爱国主义教育基地也将迎来大批前来缅怀祭扫的游客市民。清明期间，各公园内的祭扫纪念景区将市民及团体提供讲解、举行纪念仪式、牌示导览等服务。（完）\\n"
      ],
      "text/plain": [
       "<IPython.core.display.Markdown object>"
      ]
     },
     "metadata": {},
     "output_type": "display_data"
    },
    {
     "data": {
      "text/markdown": [
       "### Search Result 3 ###\n",
       "即将进入7月，对于城市学生而言，美好的暑假又如期而至了，而对于另一群人——留守儿童而言，迎接他们的却是一个“冷清”的**假期**。离开了学校，没有了老师和同学的陪伴，也没有父母的守护，他们的**假期**是孤单而乏味的。\r\n",
       "记者从清远相关部门获悉，清远农村留守儿童约2.39万名，数量在全省排名第四。留守儿童长期缺乏亲情关爱和有效保护，处境堪忧。为做好农村留守儿童关爱保护工作，促进农村留守儿童健康成长。近年来，清远不断完善制度方案为留守儿童撑起“保护伞”。\r\n",
       "就在今年4月份，清远市政府常务会议审议了《清远市关于加强农村留守儿童关爱保护工作的实施方案》（稿）），提出建立考核机制，强化激励问责。对成效明显的，按照国家有关规定予以激励。对工作不力、措施不实、造成不良影响的，按规定追究相关人员的党纪政纪责任；造成严重后果的将对有关领导进行问责。\r\n",
       "清远市心理学会会长张万英认为，不能让“留守儿童”成为“缺爱儿童”。不能经常和孩子在一起生活的父母，要争取多与孩子保持常态联系；不要让“留守儿童”成为“无助儿童”，政府要完善社区中留守儿童服务的功能，关注学生成长中遇到的生理、心理问题。\r\n",
       "●采写/整理：魏金锋\r\n",
       "“半年难见爹和娘”的无奈\r\n",
       "每年七八月间，都是清远最热的时段。而往日喧闹的校园，一到这时便进入**假期**，一片沉寂。\r\n",
       "“留守儿童真凄凉，半年难见爹和娘，放学回家忙家务，夜里梦中唤爹娘。”是农村留守儿童的真实写照。在粤北山区的清远市农村，“半年难见爹和娘”的儿童实在是太普遍了。为了给家人更好的生活环境，许多青壮年选择了背井离乡。他们像候鸟一样，每年**春节**刚过，便飞向沿海各个城市打工，直到下一个**春节**的到来，半年甚至几年不回家，也是常有的事。\r\n",
       "对于很多父母在外务工的农村留守儿童而言，无论是留在家里，还是到父母身边团聚，怎样度过长达两个月的暑假，都是个难题。\r\n",
       "一位经常在清远参加各种公益活动的志愿者刘小姐说，很多次当他们乘坐的车子进入到村头时，就像突然注入了活力一般，孩子们三三两两飞奔过来，小村瞬间变得生动起来。“孩子们好奇地围着大巴转，因为他们盼望父母会从车上走下来，可惜不是。”\r\n",
       "目前，清远农村留守儿童数量在全省排名第四。留守儿童因为家庭环境的特殊性，在性格方面容易出现孤僻、偏激、冲动、攻击性比较强等缺陷；而亲情的缺乏和监管的缺失，让他们更容易受到外界因素的伤害。\r\n",
       "笔者走访了解到，喜的是，由于父母不在身边，不少留守儿童在艰难的环境中早早学会了生存的技能，变得顽强独立；忧的是，个别留守儿童因为缺乏大人监管，安全隐患重重。\r\n",
       "留守儿童也牵动着政府的心。近年来，清远各地通过政府购买服务等形式，探索和创新解决留守儿童问题的方式和途径，取得一定成效，但依旧任重道远。还需不断健全关爱留守儿童的法律和政策体系，强化父母法定监护责任等途径，缓解留守儿童问题。\r\n",
       "亲情缺失监管缺乏的隐患\r\n",
       "由于外出打工的父母长年累月难得有机会回一趟家，留守儿童缺乏父母的监护和保护，往往容易遭受伤害，比如溺水、烧伤、车祸甚至是性侵等等。\r\n",
       "“其实我们也知道父母长期不在家对孩子的身心健康和学习会带来负面影响，但这是痛苦无奈的选择。”家住清远阳山的何先生夫妇感慨良多。他家有一双儿女，由于家里田地少，经济窘困，在小女儿断奶后，就把孩子留给年迈的父母抚养，夫妇俩到了佛山打工，一干就是9年多，每半年夫妻俩才轮流回家一两天。\r\n",
       "9年过去了，夫妻俩好不容易挣了一些钱，去年回家盖起了新楼，并添置了一批家用电器。可谁知由于他俩长年不在家，两个孩子对父母的感情似乎都很生疏，大儿子经常逃学，小小年纪学会了抽烟饮酒，让这何先生夫妇非常伤心。\r\n",
       "业内人士指出，留守儿童之所以容易出问题，主要还是思想道德教育得不到足够的重视。由于学校师资力量及父母不在身边教育的原因，留守儿童思想道德教育被严重忽视。\r\n",
       "隔代监护人大多忙于务农，无暇教育儿童。而且，隔代监护人由于自身素质限制，教育水平不高、手段不当，不少留守儿童隔代监护人采取暴力手段“教育”儿童，错误的教育方式导致错误的教育成果。\r\n",
       "此外，由于农村师资力量水平的限制，留守儿童在音乐、美术、舞蹈等艺术类学习上机会非常少甚至是基本空白。乡村小学对体育课、心理健康教育课的师资投入极少，留守儿童长期得不到心理生理健康教育上的辅导，导致容易出现沉迷网络、电视及抽烟喝酒等不良习惯。\r\n",
       "让留守儿童的暑假不再孤单\r\n",
       "张万英认为，留守儿童因为家庭环境的特殊性，在性格方面容易出现孤僻、偏激、冲动、攻击性比较强等缺陷；人格上容易出现精神问题，如抑郁症、焦虑、恐惧、人际交往障碍等；在学习方面容易出现学习落后、缺乏动力等；跟家庭关系也会相对紧张，容易跟家里人产生冲突，难以和谐相处。\r\n",
       "农村留守儿童问题需要家庭、学校和社会的共同努力。一是加快新农村建设和小城镇建设，吸引外出农民工返乡就业创业，使留守儿童能够与父母团聚；二是学校要加强对留守儿童的关爱和照顾，可通过及时家访，定时为孩子做心理疏导等方式，多方位关爱留守儿童的身心健康；三是政府要健全关爱留守儿童的法律和政策体系，完善监护制度和国家救助体系，强化父母法定监护责任。\r\n",
       "张万英认为，不要让“留守儿童”成为“缺爱儿童”。不能经常和孩子在一起生活的父母，要争取多与孩子保持常态联系，经常打电话关心孩子，了解他们的心理需要，给予更多的心理关爱，如发现自己孩子出现异常行为，要及时和孩子沟通，避免孩子走上极端的道路。\r\n",
       "业内人士指出，相对于父母在身边的孩子不同，留守儿童的暑假一般只有三个选择，而这三个选择都潜伏着很大的安全隐患。\r\n",
       "一是乘车前往父母所在地，与父母一起度过**假期**，旅途比较危险，尤其是独自前往；二是在家帮助爷爷奶奶干活，小小年纪很容易出现安全事故；三是自由安排，这是最危险的，没有大人看护，孩子极有可能出事。\r\n",
       "该业内人士建议，要给孩子制定好科学作息时间，有大人在家的应该严厉监督，别让孩子养成坏习惯。在制定作息时间时，父母们应该以少量平均的安排学习任务，避免孩子荒废学业。有大人家督可以很好地防止孩子到处乱跑，引发安全事故。“因为暑假不像平时在学校，孩子有同学朋友相伴，长时间的呆在家里，孩子很容易孤单，这需要父母的关怀来开解，不然很容易让孩子的叛逆情绪增长起来，甚至让孩子逐渐自闭。”\r\n",
       "此外，不妨借用智能设备掌握孩子行踪，避免孩子靠近危险地带或出入禁止未成年人进入的场所，把影响孩子成长的一切不安因素拒之千里。\r\n",
       "■聚焦\r\n",
       "超6个月不履行职责或撤销监护资格\r\n",
       "《清远市关于加强农村留守儿童关爱保护工作的实施方案》指出，建立农村留守儿童摸底排查机制。按照属地管理、分级负责的原则，建立县、镇、村（居）委会关爱农村留守儿童三级工作服务网络。\r\n",
       "建立农村留守儿童发现报告机制，民政部门要会同财政、教育、卫计、公安、住建、团委等部门和单位建立社会参与面广、覆盖面大、渠道顺畅和相应快速的留守儿童报告网络，制定留守儿童信息报告激励办法，鼓励社会各界积极参与留守儿童关爱保护工作。\r\n",
       "对实施家庭暴力、虐待或遗弃农村家庭留守儿童的父母或受委托监护人，公安机关应当给予批评教育，必要时给予治安管理处罚，情节恶劣构成犯罪的，依法立案侦查。\r\n",
       "对于监护人将农村留守儿童置于无人监管和照看状态导致其面临危险且经教育不改的，或者拒不履行监护职责6个月以上导致农村留守儿童生活无着的，或者实施家庭暴力、虐待或遗弃农村留守儿童导致其身心健康严重受损的，其近亲属、村（居）委会、县民政部门等有关人员或单位要依法向人民法院申请撤销监护人资格，另行指定监护人。\r\n",
       "方案指出，父母要依法履行对未成年子女的监护职责和抚养义务。外出务工人员要尽量携带未成年子女共同生活或父母一方留家照料，暂不具备条件的应当委托有监护能力的亲属或其他成年人代为监护，不得让未满16周岁的儿童脱离监护单独居住生活。外出务工时，父母要向当地村（居）委会报告外出务工及留守儿童、委托监护人的情况。\r\n",
       "父母或其他监护人不依法履行监护职责，村（居）委会、公安机关和有关部门要及时上门予以劝诫、制止；情节严重或造成严重后果的，公安机关等要依法追究其责任，强化家庭监护主体责任。\r\n",
       "加大教育部门和学校关爱保护力度。各县级政府要完善控辍保学部门协调机制，督促监护人送适龄儿童、少年入学并完成义务教育。教育部门要负责落实免费义务教育和教育资助政策，确保农村留守儿童不因贫困而失学；改善留守儿童教育条件，加强留守儿童教育基础设施建设，优化农村义务教育学校布局。\r\n",
       "■关注\r\n",
       "如何防止留守儿童溺亡悲剧？\r\n",
       "清远是依山傍水的城市，每到夏季，游泳是不少人的至爱。尤其在学生放**假期**间，江河边戏水似乎成了一种不可或缺的乐趣，可惜几乎每年都有学生溺水身亡的事故发生。\r\n",
       "留守儿童的安全一直是个大问题，在上学时有学校的约束还好，可是一旦放假后，父母又不在身边，家里老人又看不住孩子，孩子的身边就像埋藏了无数颗炸弹。而且儿童自救能力较差。不少去玩水的儿童都不会游泳，但在同伴邀约下，冒险下水嬉戏，溺水后，由于同伴大多年纪小、能力有限，一旦遇险，惊慌失措，难以互救，极易发生群体溺亡事故。\r\n",
       "笔者从清远市教育部门获悉，近年来，清远全市因溺水事故死亡学生每年都有10人左右，占所有非正常死亡学生数的大约一半。\r\n",
       "为此，今年5月份召开的清远全市防溺水视频工作会议强调，各地各部门要把预防学生溺水工作纳入当前重要议事日程，抓好辖区内中小学、幼儿园安全管理，加强安全宣传教育；强化周边水域排查，加强隐患整改。对因制度不健全、管理不到位、责任不落实，导致安全责任事故的，将按照有关规定严肃追究相关人员的责任。\r\n",
       "学校还要会同村委会、社区居委会，做好校园及其周边溺水安全隐患的排查，一方面要在校内水池、河道、沟渠等易发生溺水的地方设置警示标志，加强防护设施；另一方面要通过教师、学生家长或社区居委会、村委会摸清学校周边各类江河、池塘、溪流等水域的安全隐患，在校内提前对学生进行安全警示。\r\n",
       "据悉，清远市政府将组织相关人员成立督查组，对各地及相关部门的防溺水工作落实情况进行督查。对发生安全事故的，要按照“四不放过”原则，加强责任追究，对因制度不健全、管理不到位、责任不落实，导致安全责任事故的，要按照有关规定严肃追究相关人员的责任。\r\n"
      ],
      "text/plain": [
       "<IPython.core.display.Markdown object>"
      ]
     },
     "metadata": {},
     "output_type": "display_data"
    },
    {
     "data": {
      "text/markdown": [
       "### Search Result 4 ###\n",
       "中国新闻：\\n\\n*公鉴：关于“新华全媒”新闻服务平台上线的公告\\n\\n*(脱贫攻坚)(6)云南禄劝：苗寨村民易地搬迁过上新生活\\n\\n*新华社摄影部今日重要稿件预告\\n\\n*(图片故事)(10)“挠挠”所长履职记\\n\\n*(新华视点·图片版)(2)港珠澳大桥岛隧工程海底隧道的最终接头对接完成\\n\\n*(法治)(8)中意警方在沪联合巡逻\\n\\n*(时代先锋·图文互动)(5)仰望最亮“星”勿忘造星人——记航天科技集团五院“通信卫星创新团队”\\n\\n*(文化)(8)“民族翰骨”潘天寿诞辰120周年纪念大展在京开幕\\n\\n*(文化)(2)校园里的朗读者\\n\\n*(图文互动)(5)台籍青年教师黄志伟：“我在武汉找到了舞台”——新华旺中“台胞在大陆”联合采访报道之二\\n\\n*(一带一路)(5)一带一路好日子——元旦\\n\\n*(一带一路)(5)一带一路好日子——**春节**\\n\\n*(一带一路)(5)一带一路好日子——泼水节\\n\\n*(一带一路)(4)一带一路好日子——洒红节\\n\\n*(一带一路)(4)一带一路好日子——诺鲁孜节\\n\\n*(社会)(2)铁路青年工地约会觅良缘\\n\\n*(经济)河北宣化发展现代农业助农增收\\n\\n*(经济)(2)河北宣化：打造高端装备制造产业集群\\n\\n*(服务)(3)西安：高速公路收费站开通手机支付业务\\n\\n*(文化)(3)《东京审判——为了世界和平》一书国内首发\\n\\n*(社会)(2)校园倡清风\\n\\n*(社会)(3)重温入团誓词传承“五四”精神\\n\\n*(体育)(2)排球——朱婷回乡与媒体、球迷互动\\n\\n*(社会)(4)扎根农村干事业村官摸索致富路\\n\\n*(体育)(1)自行车——第五届环巴松措国际山地自行车赛落幕\\n\\n*(社会)(4)高铁微客服受旅客欢迎\\n\\n*(时政)张高丽会见阿联酋外交与国际合作部长阿卜杜拉\\n\\n*(新华全媒头条·图文互动)(10)港珠澳大桥全线贯通在即粤港澳大湾区加速起航\\n\\n*(社会)(2)辽宁海警开展清查整治“三无”船舶专项行动\\n\\n*(环境)乌鲁木齐遭遇短时雨雪冰雹天气\\n\\n*(社会)(5)港珠澳大桥工程上的“大国重器”\\n\\n*(体育)(2)足球——足协杯：杭州绿城胜辽宁开新\\n\\n*#(经济)(3)三峡船闸累计货运量突破10亿吨\\n\\n*#(社会)(3)内蒙古大兴安岭北部火场外线合围　明火被扑灭\\n\\n*#(环境)(3)湖北宣恩：“鸽子花”悄然开放\\n\\n*#(社会)(4)山西永济：鹳雀楼前旗袍秀\\n\\n*#(图片故事)(7)苗乡“90后草根乐队”寻梦记\\n\\n\\n国际新闻：\\n\\n*(XHDW)(2)奥地利外长访问利比亚\\n\\n*(国际)(5)德国一快速列车在多特蒙德中央火车站发生出轨事故\\n\\n*(国际)(5)“非洲火人节”收官\\n\\n*(新华视界)(10)在纽约寄兴园体验中国园林之美\\n\\n*(国际)(10)在纽约寄兴园体验中国园林之美\\n\\n*(XHDW)重庆芭蕾舞团参加阿尔及利亚国际现代舞艺术节\\n\\n*(国际)(10)美国各地民众举行劳动节游行\\n\\n*(国际)(3)圣彼得堡举行“五一”劳动节游行\\n\\n*(国际)哈马斯发布新政策文件接受划界建国\\n\\n*(一带一路·好项目)(7)蒙内铁路——肯尼亚的铁路“中国造”\\n\\n*(XHDW)(3)第48届休斯敦国际海洋油气技术大会及设备展开幕\\n\\n*(国际·图文互动)专访：中国的发展将对欧洲未来发展产生重大影响——访匈牙利外交与对外经济部长西亚尔托\\n\\n*(国际·图文互动)(3)走进挪威峡湾深处的“书镇”\\n\\n*(国际)中国海军远航访问编队结束访问离开菲律宾\\n\\n*(XHDW)(5)昂山素季访问欧盟\\n\\n*(国际)(6)科学家丁肇中的日常生活\\n\\n*(国际)(9)韩国举行最后一次总统候选人电视辩论\\n\\n*(国际)(4)以色列庆祝独立日\\n\\n*(新华视界)(5)以色列庆祝独立日\\n\\n*(一带一路·好项目)(11)中国企业承建特拉维夫轻轨项目\\n\\n*(国际)(5)德国一快速列车在多特蒙德中央火车站发生出轨事故\\n\\n*(国际)(5)“非洲火人节”收官\\n\\n*(国际)(10)在纽约寄兴园体验中国园林之美\\n\\n*(国际)(10)美国各地民众举行劳动节游行\\n\\n*(国际)(3)圣彼得堡举行“五一”劳动节游行\\n\\n*(国际)哈马斯发布新政策文件接受划界建国\\n\\n*(一带一路·好项目)(7)蒙内铁路——肯尼亚的铁路“中国造”\\n\\n*(国际·图文互动)专访：中国的发展将对欧洲未来发展产生重大影响——访匈牙利外交与对外经济部长西亚尔托\\n\\n*新华社摄影部2017年05月02日白班发稿目录(国际对内)\\n\\n*(国际·图文互动)(3)走进挪威峡湾深处的“书镇”\\n\\n*(国际)中国海军远航访问编队结束访问离开菲律宾\\n\\n*(国际)(6)科学家丁肇中的日常生活\\n\\n*(国际)(9)韩国举行最后一次总统候选人电视辩论\\n\\n*(国际)(4)以色列庆祝独立日\\n\\n*(一带一路·好项目)(11)中国企业承建特拉维夫轻轨项目\\n\\n\\n体育专线：\\n\\n一、发专线稿件：\\n*(体育)(8)斯诺克——塞尔比夺得世锦赛冠军\\n*(体育)(6)足球——英超联赛：利物浦客场告捷\\n*(体育)(6)篮球——NBA季后赛：火箭胜马刺\\n*(体育)(7)篮球——NBA季后赛：骑士胜猛龙\\n*(体育)(5)排球——朱婷回乡与媒体、球迷互动\\n*(体育)(2)自行车——第五届环巴松措国际山地自行车赛落幕\\n*(体育)(5)足球——在葡萄牙托里什人队训练的中国小球员\\n*(体育)(8)足球——足协杯：呼和浩特小草胜长春亚泰\\n*(体育)(5)足球——足协杯：杭州绿城胜辽宁开新\\n*(体育)(7)足球——足协杯：山东鲁能胜吉林百嘉\\n\\n二、发对外稿件：\\n*(XHDW)(体育)(10)篮球——香港甲一男子篮球联赛赛况\\n\\n\\n图表专线：\\n\\n*公鉴：关于“新华全媒”新闻服务平台上线的公告\\n\\n*（图表）[财经·股市]纽约股市涨跌互现\\n\\n*（图表）[财经·金价]纽约金价1日大幅下跌\\n\\n*（图表）[财经·油价]纽约油价1日下跌\\n\\n*（图表）[突发事件]哥伦比亚一军用飞机坠毁\\n\\n*（图表）[科技]科普：冥想有助集中精力\\n\\n*新华社摄影部2017年05月02日白天发稿目录(图表专线)\\n\\n*（图表）[关注五一]“五一”**假期**全国铁路发送旅客近4900万人次\\n\\n*（图表·漫画）[财经·聚焦]“美化”\\n\\n*（图表·漫画）[财经·聚焦]突击增长\\n\\n*（图表·漫画）[科技]成功破译\\n\\n*（图表）[科技]月掩恒星“轩辕十四”罕见天象5月4日上演\\n\\n*（图表）[经济]美财长说美国经济有望实现3％增长目标\\n\\n*（图表·漫画）[新华视点]签约\\n\\n*（图表·漫画）[解读经济开局季·民生工程]“精神敬老”\\n\\n*（图表）[受权发布]国务院关于修改《大中型水利水电工程建设征地补偿和移民安置条例》的决定\\n\\n*（图表·漫画）[解读经济开局季·民生工程]精神孤独\\n\\n*（图表）[财经·动态]深圳新房均价出现“七连跌”4月成交量环比大涨146%\\n\\n*（图表）[经济]财政部：物流企业大宗商品仓储用地土地使用税享50%优惠\\n\\n\\n外代图片一线：\\n\\n*(外代一线)(9)德国一快速列车在多特蒙德中央火车站发生出轨事故\\n\\n*(外代一线)(10)美国得州一大学校园发生持刀扎人事件\\n\\n*(外代一线)(5)阿联酋与德国讨论地区安全形势\\n\\n*(外代一线)(12)马杜罗宣布将启动制宪大会重新制定宪法\\n\\n*(外代一线)(2)奥地利外长表示将继续支持利比亚民族团结政府\\n\\n*(外代一线)(6)哈马斯发布新政策文件接受划界建国\\n\\n*(外代一线)(7)加拿大多伦多金融区传出爆炸声\\n\\n*新华社摄影部2017年05月02日白班发稿目录(外代图片一线)\\n\\n*(外代一线)(9)摩苏尔战事\\n\\n*(外代一线)(18)特朗普说愿在“合适情况”下与金正恩会面\\n\\n*(外代一线)(2)“朴槿惠案”首次预审在首尔举行　辩方律师否认全部指控\\n\\n*(外代一线)(5)昂山素季访问欧盟\\n\\n*(外代一线)(4)韩国举行最后一次总统候选人电视辩论\\n\\n*(外代一线)(13)以色列庆祝独立日\\n\\n\\n外代图片二线：\\n\\n*(外代二线)印度传统婚嫁日\\n\\n*[1](外代二线)“城市里的农民”\\n\\n*[2](外代二线)“城市里的农民”\\n\\n*[3](外代二线)“城市里的农民”\\n\\n*[4](外代二线)“城市里的农民”\\n\\n*[5](外代二线)“城市里的农民”\\n\\n*[6](外代二线)“城市里的农民”\\n\\n*[7](外代二线)“城市里的农民”\\n\\n*[8](外代二线)“城市里的农民”\\n\\n*[9](外代二线)“城市里的农民”\\n\\n*[6](外代二线)戈马舞蹈节\\n\\n*[1](外代二线)彩色烟雾\\n\\n*[2](外代二线)彩色烟雾\\n\\n*[3](外代二线)彩色烟雾\\n\\n*[4](外代二线)彩色烟雾\\n\\n*[5](外代二线)彩色烟雾\\n\\n*[6](外代二线)彩色烟雾\\n\\n*[7](外代二线)彩色烟雾\\n\\n*[6](外代二线)墨西哥航空航天展闭幕表演\\n\\n*[7](外代二线)墨西哥航空航天展闭幕表演\\n\\n*[8](外代二线)墨西哥航空航天展闭幕表演\\n\\n*[1](外代二线)墨西哥航空航天展闭幕表演\\n\\n*[2](外代二线)墨西哥航空航天展闭幕表演\\n\\n*[3](外代二线)墨西哥航空航天展闭幕表演\\n\\n*[4](外代二线)墨西哥航空航天展闭幕表演\\n\\n*[5](外代二线)墨西哥航空航天展闭幕表演\\n\\n*[10](外代二线)戈马舞蹈节\\n\\n*[3](外代二线)福塔莱萨海滨风光\\n\\n*[4](外代二线)福塔莱萨海滨风光\\n\\n*[1](外代二线)福塔莱萨海滨风光\\n\\n*[2](外代二线)福塔莱萨海滨风光\\n\\n*[1](外代二线)俄罗斯摩托车节表演\\n\\n*[2](外代二线)俄罗斯摩托车节表演\\n\\n*[3](外代二线)俄罗斯摩托车节表演\\n\\n*[4](外代二线)俄罗斯摩托车节表演\\n\\n*[5](外代二线)俄罗斯摩托车节表演\\n\\n*[6](外代二线)俄罗斯摩托车节表演\\n\\n*[7](外代二线)俄罗斯摩托车节表演\\n\\n*[1](外代二线)波兰举行第24届蒸汽机车游行\\n\\n*[2](外代二线)波兰举行第24届蒸汽机车游行\\n\\n*[3](外代二线)波兰举行第24届蒸汽机车游行\\n\\n*[4](外代二线)波兰举行第24届蒸汽机车游行\\n\\n*[5](外代二线)波兰举行第24届蒸汽机车游行\\n\\n*[6](外代二线)波兰举行第24届蒸汽机车游行\\n\\n*[7](外代二线)波兰举行第24届蒸汽机车游行\\n\\n*[8](外代二线)波兰举行第24届蒸汽机车游行\\n\\n*[9](外代二线)波兰举行第24届蒸汽机车游行\\n\\n*[10](外代二线)波兰举行第24届蒸汽机车游行\\n\\n*[11](外代二线)波兰举行第24届蒸汽机车游行\\n\\n*[12](外代二线)波兰举行第24届蒸汽机车游行\\n\\n*[13](外代二线)波兰举行第24届蒸汽机车游行\\n\\n*[14](外代二线)波兰举行第24届蒸汽机车游行\\n\\n*[15](外代二线)波兰举行第24届蒸汽机车游行\\n\\n*[16](外代二线)波兰举行第24届蒸汽机车游行\\n\\n*[17](外代二线)波兰举行第24届蒸汽机车游行\\n\\n*[18](外代二线)波兰举行第24届蒸汽机车游行\\n\\n*[19](外代二线)波兰举行第24届蒸汽机车游行\\n\\n*[20](外代二线)波兰举行第24届蒸汽机车游行\\n\\n*[21](外代二线)波兰举行第24届蒸汽机车游行\\n\\n*[22](外代二线)波兰举行第24届蒸汽机车游行\\n\\n*公鉴：关于“新华全媒”新闻服务平台上线的公告\\n\\n*[2](外代二线)多彩花环\\n\\n*[3](外代二线)多彩花环\\n\\n*[4](外代二线)多彩花环\\n\\n\\n\\n新华社摄影部"
      ],
      "text/plain": [
       "<IPython.core.display.Markdown object>"
      ]
     },
     "metadata": {},
     "output_type": "display_data"
    }
   ],
   "source": [
    "search_engine_with_pretty_print('春节 假期')"
   ]
  },
  {
   "cell_type": "code",
   "execution_count": null,
   "metadata": {},
   "outputs": [],
   "source": []
  }
 ],
 "metadata": {
  "kernelspec": {
   "display_name": "Python 3",
   "language": "python",
   "name": "python3"
  },
  "language_info": {
   "codemirror_mode": {
    "name": "ipython",
    "version": 3
   },
   "file_extension": ".py",
   "mimetype": "text/x-python",
   "name": "python",
   "nbconvert_exporter": "python",
   "pygments_lexer": "ipython3",
   "version": "3.7.3"
  }
 },
 "nbformat": 4,
 "nbformat_minor": 2
}
