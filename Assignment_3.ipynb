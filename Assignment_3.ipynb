{
 "cells": [
  {
   "cell_type": "markdown",
   "metadata": {},
   "source": [
    "## Lecture-03 Gradient Descent and Dymanic Programming"
   ]
  },
  {
   "cell_type": "markdown",
   "metadata": {},
   "source": [
    "####  Part 2: change loss function from $loss = \\frac{1}{n}\\sum{(y_i - \\hat(y_i))^2}$ to $loss = \\frac{1}{n}\\sum{|y_i - \\hat{y_i}|}$, and using your mathmatical knowledge to get the right partial formual. Implemen the gradient descent code."
   ]
  },
  {
   "cell_type": "code",
   "execution_count": 1,
   "metadata": {},
   "outputs": [
    {
     "data": {
      "text/plain": [
       "<matplotlib.collections.PathCollection at 0x1a7d5076278>"
      ]
     },
     "execution_count": 1,
     "metadata": {},
     "output_type": "execute_result"
    },
    {
     "data": {
      "image/png": "[encoded data removed]",
      "text/plain": [
       "<Figure size 432x288 with 1 Axes>"
      ]
     },
     "metadata": {
      "needs_background": "light"
     },
     "output_type": "display_data"
    }
   ],
   "source": [
    "from sklearn.datasets import load_boston\n",
    "import matplotlib.pyplot as plt\n",
    "data = load_boston()\n",
    "x,y = data['data'], data['target']\n",
    "%matplotlib inline\n",
    "plt.scatter(x[:,5],y)"
   ]
  },
  {
   "cell_type": "code",
   "execution_count": 2,
   "metadata": {},
   "outputs": [
    {
     "name": "stdout",
     "output_type": "stream",
     "text": [
      "<class 'numpy.ndarray'>\n"
     ]
    }
   ],
   "source": [
    "print(type(x))"
   ]
  },
  {
   "cell_type": "code",
   "execution_count": 3,
   "metadata": {},
   "outputs": [],
   "source": [
    "def price(rm, k, b):\n",
    "    '''f(x) = k*x + b'''\n",
    "    return k*rm +b"
   ]
  },
  {
   "cell_type": "code",
   "execution_count": 4,
   "metadata": {},
   "outputs": [],
   "source": [
    "def loss_abs(y, y_hat):\n",
    "    '''Loss = |y - y_hat| '''\n",
    "    l = [abs(y_i-y_hat_i) for y_i,y_hat_i in zip(list(y), list(y_hat))]\n",
    "    #print(l)\n",
    "    return sum(l)/(len(list(y)))"
   ]
  },
  {
   "cell_type": "code",
   "execution_count": 17,
   "metadata": {},
   "outputs": [
    {
     "name": "stdout",
     "output_type": "stream",
     "text": [
      "116.18786889875452\n",
      "13815.020985295332\n"
     ]
    }
   ],
   "source": [
    "import random\n",
    "current_k = random.random() * 100 - 50\n",
    "current_b = random.random() * 100 - 50\n",
    "price_by_k_and_b = [price(r,current_k,current_b) for r in x[:,5]] \n",
    "current_loss_abs = loss_abs(y, price_by_k_and_b)\n",
    "current_loss_squ = loss_squ(y, price_by_k_and_b)\n",
    "print(current_loss_abs)\n",
    "print(current_loss_squ)"
   ]
  },
  {
   "cell_type": "code",
   "execution_count": 16,
   "metadata": {},
   "outputs": [],
   "source": [
    "def loss_squ(y, y_hat):\n",
    "    return sum((y_i-y_hat_i)**2 for y_i,y_hat_i in zip(list(y), list(y_hat))) / len(list(y))"
   ]
  },
  {
   "cell_type": "code",
   "execution_count": 18,
   "metadata": {},
   "outputs": [],
   "source": [
    "def partial_k(x, y, y_hat):\n",
    "    \n",
    "    n = len(y)\n",
    "    gradient = 0\n",
    "    for x_i, y_i,y_hat_i in zip(list(x),list(y),list(y_hat)):\n",
    "        if y_i >= y_hat_i:\n",
    "            gradient += x_i\n",
    "            return (-1/n)*gradient\n",
    "        else:\n",
    "            gradient += x_i\n",
    "            return (1/n)*gradient"
   ]
  },
  {
   "cell_type": "code",
   "execution_count": 19,
   "metadata": {},
   "outputs": [],
   "source": [
    "def partial_b(x, y, y_hat):\n",
    "    \n",
    "    n = len(y)\n",
    "    \n",
    "    for  y_i,y_hat_i in zip(list(y),list(y_hat)):\n",
    "        if y_i >= y_hat_i:\n",
    "            return (-1/n)\n",
    "        else:\n",
    "            return (1/n)"
   ]
  },
  {
   "cell_type": "code",
   "execution_count": 32,
   "metadata": {},
   "outputs": [
    {
     "name": "stdout",
     "output_type": "stream",
     "text": [
      "tims:0, min_loss:32116.760693632918, best_k:35.25624833525505, best_b:-20.89343117163345\n",
      "tims:1000, min_loss:21195.374408509386, best_k:30.058619876758357, best_b:-21.683945005624206\n",
      "tims:2000, min_loss:12539.17762852078, best_k:24.860991418261662, best_b:-22.474458839614964\n",
      "tims:3000, min_loss:6148.170353667047, best_k:19.663362959764967, best_b:-23.264972673605723\n",
      "tims:4000, min_loss:2022.3525839479123, best_k:14.465734501267747, best_b:-24.05548650759648\n",
      "tims:5000, min_loss:161.72431936395094, best_k:9.268106042769276, best_b:-24.84600034158724\n",
      " min_loss:44.72925790627177, best_k:7.469726596128896, best_b:-25.11951812814804\n"
     ]
    }
   ],
   "source": [
    "import random\n",
    "trying_times = 10000\n",
    "x_rm = x[:,5]\n",
    "\n",
    "min_loss = float('inf')\n",
    "current_k = random.random() * 100 - 50\n",
    "current_b = random.random() * 100 - 50\n",
    "\n",
    "\n",
    "\n",
    "learning_rate = 0.4\n",
    "for i in range(trying_times):\n",
    "    \n",
    "    price_by_k_and_b = [price(r,current_k,current_b) for r in x_rm] \n",
    "    \n",
    "    #current_loss = loss_abs(y, price_by_k_and_b)\n",
    "    current_loss = loss_squ(y, price_by_k_and_b)\n",
    "    k_gradient = partial_k(x_rm, y, price_by_k_and_b)\n",
    "    \n",
    "    b_gradient = partial_b(x_rm, y, price_by_k_and_b)\n",
    "    \n",
    "    #ic(type(y))\n",
    "    \n",
    "    \n",
    "    \n",
    "    if current_loss < min_loss: #perform better\n",
    "        min_loss = current_loss\n",
    "        \n",
    "        if i %1000 == 0:\n",
    "            \n",
    "            print('tims:{}, min_loss:{}, best_k:{}, best_b:{}'.format(i, min_loss, current_k, current_b))\n",
    "        \n",
    "    k_gradient = partial_k(x_rm, y, price_by_k_and_b)\n",
    "    #print(k_gradient)\n",
    "    b_gradient = partial_b(x_rm, y, price_by_k_and_b)\n",
    "    #print(b_gradient)\n",
    "    current_k = current_k - k_gradient * learning_rate\n",
    "    current_b = current_b - b_gradient * learning_rate\n",
    "    #print(current_k)\n",
    "print(' min_loss:{}, best_k:{}, best_b:{}'.format( min_loss, current_k, current_b))"
   ]
  },
  {
   "cell_type": "markdown",
   "metadata": {},
   "source": [
    "### 这里随机初始k b ，导致可能会收敛到一些局部解，多运行几次找到全局最优解"
   ]
  },
  {
   "cell_type": "code",
   "execution_count": 35,
   "metadata": {},
   "outputs": [
    {
     "data": {
      "text/plain": [
       "<matplotlib.collections.PathCollection at 0x1a7d53bcba8>"
      ]
     },
     "execution_count": 35,
     "metadata": {},
     "output_type": "execute_result"
    },
    {
     "data": {
      "image/png": "[encoded data removed]",
      "text/plain": [
       "<Figure size 432x288 with 1 Axes>"
      ]
     },
     "metadata": {
      "needs_background": "light"
     },
     "output_type": "display_data"
    }
   ],
   "source": [
    "k = 7.469726596128896\n",
    "b = -25.11951812814804\n",
    "price_by_random_k_and_b = [price(r,k, b) for r in x_rm]\n",
    "\n",
    "\n",
    "plt.scatter(x_rm, y)\n",
    "plt.scatter(x_rm, price_by_random_k_and_b)"
   ]
  },
  {
   "cell_type": "markdown",
   "metadata": {},
   "source": [
    "## Part 3: Finish the Solution Parse Part of Edit-Distance"
   ]
  },
  {
   "cell_type": "code",
   "execution_count": 36,
   "metadata": {},
   "outputs": [],
   "source": [
    "solution = {}"
   ]
  },
  {
   "cell_type": "code",
   "execution_count": 37,
   "metadata": {},
   "outputs": [],
   "source": [
    "def edit_distance(string1, string2):\n",
    "    \n",
    "    if len(string1) == 0: return len(string2)\n",
    "    if len(string2) == 0: return len(string1)\n",
    "    \n",
    "    tail_s1 = string1[-1]\n",
    "    tail_s2 = string2[-1]\n",
    "    \n",
    "    candidates = [\n",
    "        (edit_distance(string1[:-1], string2) + 1, 'DEL {}'.format(tail_s1)),  # string 1 delete tail\n",
    "        (edit_distance(string1, string2[:-1]) + 1, 'ADD {}'.format(tail_s2)),  # string 1 add tail of string2\n",
    "    ]\n",
    "    \n",
    "    if tail_s1 == tail_s2:\n",
    "        both_forward = (edit_distance(string1[:-1], string2[:-1]) + 0, '')\n",
    "    else:\n",
    "        both_forward = (edit_distance(string1[:-1], string2[:-1]) + 1, 'SUB {} => {}'.format(tail_s1, tail_s2))\n",
    "\n",
    "    candidates.append(both_forward)\n",
    "    \n",
    "    min_distance, operation = min(candidates, key=lambda x: x[0])\n",
    "    \n",
    "    solution[(string1, string2)] = operation \n",
    "    \n",
    "    #print(string1,string2,candidates)\n",
    "    return min_distance"
   ]
  },
  {
   "cell_type": "code",
   "execution_count": 38,
   "metadata": {},
   "outputs": [
    {
     "data": {
      "text/plain": [
       "2"
      ]
     },
     "execution_count": 38,
     "metadata": {},
     "output_type": "execute_result"
    }
   ],
   "source": [
    "solution = {}\n",
    "edit_distance('ABC', 'B')"
   ]
  },
  {
   "cell_type": "code",
   "execution_count": 39,
   "metadata": {},
   "outputs": [
    {
     "data": {
      "text/plain": [
       "{('A', 'B'): 'SUB A => B', ('AB', 'B'): '', ('ABC', 'B'): 'DEL C'}"
      ]
     },
     "execution_count": 39,
     "metadata": {},
     "output_type": "execute_result"
    }
   ],
   "source": [
    "solution"
   ]
  },
  {
   "cell_type": "code",
   "execution_count": 54,
   "metadata": {},
   "outputs": [
    {
     "data": {
      "text/plain": [
       "2"
      ]
     },
     "execution_count": 54,
     "metadata": {},
     "output_type": "execute_result"
    }
   ],
   "source": [
    "edit_distance('ACF', 'ABE')"
   ]
  },
  {
   "cell_type": "code",
   "execution_count": 67,
   "metadata": {},
   "outputs": [
    {
     "data": {
      "text/plain": [
       "[(('c', 'c'), ''),\n",
       " (('c', 'c1'), 'ADD 1'),\n",
       " (('c', 'c12'), 'ADD 2'),\n",
       " (('c', 'c128'), 'ADD 8'),\n",
       " (('c', 'c128C'), 'ADD C')]"
      ]
     },
     "execution_count": 67,
     "metadata": {},
     "output_type": "execute_result"
    }
   ],
   "source": [
    "list(solution.items())[0:5]"
   ]
  },
  {
   "cell_type": "code",
   "execution_count": 56,
   "metadata": {},
   "outputs": [
    {
     "name": "stdout",
     "output_type": "stream",
     "text": [
      "<class 'str'>\n"
     ]
    }
   ],
   "source": [
    "print(type(solution[('A','A')]))"
   ]
  },
  {
   "cell_type": "code",
   "execution_count": 57,
   "metadata": {},
   "outputs": [],
   "source": [
    "operation = []\n",
    "def parse_edit_distance(string1, string2):\n",
    "    '''operation : the steps string1 needs to take to transform into string2'''\n",
    "    global operation\n",
    "    if not string1: return string2\n",
    "    if not string2: return string1\n",
    "    \n",
    "    \n",
    "    operation.append(solution[(string1, string2)])\n",
    "    \n",
    "    if len(string1) < len(string2):\n",
    "        return parse_edit_distance(string1[:], string2[:-1])\n",
    "    elif len(string1) > len(string2):\n",
    "        return parse_edit_distance(string1[:-1], string2[:])\n",
    "    else:\n",
    "        return parse_edit_distance(string1[:-1], string2[:-1])"
   ]
  },
  {
   "cell_type": "code",
   "execution_count": 58,
   "metadata": {},
   "outputs": [
    {
     "data": {
      "text/plain": [
       "''"
      ]
     },
     "execution_count": 58,
     "metadata": {},
     "output_type": "execute_result"
    }
   ],
   "source": [
    "#test 1  len(s1) = len(s2)\n",
    "s1 = 'ABCD'\n",
    "s2 = 'ABEF'\n",
    "\n",
    "solution = {}\n",
    "edit_distance(s1,s2)\n",
    "operation = []\n",
    "parse_edit_distance(s1,s2)"
   ]
  },
  {
   "cell_type": "code",
   "execution_count": 59,
   "metadata": {},
   "outputs": [
    {
     "data": {
      "text/plain": [
       "['SUB D => F', 'SUB C => E', '', '']"
      ]
     },
     "execution_count": 59,
     "metadata": {},
     "output_type": "execute_result"
    }
   ],
   "source": [
    "operation"
   ]
  },
  {
   "cell_type": "code",
   "execution_count": 60,
   "metadata": {},
   "outputs": [
    {
     "data": {
      "text/plain": [
       "['SUB D => F', 'SUB C => E', '', '']"
      ]
     },
     "execution_count": 60,
     "metadata": {},
     "output_type": "execute_result"
    }
   ],
   "source": [
    "#s1 = 'ABCD'\n",
    "#s2 = 'ABEF'\n",
    "operation"
   ]
  },
  {
   "cell_type": "code",
   "execution_count": 61,
   "metadata": {},
   "outputs": [
    {
     "data": {
      "text/plain": [
       "''"
      ]
     },
     "execution_count": 61,
     "metadata": {},
     "output_type": "execute_result"
    }
   ],
   "source": [
    "#test 1  len(s1) > len(s2)\n",
    "s1 = '13579'\n",
    "s2 = '1346'\n",
    "\n",
    "solution = {}\n",
    "edit_distance(s1,s2)\n",
    "operation = []\n",
    "parse_edit_distance(s1,s2)"
   ]
  },
  {
   "cell_type": "code",
   "execution_count": 62,
   "metadata": {},
   "outputs": [
    {
     "data": {
      "text/plain": [
       "''"
      ]
     },
     "execution_count": 62,
     "metadata": {},
     "output_type": "execute_result"
    }
   ],
   "source": [
    "#test 1  len(s1) < len(s2)\n",
    "s1 = '139'\n",
    "s2 = '13454'\n",
    "\n",
    "solution = {}\n",
    "edit_distance(s1,s2)\n",
    "operation = []\n",
    "parse_edit_distance(s1,s2)"
   ]
  },
  {
   "cell_type": "code",
   "execution_count": 63,
   "metadata": {},
   "outputs": [
    {
     "data": {
      "text/plain": [
       "['ADD 4', 'ADD 5', 'SUB 9 => 4', '', '']"
      ]
     },
     "execution_count": 63,
     "metadata": {},
     "output_type": "execute_result"
    }
   ],
   "source": [
    "operation"
   ]
  },
  {
   "cell_type": "code",
   "execution_count": 64,
   "metadata": {},
   "outputs": [
    {
     "data": {
      "text/plain": [
       "''"
      ]
     },
     "execution_count": 64,
     "metadata": {},
     "output_type": "execute_result"
    }
   ],
   "source": [
    "#test 1  len(s1) < len(s2)\n",
    "s1 = 'c129'\n",
    "s2 = 'c128CD'\n",
    "\n",
    "solution = {}\n",
    "edit_distance(s1,s2)\n",
    "operation = []\n",
    "parse_edit_distance(s1,s2)"
   ]
  },
  {
   "cell_type": "code",
   "execution_count": 65,
   "metadata": {},
   "outputs": [
    {
     "data": {
      "text/plain": [
       "['ADD D', 'ADD C', 'SUB 9 => 8', '', '', '']"
      ]
     },
     "execution_count": 65,
     "metadata": {},
     "output_type": "execute_result"
    }
   ],
   "source": [
    "operation"
   ]
  },
  {
   "cell_type": "code",
   "execution_count": null,
   "metadata": {},
   "outputs": [],
   "source": []
  },
  {
   "cell_type": "markdown",
   "metadata": {},
   "source": [
    "## Part 5-1: review machine learning"
   ]
  },
  {
   "cell_type": "markdown",
   "metadata": {},
   "source": [
    "#### 1.Why do we use Derivative / Gredient to fit a target function?  \n",
    "  \n",
    "Ans:Because we can give some directions to the target function(usually the Loss function). So that the target function can converge rapidly.\n",
    "\n",
    "#### 2.In the words 'Gredient Descent', what's the Gredient and what's the Descent?  \n",
    "  \n",
    "Ans: The gradient is a multi-variable generalization of the derivative.Descent means to take steps proportional to the negative of the gradient, and find the local minimum.\n",
    "\n",
    "#### 3.What's the advantages of the 3rd gradient descent method compared to the previous methods?  \n",
    "  \n",
    "Ans:The 1st method don't have directions, it takes lots of resources to get the proper k and b.  \n",
    "The 2nd way has directions but not always the right one.  \n",
    "After all, the 3rd method, has a clear direction and move on effiently.\n",
    "\n",
    "#### 4.Using the simple words to describe: What's the machine leanring.  \n",
    "  \n",
    "Ans:  automatic; data analysis"
   ]
  },
  {
   "cell_type": "markdown",
   "metadata": {},
   "source": [
    "## Part 5: Answer following questions:"
   ]
  },
  {
   "cell_type": "markdown",
   "metadata": {},
   "source": [
    "1. Why do we need dynamic programming? What's the difference of dynamic programming and previous talked search problme?  \n",
    "\n",
    "Ans: a.Dynamic Programming can solve complex problems which consists of overlapping subproblems.  \n",
    "b.Search problem contains different nodes needed to be visited while dynamic programming contains some overlapping nodes(subproblems).  \n",
    "3. Why do we still need dynamic programming? Why not we train a machine learning to fit a function which could get the right answer based on inputs?  \n",
    "\n",
    "Ans:In my opinion, both method are able to solve problem. The point is dynamic programming is more suitable to solve problems with clear and fewer inputs. In contrast, ML do better when dealing with big data(large inputs).\n",
    "4. Can you catch up at least 3 problems which could solved by Dynamic Programming?  \n",
    "\n",
    "Ans:1.Cutting Length 2.Edit Distance 3.Fibonacci sequence\n",
    "Can you catch up at least 3 problems wich could sloved by Edit Distance?  \n",
    "Ans:1.拼写联想 2.拼写检查 3.数字匹配  \n",
    "5. Please summarize the three main features of Dynamic Programming, and make a concise explain for each feature.  \n",
    "\n",
    "Ans: 1.Overlapping Subproblems. The problem can be divided into overlapping subproblems\n",
    "2.Overlapping computing saved in a table. We can solve subproblems and stored it in a table.\n",
    "3.Parsing Solution. Solution is the table we need to look up so that the problem is solved.\n",
    "6. What's the disadvantages of Dynamic Programming? (You may need search by yourself in Internet)  \n",
    "\n",
    "Ans:1.No general formation of Dynamic Program is available; every problem has to be solving in its own way.\n",
    "2.Dividing problem in sub problem and storing inter mediate results consumes memory.  \n",
    "Quoted from Quora [https://www.quora.com/What-are-the-advantages-and-disadvantages-of-dynamic-programming]"
   ]
  },
  {
   "cell_type": "markdown",
   "metadata": {},
   "source": [
    "## Part 6 Preparation of Project-01\n",
    "Using python Flask or Bottle to finish your first simple web app:\n",
    "\n",
    "https://bottlepy.org/\n",
    "\n",
    "Learn what's the SQL, and try some simple SQL operations:\n",
    "\n",
    "https://www.w3schools.com/sql/sql_intro.asp\n",
    "\n",
    "Learn what's the HTML ( ONLY need to know the basic things)\n",
    "\n",
    "https://getbootstrap.com/; https://www.w3schools.com/html/"
   ]
  },
  {
   "cell_type": "code",
   "execution_count": null,
   "metadata": {},
   "outputs": [],
   "source": []
  }
 ],
 "metadata": {
  "kernelspec": {
   "display_name": "Python 3",
   "language": "python",
   "name": "python3"
  },
  "language_info": {
   "codemirror_mode": {
    "name": "ipython",
    "version": 3
   },
   "file_extension": ".py",
   "mimetype": "text/x-python",
   "name": "python",
   "nbconvert_exporter": "python",
   "pygments_lexer": "ipython3",
   "version": "3.7.0"
  },
  "toc": {
   "base_numbering": 1,
   "nav_menu": {},
   "number_sections": true,
   "sideBar": true,
   "skip_h1_title": false,
   "title_cell": "Table of Contents",
   "title_sidebar": "Contents",
   "toc_cell": false,
   "toc_position": {},
   "toc_section_display": true,
   "toc_window_display": false
  },
  "varInspector": {
   "cols": {
    "lenName": 16,
    "lenType": 16,
    "lenVar": 40
   },
   "kernels_config": {
    "python": {
     "delete_cmd_postfix": "",
     "delete_cmd_prefix": "del ",
     "library": "var_list.py",
     "varRefreshCmd": "print(var_dic_list())"
    },
    "r": {
     "delete_cmd_postfix": ") ",
     "delete_cmd_prefix": "rm(",
     "library": "var_list.r",
     "varRefreshCmd": "cat(var_dic_list()) "
    }
   },
   "types_to_exclude": [
    "module",
    "function",
    "builtin_function_or_method",
    "instance",
    "_Feature"
   ],
   "window_display": false
  }
 },
 "nbformat": 4,
 "nbformat_minor": 2
}
